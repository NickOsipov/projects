{
 "cells": [
  {
   "cell_type": "markdown",
   "metadata": {},
   "source": [
    "# Анализ результатов A/B теста по изменению цен, для мобильного dating-приложения."
   ]
  },
  {
   "cell_type": "markdown",
   "metadata": {},
   "source": [
    "## Описание:\n",
    "- На новых пользователях в некоторых странах был проведен A/B-тест. Его суть\n",
    "заключалась в том, что для тестовой группы удвоили стоимость премиум-подписки при\n",
    "покупке через платежные системы Google Play и Payment Ninja. Стоимость пробной\n",
    "подписки не менялась.\n",
    "- Премиум подписка дает доступ к некоторым важным заблокированным функциям.\n",
    "Если приобретает премиум-подписку, то ежемесячно с него списывается\n",
    "фиксированная сумма денег, если он ее не отменит.\n",
    "- Мы попробовали выяснить, удачен ли эксперимент. "
   ]
  },
  {
   "cell_type": "markdown",
   "metadata": {},
   "source": [
    "# Интерактивный план исследования\n",
    "\n",
    "[01. Предобработка данных](#dataload)\n",
    "\n",
    "[02. Визуализация](#visual)\n",
    "\n",
    "[03. Проверка гипотез](#hypotesis)\n",
    "\n",
    "[04. Выводы](#recap)"
   ]
  },
  {
   "cell_type": "markdown",
   "metadata": {},
   "source": [
    "## 01. Предобработка данных\n",
    "<a id='dataload'></a>"
   ]
  },
  {
   "cell_type": "markdown",
   "metadata": {},
   "source": [
    "Подключим необходимые библиотеки."
   ]
  },
  {
   "cell_type": "code",
   "execution_count": 1,
   "metadata": {},
   "outputs": [],
   "source": [
    "# !pip install prettytable"
   ]
  },
  {
   "cell_type": "code",
   "execution_count": 2,
   "metadata": {},
   "outputs": [],
   "source": [
    "import os\n",
    "import numpy as np\n",
    "import pandas as pd\n",
    "import seaborn as sns\n",
    "import prettytable as pt\n",
    "import matplotlib as mpl\n",
    "import matplotlib.pyplot as plt\n",
    "from scipy import stats as st\n",
    "%matplotlib inline\n",
    "%config InlineBackend.print_figure_kwargs={'facecolor' : '#D9D9D9'}\n",
    "sns.set(rc={'figure.figsize': (9, 6)})"
   ]
  },
  {
   "cell_type": "markdown",
   "metadata": {},
   "source": [
    "Загрузим таблицы в формате csv из папки Data."
   ]
  },
  {
   "cell_type": "code",
   "execution_count": 3,
   "metadata": {},
   "outputs": [
    {
     "name": "stdout",
     "output_type": "stream",
     "text": [
      "Список файлов:\n",
      "payments_CG1.csv\n",
      "payments_CG2.csv\n",
      "payments_TG.csv\n",
      "portrait_CG1.csv\n",
      "portrait_CG2.csv\n",
      "portrait_TG.csv\n",
      "\n",
      "Список названий таблиц: \n",
      "payments_CG1\n",
      "payments_CG2\n",
      "payments_TG\n",
      "portrait_CG1\n",
      "portrait_CG2\n",
      "portrait_TG\n"
     ]
    }
   ],
   "source": [
    "import os\n",
    "list_tables_csv = []\n",
    "list_tables_names = []\n",
    "for root, dirs, files in os.walk(\"Data\"):  \n",
    "    for filename in files:\n",
    "        list_tables_csv.append(filename)\n",
    "        list_tables_names.append(filename[0:-4])\n",
    "print(\"Список файлов:\", *list_tables_csv, sep=\"\\n\", end=\"\\n\\n\")\n",
    "print(\"Список названий таблиц: \", *list_tables_names, sep=\"\\n\")"
   ]
  },
  {
   "cell_type": "code",
   "execution_count": 4,
   "metadata": {},
   "outputs": [],
   "source": [
    "payments_CG1 = pd.read_csv(f\"Data/{list_tables_csv[0]}\", sep=\";\")\n",
    "payments_CG2 = pd.read_csv(f\"Data/{list_tables_csv[1]}\", sep=\";\")\n",
    "payments_TG  = pd.read_csv(f\"Data/{list_tables_csv[2]}\", sep=\";\")"
   ]
  },
  {
   "cell_type": "code",
   "execution_count": 5,
   "metadata": {},
   "outputs": [],
   "source": [
    "portrait_CG1 = pd.read_csv(f\"Data/{list_tables_csv[3]}\", sep=\";\")\n",
    "portrait_CG2 = pd.read_csv(f\"Data/{list_tables_csv[4]}\", sep=\";\")\n",
    "portrait_TG  = pd.read_csv(f\"Data/{list_tables_csv[5]}\", sep=\";\")"
   ]
  },
  {
   "cell_type": "markdown",
   "metadata": {},
   "source": [
    "- TG - тестовая группа с новыми ценами\n",
    "- CG1, CG2 - контрольные группы со старыми ценами"
   ]
  },
  {
   "cell_type": "markdown",
   "metadata": {},
   "source": [
    "### 01.01 Первоначальный просмотр данных"
   ]
  },
  {
   "cell_type": "markdown",
   "metadata": {},
   "source": [
    "Рассмотрим таблицы."
   ]
  },
  {
   "cell_type": "code",
   "execution_count": 6,
   "metadata": {},
   "outputs": [
    {
     "data": {
      "text/html": [
       "<div>\n",
       "<style scoped>\n",
       "    .dataframe tbody tr th:only-of-type {\n",
       "        vertical-align: middle;\n",
       "    }\n",
       "\n",
       "    .dataframe tbody tr th {\n",
       "        vertical-align: top;\n",
       "    }\n",
       "\n",
       "    .dataframe thead th {\n",
       "        text-align: right;\n",
       "    }\n",
       "</style>\n",
       "<table border=\"1\" class=\"dataframe\">\n",
       "  <thead>\n",
       "    <tr style=\"text-align: right;\">\n",
       "      <th></th>\n",
       "      <th>user_id</th>\n",
       "      <th>registration_date</th>\n",
       "      <th>payment_date</th>\n",
       "      <th>revenue</th>\n",
       "      <th>payment_service_id</th>\n",
       "      <th>place</th>\n",
       "      <th>country</th>\n",
       "      <th>product_type</th>\n",
       "    </tr>\n",
       "  </thead>\n",
       "  <tbody>\n",
       "    <tr>\n",
       "      <th>0</th>\n",
       "      <td>891319275.0</td>\n",
       "      <td>05.11.2017 19:57</td>\n",
       "      <td>12.11.2017 21:57</td>\n",
       "      <td>12727.0</td>\n",
       "      <td>147.0</td>\n",
       "      <td>TrialVipPopup</td>\n",
       "      <td>FR</td>\n",
       "      <td>trial</td>\n",
       "    </tr>\n",
       "    <tr>\n",
       "      <th>1</th>\n",
       "      <td>892421826.0</td>\n",
       "      <td>14.10.2017 12:46</td>\n",
       "      <td>23.10.2017 12:54</td>\n",
       "      <td>14586.0</td>\n",
       "      <td>147.0</td>\n",
       "      <td>TrialVipPopup</td>\n",
       "      <td>IL</td>\n",
       "      <td>trial</td>\n",
       "    </tr>\n",
       "    <tr>\n",
       "      <th>2</th>\n",
       "      <td>891822480.0</td>\n",
       "      <td>26.10.2017 22:27</td>\n",
       "      <td>12.11.2017 20:59</td>\n",
       "      <td>1911.0</td>\n",
       "      <td>19.0</td>\n",
       "      <td>none</td>\n",
       "      <td>IT</td>\n",
       "      <td>coins</td>\n",
       "    </tr>\n",
       "    <tr>\n",
       "      <th>3</th>\n",
       "      <td>891367521.0</td>\n",
       "      <td>05.11.2017 2:37</td>\n",
       "      <td>06.11.2017 19:15</td>\n",
       "      <td>1456.0</td>\n",
       "      <td>127.0</td>\n",
       "      <td>sympathy_access</td>\n",
       "      <td>IT</td>\n",
       "      <td>other</td>\n",
       "    </tr>\n",
       "    <tr>\n",
       "      <th>4</th>\n",
       "      <td>892207959.0</td>\n",
       "      <td>18.10.2017 18:30</td>\n",
       "      <td>12.11.2017 12:03</td>\n",
       "      <td>1261.0</td>\n",
       "      <td>19.0</td>\n",
       "      <td>EmptyLikes</td>\n",
       "      <td>FR</td>\n",
       "      <td>coins</td>\n",
       "    </tr>\n",
       "  </tbody>\n",
       "</table>\n",
       "</div>"
      ],
      "text/plain": [
       "       user_id registration_date      payment_date  revenue  \\\n",
       "0  891319275.0  05.11.2017 19:57  12.11.2017 21:57  12727.0   \n",
       "1  892421826.0  14.10.2017 12:46  23.10.2017 12:54  14586.0   \n",
       "2  891822480.0  26.10.2017 22:27  12.11.2017 20:59   1911.0   \n",
       "3  891367521.0   05.11.2017 2:37  06.11.2017 19:15   1456.0   \n",
       "4  892207959.0  18.10.2017 18:30  12.11.2017 12:03   1261.0   \n",
       "\n",
       "   payment_service_id            place country product_type  \n",
       "0               147.0    TrialVipPopup      FR        trial  \n",
       "1               147.0    TrialVipPopup      IL        trial  \n",
       "2                19.0             none      IT        coins  \n",
       "3               127.0  sympathy_access      IT        other  \n",
       "4                19.0       EmptyLikes      FR        coins  "
      ]
     },
     "execution_count": 6,
     "metadata": {},
     "output_type": "execute_result"
    }
   ],
   "source": [
    "payments_CG1.head()\n",
    "# payments_CG2.head()\n",
    "# payments_Tg.head()"
   ]
  },
  {
   "cell_type": "markdown",
   "metadata": {},
   "source": [
    "Таблицы payments - платежи пользователей поштучно:\n",
    "- user_id            - закодированный уникальный идентификатор пользователя\n",
    "- registration_date  - дата и время регистрации пользователя\n",
    "- payment_date       - дата и время платежа\n",
    "- revenue            - выручка пользователя, нормированная на некоторый коэффициент\n",
    "- payment_service_id - внутренний идентификатор направления платежа\n",
    "- place              - место перехода в оплату\n",
    "- country            - страна\n",
    "- product_type       - тип продукта"
   ]
  },
  {
   "cell_type": "code",
   "execution_count": 7,
   "metadata": {},
   "outputs": [
    {
     "data": {
      "text/html": [
       "<div>\n",
       "<style scoped>\n",
       "    .dataframe tbody tr th:only-of-type {\n",
       "        vertical-align: middle;\n",
       "    }\n",
       "\n",
       "    .dataframe tbody tr th {\n",
       "        vertical-align: top;\n",
       "    }\n",
       "\n",
       "    .dataframe thead th {\n",
       "        text-align: right;\n",
       "    }\n",
       "</style>\n",
       "<table border=\"1\" class=\"dataframe\">\n",
       "  <thead>\n",
       "    <tr style=\"text-align: right;\">\n",
       "      <th></th>\n",
       "      <th>user_id</th>\n",
       "      <th>age</th>\n",
       "      <th>attraction_distribution</th>\n",
       "      <th>coins</th>\n",
       "      <th>country</th>\n",
       "      <th>retention_days</th>\n",
       "      <th>sex</th>\n",
       "      <th>user_dating.age_start</th>\n",
       "      <th>user_dating.age_end</th>\n",
       "      <th>view_count</th>\n",
       "      <th>was_special</th>\n",
       "      <th>is_special</th>\n",
       "      <th>total_revenue</th>\n",
       "    </tr>\n",
       "  </thead>\n",
       "  <tbody>\n",
       "    <tr>\n",
       "      <th>0</th>\n",
       "      <td>892319115</td>\n",
       "      <td>25</td>\n",
       "      <td>435</td>\n",
       "      <td>NaN</td>\n",
       "      <td>US</td>\n",
       "      <td>1,2,3,4,5,6</td>\n",
       "      <td>0</td>\n",
       "      <td>22</td>\n",
       "      <td>32</td>\n",
       "      <td>982</td>\n",
       "      <td>NaN</td>\n",
       "      <td>NaN</td>\n",
       "      <td>0</td>\n",
       "    </tr>\n",
       "    <tr>\n",
       "      <th>1</th>\n",
       "      <td>891248523</td>\n",
       "      <td>29</td>\n",
       "      <td>500</td>\n",
       "      <td>NaN</td>\n",
       "      <td>US</td>\n",
       "      <td>1,2</td>\n",
       "      <td>1</td>\n",
       "      <td>26</td>\n",
       "      <td>32</td>\n",
       "      <td>12</td>\n",
       "      <td>NaN</td>\n",
       "      <td>NaN</td>\n",
       "      <td>0</td>\n",
       "    </tr>\n",
       "    <tr>\n",
       "      <th>2</th>\n",
       "      <td>891670932</td>\n",
       "      <td>33</td>\n",
       "      <td>800</td>\n",
       "      <td>NaN</td>\n",
       "      <td>FR</td>\n",
       "      <td>1,2,3,5,6,8,9,11,13,16</td>\n",
       "      <td>1</td>\n",
       "      <td>30</td>\n",
       "      <td>36</td>\n",
       "      <td>5</td>\n",
       "      <td>NaN</td>\n",
       "      <td>NaN</td>\n",
       "      <td>0</td>\n",
       "    </tr>\n",
       "    <tr>\n",
       "      <th>3</th>\n",
       "      <td>891060786</td>\n",
       "      <td>26</td>\n",
       "      <td>0</td>\n",
       "      <td>NaN</td>\n",
       "      <td>AR</td>\n",
       "      <td>1,2,3,4,5</td>\n",
       "      <td>1</td>\n",
       "      <td>23</td>\n",
       "      <td>29</td>\n",
       "      <td>0</td>\n",
       "      <td>NaN</td>\n",
       "      <td>NaN</td>\n",
       "      <td>0</td>\n",
       "    </tr>\n",
       "    <tr>\n",
       "      <th>4</th>\n",
       "      <td>892006554</td>\n",
       "      <td>35</td>\n",
       "      <td>294</td>\n",
       "      <td>NaN</td>\n",
       "      <td>US</td>\n",
       "      <td>1,2,3,5,6,7,8,9,10,12,15,16,17,19</td>\n",
       "      <td>1</td>\n",
       "      <td>30</td>\n",
       "      <td>40</td>\n",
       "      <td>17</td>\n",
       "      <td>NaN</td>\n",
       "      <td>NaN</td>\n",
       "      <td>0</td>\n",
       "    </tr>\n",
       "  </tbody>\n",
       "</table>\n",
       "</div>"
      ],
      "text/plain": [
       "     user_id  age  attraction_distribution  coins country  \\\n",
       "0  892319115   25                      435    NaN      US   \n",
       "1  891248523   29                      500    NaN      US   \n",
       "2  891670932   33                      800    NaN      FR   \n",
       "3  891060786   26                        0    NaN      AR   \n",
       "4  892006554   35                      294    NaN      US   \n",
       "\n",
       "                      retention_days  sex  user_dating.age_start  \\\n",
       "0                        1,2,3,4,5,6    0                     22   \n",
       "1                                1,2    1                     26   \n",
       "2             1,2,3,5,6,8,9,11,13,16    1                     30   \n",
       "3                          1,2,3,4,5    1                     23   \n",
       "4  1,2,3,5,6,7,8,9,10,12,15,16,17,19    1                     30   \n",
       "\n",
       "   user_dating.age_end  view_count  was_special  is_special  total_revenue  \n",
       "0                   32         982          NaN         NaN              0  \n",
       "1                   32          12          NaN         NaN              0  \n",
       "2                   36           5          NaN         NaN              0  \n",
       "3                   29           0          NaN         NaN              0  \n",
       "4                   40          17          NaN         NaN              0  "
      ]
     },
     "execution_count": 7,
     "metadata": {},
     "output_type": "execute_result"
    }
   ],
   "source": [
    "portrait_CG1.head()\n",
    "# portrait_CG2.head()\n",
    "# portrait_TG.head()"
   ]
  },
  {
   "cell_type": "markdown",
   "metadata": {},
   "source": [
    "Таблицы portrait - срез состояний пользователя на текущий момент:\n",
    "- user_id - закодированный уникальный идентификатор пользователя\n",
    "- age - возраст пользователя\n",
    "- attraction_distribution - коэффициент привлекательности пользователя (целое\n",
    "число от 0 до 1000 = доля поставленных ему лайков лайков от просмотров *\n",
    "1000)\n",
    "- coins - число монет (внутренняя валюта)\n",
    "- country - страна\n",
    "- retention_days - дни после регистрации, в которые пользователь заходил в\n",
    "приложение (целое число от 0)\n",
    "- sex - пол пользователя\n",
    "- user_dating.age_start - нижняя граница фильтра поиска пользователя\n",
    "- user_dating.age_end - верхняя граница фильтра поиска пользователя\n",
    "- view_count - сколько раз пользователя оценивали"
   ]
  },
  {
   "cell_type": "markdown",
   "metadata": {},
   "source": [
    "Рассмотрим количество объектов, признаков и дубликатов в таблицах."
   ]
  },
  {
   "cell_type": "code",
   "execution_count": 8,
   "metadata": {},
   "outputs": [
    {
     "data": {
      "text/html": [
       "<div>\n",
       "<style scoped>\n",
       "    .dataframe tbody tr th:only-of-type {\n",
       "        vertical-align: middle;\n",
       "    }\n",
       "\n",
       "    .dataframe tbody tr th {\n",
       "        vertical-align: top;\n",
       "    }\n",
       "\n",
       "    .dataframe thead th {\n",
       "        text-align: right;\n",
       "    }\n",
       "</style>\n",
       "<table border=\"1\" class=\"dataframe\">\n",
       "  <thead>\n",
       "    <tr style=\"text-align: right;\">\n",
       "      <th></th>\n",
       "      <th>Количество объектов</th>\n",
       "      <th>Количество признаков</th>\n",
       "      <th>Количество дубликатов</th>\n",
       "    </tr>\n",
       "  </thead>\n",
       "  <tbody>\n",
       "    <tr>\n",
       "      <th>payments_CG1</th>\n",
       "      <td>1007</td>\n",
       "      <td>8</td>\n",
       "      <td>650</td>\n",
       "    </tr>\n",
       "    <tr>\n",
       "      <th>payments_CG2</th>\n",
       "      <td>328</td>\n",
       "      <td>8</td>\n",
       "      <td>5</td>\n",
       "    </tr>\n",
       "    <tr>\n",
       "      <th>payments_TG</th>\n",
       "      <td>273</td>\n",
       "      <td>8</td>\n",
       "      <td>7</td>\n",
       "    </tr>\n",
       "    <tr>\n",
       "      <th>portrait_CG1</th>\n",
       "      <td>4340</td>\n",
       "      <td>13</td>\n",
       "      <td>0</td>\n",
       "    </tr>\n",
       "    <tr>\n",
       "      <th>portrait_CG2</th>\n",
       "      <td>4264</td>\n",
       "      <td>13</td>\n",
       "      <td>0</td>\n",
       "    </tr>\n",
       "    <tr>\n",
       "      <th>portrait_TG</th>\n",
       "      <td>4308</td>\n",
       "      <td>13</td>\n",
       "      <td>0</td>\n",
       "    </tr>\n",
       "  </tbody>\n",
       "</table>\n",
       "</div>"
      ],
      "text/plain": [
       "              Количество объектов  Количество признаков  Количество дубликатов\n",
       "payments_CG1                 1007                     8                    650\n",
       "payments_CG2                  328                     8                      5\n",
       "payments_TG                   273                     8                      7\n",
       "portrait_CG1                 4340                    13                      0\n",
       "portrait_CG2                 4264                    13                      0\n",
       "portrait_TG                  4308                    13                      0"
      ]
     },
     "execution_count": 8,
     "metadata": {},
     "output_type": "execute_result"
    }
   ],
   "source": [
    "shapes_index = [\"Количество объектов\", \"Количество признаков\", \"Количество дубликатов\"]\n",
    "shapes_dict = {f\"{list_tables_names[i]}\" : \n",
    "               (eval(list_tables_names[i]).shape[0], \n",
    "                eval(list_tables_names[i]).shape[1], \n",
    "                eval(list_tables_names[i]).duplicated().sum())\n",
    "               for i in range(len(list_tables_names))}\n",
    "\n",
    "shapes_dict = pd.DataFrame(shapes_dict, index=shapes_index).transpose()\n",
    "shapes_dict"
   ]
  },
  {
   "cell_type": "markdown",
   "metadata": {},
   "source": [
    "Количество признаков в таблицах по группам совпадает.\n",
    "Количество объектов в таблице payments_CG1 превышает в 3 раза количество объектов в таблицах payments_CG2, payments_TG, но имеет 650 дубликатов.\n",
    "Рассмотрим таблицу payments_CG1 на предмет NaN-значений."
   ]
  },
  {
   "cell_type": "markdown",
   "metadata": {},
   "source": [
    "### 01.02 Таблицы payments"
   ]
  },
  {
   "cell_type": "markdown",
   "metadata": {},
   "source": [
    "Рассмотрим таблицы payments."
   ]
  },
  {
   "cell_type": "markdown",
   "metadata": {},
   "source": [
    "Удалим дубликаты."
   ]
  },
  {
   "cell_type": "code",
   "execution_count": 9,
   "metadata": {},
   "outputs": [],
   "source": [
    "payments_CG1 = payments_CG1.drop_duplicates().reset_index(drop=True)\n",
    "payments_CG2 = payments_CG2.drop_duplicates().reset_index(drop=True)\n",
    "payments_TG  = payments_TG.drop_duplicates().reset_index(drop=True)"
   ]
  },
  {
   "cell_type": "code",
   "execution_count": 10,
   "metadata": {},
   "outputs": [
    {
     "name": "stdout",
     "output_type": "stream",
     "text": [
      "<class 'pandas.core.frame.DataFrame'>\n",
      "RangeIndex: 357 entries, 0 to 356\n",
      "Data columns (total 8 columns):\n",
      " #   Column              Non-Null Count  Dtype  \n",
      "---  ------              --------------  -----  \n",
      " 0   user_id             356 non-null    float64\n",
      " 1   registration_date   356 non-null    object \n",
      " 2   payment_date        356 non-null    object \n",
      " 3   revenue             356 non-null    float64\n",
      " 4   payment_service_id  356 non-null    float64\n",
      " 5   place               356 non-null    object \n",
      " 6   country             356 non-null    object \n",
      " 7   product_type        356 non-null    object \n",
      "dtypes: float64(3), object(5)\n",
      "memory usage: 22.4+ KB\n"
     ]
    }
   ],
   "source": [
    "payments_CG1.info()"
   ]
  },
  {
   "cell_type": "code",
   "execution_count": 11,
   "metadata": {},
   "outputs": [
    {
     "data": {
      "text/plain": [
       "product_type          1\n",
       "country               1\n",
       "place                 1\n",
       "payment_service_id    1\n",
       "revenue               1\n",
       "payment_date          1\n",
       "registration_date     1\n",
       "user_id               1\n",
       "dtype: int64"
      ]
     },
     "execution_count": 11,
     "metadata": {},
     "output_type": "execute_result"
    }
   ],
   "source": [
    "payments_CG1.isnull().sum().sort_values(ascending=False)"
   ]
  },
  {
   "cell_type": "code",
   "execution_count": 12,
   "metadata": {},
   "outputs": [
    {
     "data": {
      "text/plain": [
       "357"
      ]
     },
     "execution_count": 12,
     "metadata": {},
     "output_type": "execute_result"
    }
   ],
   "source": [
    "payments_CG1.shape[0]"
   ]
  },
  {
   "cell_type": "markdown",
   "metadata": {},
   "source": [
    "Соберем таблицу пропущенных значений в признаках группы таблиц payments"
   ]
  },
  {
   "cell_type": "code",
   "execution_count": 13,
   "metadata": {},
   "outputs": [],
   "source": [
    "class Table:\n",
    "    \"\"\"Класс для создания таблиц необходимых в проекте.\"\"\"\n",
    "    \n",
    "    def __init__(self, null=False, dtypes=False, describe=False):\n",
    "        self.null = null\n",
    "        self.dtypes = dtypes\n",
    "        self.describe = describe\n",
    "        \n",
    "        \n",
    "    def make_table(self, columns:list, indexes:list, start, stop):\n",
    "        \"\"\"\"Функция создает таблицу нулевых значений или типов данных\n",
    "        \n",
    "        columns : list\n",
    "            список признаков\n",
    "        indexes : list\n",
    "            список индексов\n",
    "        start, stop : int\n",
    "            начальное и конечное значение для цикла\n",
    "        \"\"\"\n",
    "        if self.null:\n",
    "            null_table = {f\"{columns[i]}\" : eval(columns[i]).isnull().sum()\n",
    "                          for i in range(start, stop)}\n",
    "            return pd.DataFrame(null_table, index=indexes)\n",
    "        elif self.dtypes:\n",
    "            type_table = {f\"{columns[i]}\" : eval(columns[i]).dtypes\n",
    "                          for i in range(start, stop)}\n",
    "            return pd.DataFrame(type_table, index=indexes)\n",
    "        \n",
    "        \n",
    "    def make_describe_table(self, columns:list, \n",
    "                                  indexes:list, \n",
    "                                  feature:str, \n",
    "                                  start, stop):\n",
    "        \"\"\"Функция создает описательную таблицу\n",
    "        \n",
    "        columns : list\n",
    "            список признаков\n",
    "        indexes : list\n",
    "            список индексов\n",
    "        feature : str\n",
    "            название признака\n",
    "        start, stop : int\n",
    "            начальное и конечное значение для цикла\n",
    "        \"\"\"\n",
    "        describe_table = {f\"{list_tables_names[i]}\" : \n",
    "                           eval(list_tables_names[i])[feature].describe()\n",
    "                           for i in range(start, stop)}\n",
    "        return pd.DataFrame(describe_table, index=indexes)"
   ]
  },
  {
   "cell_type": "markdown",
   "metadata": {},
   "source": [
    "Количество пропущенных значений по признакам в таблицах payments:"
   ]
  },
  {
   "cell_type": "code",
   "execution_count": 14,
   "metadata": {},
   "outputs": [
    {
     "data": {
      "text/html": [
       "<div>\n",
       "<style scoped>\n",
       "    .dataframe tbody tr th:only-of-type {\n",
       "        vertical-align: middle;\n",
       "    }\n",
       "\n",
       "    .dataframe tbody tr th {\n",
       "        vertical-align: top;\n",
       "    }\n",
       "\n",
       "    .dataframe thead th {\n",
       "        text-align: right;\n",
       "    }\n",
       "</style>\n",
       "<table border=\"1\" class=\"dataframe\">\n",
       "  <thead>\n",
       "    <tr style=\"text-align: right;\">\n",
       "      <th></th>\n",
       "      <th>payments_CG1</th>\n",
       "      <th>payments_CG2</th>\n",
       "      <th>payments_TG</th>\n",
       "    </tr>\n",
       "  </thead>\n",
       "  <tbody>\n",
       "    <tr>\n",
       "      <th>user_id</th>\n",
       "      <td>1</td>\n",
       "      <td>0</td>\n",
       "      <td>0</td>\n",
       "    </tr>\n",
       "    <tr>\n",
       "      <th>registration_date</th>\n",
       "      <td>1</td>\n",
       "      <td>0</td>\n",
       "      <td>0</td>\n",
       "    </tr>\n",
       "    <tr>\n",
       "      <th>payment_date</th>\n",
       "      <td>1</td>\n",
       "      <td>0</td>\n",
       "      <td>0</td>\n",
       "    </tr>\n",
       "    <tr>\n",
       "      <th>revenue</th>\n",
       "      <td>1</td>\n",
       "      <td>0</td>\n",
       "      <td>0</td>\n",
       "    </tr>\n",
       "    <tr>\n",
       "      <th>payment_service_id</th>\n",
       "      <td>1</td>\n",
       "      <td>0</td>\n",
       "      <td>0</td>\n",
       "    </tr>\n",
       "    <tr>\n",
       "      <th>place</th>\n",
       "      <td>1</td>\n",
       "      <td>0</td>\n",
       "      <td>0</td>\n",
       "    </tr>\n",
       "    <tr>\n",
       "      <th>country</th>\n",
       "      <td>1</td>\n",
       "      <td>0</td>\n",
       "      <td>0</td>\n",
       "    </tr>\n",
       "    <tr>\n",
       "      <th>product_type</th>\n",
       "      <td>1</td>\n",
       "      <td>0</td>\n",
       "      <td>0</td>\n",
       "    </tr>\n",
       "  </tbody>\n",
       "</table>\n",
       "</div>"
      ],
      "text/plain": [
       "                    payments_CG1  payments_CG2  payments_TG\n",
       "user_id                        1             0            0\n",
       "registration_date              1             0            0\n",
       "payment_date                   1             0            0\n",
       "revenue                        1             0            0\n",
       "payment_service_id             1             0            0\n",
       "place                          1             0            0\n",
       "country                        1             0            0\n",
       "product_type                   1             0            0"
      ]
     },
     "execution_count": 14,
     "metadata": {},
     "output_type": "execute_result"
    }
   ],
   "source": [
    "null_table_payments = Table(null=True).make_table(columns=list_tables_names,\n",
    "                                                  indexes=payments_CG1.columns,\n",
    "                                                  start=0,\n",
    "                                                  stop=3)\n",
    "null_table_payments"
   ]
  },
  {
   "cell_type": "markdown",
   "metadata": {},
   "source": [
    "В таблице payments_CG1 по всем признакам совпадает количество NaN-значений в объектах. Удалим пропущенные объекты."
   ]
  },
  {
   "cell_type": "code",
   "execution_count": 15,
   "metadata": {},
   "outputs": [],
   "source": [
    "payments_CG1 = payments_CG1.drop(payments_CG1[payments_CG1[\"user_id\"].isnull()].index)"
   ]
  },
  {
   "cell_type": "code",
   "execution_count": 16,
   "metadata": {},
   "outputs": [
    {
     "data": {
      "text/plain": [
       "356"
      ]
     },
     "execution_count": 16,
     "metadata": {},
     "output_type": "execute_result"
    }
   ],
   "source": [
    "payments_CG1.shape[0]"
   ]
  },
  {
   "cell_type": "markdown",
   "metadata": {},
   "source": [
    "Рассмотрим остальные таблицы группы payments"
   ]
  },
  {
   "cell_type": "code",
   "execution_count": 17,
   "metadata": {},
   "outputs": [
    {
     "name": "stdout",
     "output_type": "stream",
     "text": [
      "<class 'pandas.core.frame.DataFrame'>\n",
      "RangeIndex: 323 entries, 0 to 322\n",
      "Data columns (total 8 columns):\n",
      " #   Column              Non-Null Count  Dtype \n",
      "---  ------              --------------  ----- \n",
      " 0   user_id             323 non-null    int64 \n",
      " 1   registration_date   323 non-null    object\n",
      " 2   payment_date        323 non-null    object\n",
      " 3   revenue             323 non-null    int64 \n",
      " 4   payment_service_id  323 non-null    int64 \n",
      " 5   place               323 non-null    object\n",
      " 6   country             323 non-null    object\n",
      " 7   product_type        323 non-null    object\n",
      "dtypes: int64(3), object(5)\n",
      "memory usage: 20.3+ KB\n"
     ]
    }
   ],
   "source": [
    "payments_CG2.info()"
   ]
  },
  {
   "cell_type": "code",
   "execution_count": 18,
   "metadata": {},
   "outputs": [
    {
     "name": "stdout",
     "output_type": "stream",
     "text": [
      "<class 'pandas.core.frame.DataFrame'>\n",
      "RangeIndex: 266 entries, 0 to 265\n",
      "Data columns (total 8 columns):\n",
      " #   Column              Non-Null Count  Dtype \n",
      "---  ------              --------------  ----- \n",
      " 0   user_id             266 non-null    int64 \n",
      " 1   registration_date   266 non-null    object\n",
      " 2   payment_date        266 non-null    object\n",
      " 3   revenue             266 non-null    int64 \n",
      " 4   payment_service_id  266 non-null    int64 \n",
      " 5   place               266 non-null    object\n",
      " 6   country             266 non-null    object\n",
      " 7   product_type        266 non-null    object\n",
      "dtypes: int64(3), object(5)\n",
      "memory usage: 16.8+ KB\n"
     ]
    }
   ],
   "source": [
    "payments_TG.info()"
   ]
  },
  {
   "cell_type": "markdown",
   "metadata": {},
   "source": [
    "Соберем таблицу типов признаков по группе таблиц payments."
   ]
  },
  {
   "cell_type": "code",
   "execution_count": 19,
   "metadata": {},
   "outputs": [
    {
     "data": {
      "text/html": [
       "<div>\n",
       "<style scoped>\n",
       "    .dataframe tbody tr th:only-of-type {\n",
       "        vertical-align: middle;\n",
       "    }\n",
       "\n",
       "    .dataframe tbody tr th {\n",
       "        vertical-align: top;\n",
       "    }\n",
       "\n",
       "    .dataframe thead th {\n",
       "        text-align: right;\n",
       "    }\n",
       "</style>\n",
       "<table border=\"1\" class=\"dataframe\">\n",
       "  <thead>\n",
       "    <tr style=\"text-align: right;\">\n",
       "      <th></th>\n",
       "      <th>payments_CG1</th>\n",
       "      <th>payments_CG2</th>\n",
       "      <th>payments_TG</th>\n",
       "    </tr>\n",
       "  </thead>\n",
       "  <tbody>\n",
       "    <tr>\n",
       "      <th>user_id</th>\n",
       "      <td>float64</td>\n",
       "      <td>int64</td>\n",
       "      <td>int64</td>\n",
       "    </tr>\n",
       "    <tr>\n",
       "      <th>registration_date</th>\n",
       "      <td>object</td>\n",
       "      <td>object</td>\n",
       "      <td>object</td>\n",
       "    </tr>\n",
       "    <tr>\n",
       "      <th>payment_date</th>\n",
       "      <td>object</td>\n",
       "      <td>object</td>\n",
       "      <td>object</td>\n",
       "    </tr>\n",
       "    <tr>\n",
       "      <th>revenue</th>\n",
       "      <td>float64</td>\n",
       "      <td>int64</td>\n",
       "      <td>int64</td>\n",
       "    </tr>\n",
       "    <tr>\n",
       "      <th>payment_service_id</th>\n",
       "      <td>float64</td>\n",
       "      <td>int64</td>\n",
       "      <td>int64</td>\n",
       "    </tr>\n",
       "    <tr>\n",
       "      <th>place</th>\n",
       "      <td>object</td>\n",
       "      <td>object</td>\n",
       "      <td>object</td>\n",
       "    </tr>\n",
       "    <tr>\n",
       "      <th>country</th>\n",
       "      <td>object</td>\n",
       "      <td>object</td>\n",
       "      <td>object</td>\n",
       "    </tr>\n",
       "    <tr>\n",
       "      <th>product_type</th>\n",
       "      <td>object</td>\n",
       "      <td>object</td>\n",
       "      <td>object</td>\n",
       "    </tr>\n",
       "  </tbody>\n",
       "</table>\n",
       "</div>"
      ],
      "text/plain": [
       "                   payments_CG1 payments_CG2 payments_TG\n",
       "user_id                 float64        int64       int64\n",
       "registration_date        object       object      object\n",
       "payment_date             object       object      object\n",
       "revenue                 float64        int64       int64\n",
       "payment_service_id      float64        int64       int64\n",
       "place                    object       object      object\n",
       "country                  object       object      object\n",
       "product_type             object       object      object"
      ]
     },
     "execution_count": 19,
     "metadata": {},
     "output_type": "execute_result"
    }
   ],
   "source": [
    "types_table_payments = Table(dtypes=True).make_table(columns=list_tables_names,\n",
    "                                                     indexes=payments_CG1.columns,\n",
    "                                                     start=0,\n",
    "                                                     stop=3)\n",
    "types_table_payments"
   ]
  },
  {
   "cell_type": "markdown",
   "metadata": {},
   "source": [
    "Для таблицы payments_CG1 в сравнении с таблицами payments_CG2, payments_TG различаются типы в следующих столбцах:\n"
   ]
  },
  {
   "cell_type": "code",
   "execution_count": 20,
   "metadata": {},
   "outputs": [
    {
     "name": "stdout",
     "output_type": "stream",
     "text": [
      "user_id\n",
      "revenue\n",
      "payment_service_id\n"
     ]
    }
   ],
   "source": [
    "error_type_array = payments_CG1.select_dtypes('float64').columns\n",
    "print(*error_type_array, sep=\"\\n\")"
   ]
  },
  {
   "cell_type": "markdown",
   "metadata": {},
   "source": [
    "Приведем данные столбцы к типу int64."
   ]
  },
  {
   "cell_type": "code",
   "execution_count": 21,
   "metadata": {},
   "outputs": [
    {
     "name": "stdout",
     "output_type": "stream",
     "text": [
      "<class 'pandas.core.frame.DataFrame'>\n",
      "Int64Index: 356 entries, 0 to 355\n",
      "Data columns (total 8 columns):\n",
      " #   Column              Non-Null Count  Dtype \n",
      "---  ------              --------------  ----- \n",
      " 0   user_id             356 non-null    int64 \n",
      " 1   registration_date   356 non-null    object\n",
      " 2   payment_date        356 non-null    object\n",
      " 3   revenue             356 non-null    int64 \n",
      " 4   payment_service_id  356 non-null    int64 \n",
      " 5   place               356 non-null    object\n",
      " 6   country             356 non-null    object\n",
      " 7   product_type        356 non-null    object\n",
      "dtypes: int64(3), object(5)\n",
      "memory usage: 25.0+ KB\n"
     ]
    }
   ],
   "source": [
    "payments_CG1[error_type_array] = payments_CG1[error_type_array].astype(\"int64\")\n",
    "payments_CG1.info()"
   ]
  },
  {
   "cell_type": "markdown",
   "metadata": {},
   "source": [
    "Столбцы registration_date, payment_date содержат даты, но в таблицах payments определены как тип object. Приведем данные столбцы к типу datetime."
   ]
  },
  {
   "cell_type": "code",
   "execution_count": 22,
   "metadata": {},
   "outputs": [],
   "source": [
    "date_array = [\"registration_date\", \"payment_date\"]"
   ]
  },
  {
   "cell_type": "code",
   "execution_count": 23,
   "metadata": {},
   "outputs": [],
   "source": [
    "def cast_to_datetime(df, column):\n",
    "    \"\"\"Функция cast_to_datetime, \n",
    "    корректно преобразует данные в столбцах с датами.\n",
    "    \n",
    "    df : pd.DataFrame\n",
    "        DataFrame в котором производится преобразование.\n",
    "    column : str\n",
    "        Название столбца который необходимо преобразовать.\n",
    "    \"\"\"\n",
    "    df[column] = pd.to_datetime(df[column].str.replace(\" \", \"T\"), \n",
    "                                format=\"%d.%m.%YT%H:%M\")"
   ]
  },
  {
   "cell_type": "code",
   "execution_count": 24,
   "metadata": {},
   "outputs": [],
   "source": [
    "for column in date_array:\n",
    "    for i in range(0, 3):\n",
    "        cast_to_datetime(eval(list_tables_names[i]), column)"
   ]
  },
  {
   "cell_type": "code",
   "execution_count": 25,
   "metadata": {},
   "outputs": [
    {
     "data": {
      "text/html": [
       "<div>\n",
       "<style scoped>\n",
       "    .dataframe tbody tr th:only-of-type {\n",
       "        vertical-align: middle;\n",
       "    }\n",
       "\n",
       "    .dataframe tbody tr th {\n",
       "        vertical-align: top;\n",
       "    }\n",
       "\n",
       "    .dataframe thead th {\n",
       "        text-align: right;\n",
       "    }\n",
       "</style>\n",
       "<table border=\"1\" class=\"dataframe\">\n",
       "  <thead>\n",
       "    <tr style=\"text-align: right;\">\n",
       "      <th></th>\n",
       "      <th>user_id</th>\n",
       "      <th>registration_date</th>\n",
       "      <th>payment_date</th>\n",
       "      <th>revenue</th>\n",
       "      <th>payment_service_id</th>\n",
       "      <th>place</th>\n",
       "      <th>country</th>\n",
       "      <th>product_type</th>\n",
       "    </tr>\n",
       "  </thead>\n",
       "  <tbody>\n",
       "    <tr>\n",
       "      <th>0</th>\n",
       "      <td>891319275</td>\n",
       "      <td>2017-11-05 19:57:00</td>\n",
       "      <td>2017-11-12 21:57:00</td>\n",
       "      <td>12727</td>\n",
       "      <td>147</td>\n",
       "      <td>TrialVipPopup</td>\n",
       "      <td>FR</td>\n",
       "      <td>trial</td>\n",
       "    </tr>\n",
       "    <tr>\n",
       "      <th>1</th>\n",
       "      <td>892421826</td>\n",
       "      <td>2017-10-14 12:46:00</td>\n",
       "      <td>2017-10-23 12:54:00</td>\n",
       "      <td>14586</td>\n",
       "      <td>147</td>\n",
       "      <td>TrialVipPopup</td>\n",
       "      <td>IL</td>\n",
       "      <td>trial</td>\n",
       "    </tr>\n",
       "    <tr>\n",
       "      <th>2</th>\n",
       "      <td>891822480</td>\n",
       "      <td>2017-10-26 22:27:00</td>\n",
       "      <td>2017-11-12 20:59:00</td>\n",
       "      <td>1911</td>\n",
       "      <td>19</td>\n",
       "      <td>none</td>\n",
       "      <td>IT</td>\n",
       "      <td>coins</td>\n",
       "    </tr>\n",
       "    <tr>\n",
       "      <th>3</th>\n",
       "      <td>891367521</td>\n",
       "      <td>2017-11-05 02:37:00</td>\n",
       "      <td>2017-11-06 19:15:00</td>\n",
       "      <td>1456</td>\n",
       "      <td>127</td>\n",
       "      <td>sympathy_access</td>\n",
       "      <td>IT</td>\n",
       "      <td>other</td>\n",
       "    </tr>\n",
       "    <tr>\n",
       "      <th>4</th>\n",
       "      <td>892207959</td>\n",
       "      <td>2017-10-18 18:30:00</td>\n",
       "      <td>2017-11-12 12:03:00</td>\n",
       "      <td>1261</td>\n",
       "      <td>19</td>\n",
       "      <td>EmptyLikes</td>\n",
       "      <td>FR</td>\n",
       "      <td>coins</td>\n",
       "    </tr>\n",
       "  </tbody>\n",
       "</table>\n",
       "</div>"
      ],
      "text/plain": [
       "     user_id   registration_date        payment_date  revenue  \\\n",
       "0  891319275 2017-11-05 19:57:00 2017-11-12 21:57:00    12727   \n",
       "1  892421826 2017-10-14 12:46:00 2017-10-23 12:54:00    14586   \n",
       "2  891822480 2017-10-26 22:27:00 2017-11-12 20:59:00     1911   \n",
       "3  891367521 2017-11-05 02:37:00 2017-11-06 19:15:00     1456   \n",
       "4  892207959 2017-10-18 18:30:00 2017-11-12 12:03:00     1261   \n",
       "\n",
       "   payment_service_id            place country product_type  \n",
       "0                 147    TrialVipPopup      FR        trial  \n",
       "1                 147    TrialVipPopup      IL        trial  \n",
       "2                  19             none      IT        coins  \n",
       "3                 127  sympathy_access      IT        other  \n",
       "4                  19       EmptyLikes      FR        coins  "
      ]
     },
     "execution_count": 25,
     "metadata": {},
     "output_type": "execute_result"
    }
   ],
   "source": [
    "payments_CG1.head()"
   ]
  },
  {
   "cell_type": "markdown",
   "metadata": {},
   "source": [
    "### 01.03 Таблицы portrait"
   ]
  },
  {
   "cell_type": "code",
   "execution_count": 26,
   "metadata": {},
   "outputs": [
    {
     "data": {
      "text/html": [
       "<div>\n",
       "<style scoped>\n",
       "    .dataframe tbody tr th:only-of-type {\n",
       "        vertical-align: middle;\n",
       "    }\n",
       "\n",
       "    .dataframe tbody tr th {\n",
       "        vertical-align: top;\n",
       "    }\n",
       "\n",
       "    .dataframe thead th {\n",
       "        text-align: right;\n",
       "    }\n",
       "</style>\n",
       "<table border=\"1\" class=\"dataframe\">\n",
       "  <thead>\n",
       "    <tr style=\"text-align: right;\">\n",
       "      <th></th>\n",
       "      <th>user_id</th>\n",
       "      <th>age</th>\n",
       "      <th>attraction_distribution</th>\n",
       "      <th>coins</th>\n",
       "      <th>country</th>\n",
       "      <th>retention_days</th>\n",
       "      <th>sex</th>\n",
       "      <th>user_dating.age_start</th>\n",
       "      <th>user_dating.age_end</th>\n",
       "      <th>view_count</th>\n",
       "      <th>was_special</th>\n",
       "      <th>is_special</th>\n",
       "      <th>total_revenue</th>\n",
       "    </tr>\n",
       "  </thead>\n",
       "  <tbody>\n",
       "    <tr>\n",
       "      <th>0</th>\n",
       "      <td>892319115</td>\n",
       "      <td>25</td>\n",
       "      <td>435</td>\n",
       "      <td>NaN</td>\n",
       "      <td>US</td>\n",
       "      <td>1,2,3,4,5,6</td>\n",
       "      <td>0</td>\n",
       "      <td>22</td>\n",
       "      <td>32</td>\n",
       "      <td>982</td>\n",
       "      <td>NaN</td>\n",
       "      <td>NaN</td>\n",
       "      <td>0</td>\n",
       "    </tr>\n",
       "    <tr>\n",
       "      <th>1</th>\n",
       "      <td>891248523</td>\n",
       "      <td>29</td>\n",
       "      <td>500</td>\n",
       "      <td>NaN</td>\n",
       "      <td>US</td>\n",
       "      <td>1,2</td>\n",
       "      <td>1</td>\n",
       "      <td>26</td>\n",
       "      <td>32</td>\n",
       "      <td>12</td>\n",
       "      <td>NaN</td>\n",
       "      <td>NaN</td>\n",
       "      <td>0</td>\n",
       "    </tr>\n",
       "    <tr>\n",
       "      <th>2</th>\n",
       "      <td>891670932</td>\n",
       "      <td>33</td>\n",
       "      <td>800</td>\n",
       "      <td>NaN</td>\n",
       "      <td>FR</td>\n",
       "      <td>1,2,3,5,6,8,9,11,13,16</td>\n",
       "      <td>1</td>\n",
       "      <td>30</td>\n",
       "      <td>36</td>\n",
       "      <td>5</td>\n",
       "      <td>NaN</td>\n",
       "      <td>NaN</td>\n",
       "      <td>0</td>\n",
       "    </tr>\n",
       "    <tr>\n",
       "      <th>3</th>\n",
       "      <td>891060786</td>\n",
       "      <td>26</td>\n",
       "      <td>0</td>\n",
       "      <td>NaN</td>\n",
       "      <td>AR</td>\n",
       "      <td>1,2,3,4,5</td>\n",
       "      <td>1</td>\n",
       "      <td>23</td>\n",
       "      <td>29</td>\n",
       "      <td>0</td>\n",
       "      <td>NaN</td>\n",
       "      <td>NaN</td>\n",
       "      <td>0</td>\n",
       "    </tr>\n",
       "    <tr>\n",
       "      <th>4</th>\n",
       "      <td>892006554</td>\n",
       "      <td>35</td>\n",
       "      <td>294</td>\n",
       "      <td>NaN</td>\n",
       "      <td>US</td>\n",
       "      <td>1,2,3,5,6,7,8,9,10,12,15,16,17,19</td>\n",
       "      <td>1</td>\n",
       "      <td>30</td>\n",
       "      <td>40</td>\n",
       "      <td>17</td>\n",
       "      <td>NaN</td>\n",
       "      <td>NaN</td>\n",
       "      <td>0</td>\n",
       "    </tr>\n",
       "  </tbody>\n",
       "</table>\n",
       "</div>"
      ],
      "text/plain": [
       "     user_id  age  attraction_distribution  coins country  \\\n",
       "0  892319115   25                      435    NaN      US   \n",
       "1  891248523   29                      500    NaN      US   \n",
       "2  891670932   33                      800    NaN      FR   \n",
       "3  891060786   26                        0    NaN      AR   \n",
       "4  892006554   35                      294    NaN      US   \n",
       "\n",
       "                      retention_days  sex  user_dating.age_start  \\\n",
       "0                        1,2,3,4,5,6    0                     22   \n",
       "1                                1,2    1                     26   \n",
       "2             1,2,3,5,6,8,9,11,13,16    1                     30   \n",
       "3                          1,2,3,4,5    1                     23   \n",
       "4  1,2,3,5,6,7,8,9,10,12,15,16,17,19    1                     30   \n",
       "\n",
       "   user_dating.age_end  view_count  was_special  is_special  total_revenue  \n",
       "0                   32         982          NaN         NaN              0  \n",
       "1                   32          12          NaN         NaN              0  \n",
       "2                   36           5          NaN         NaN              0  \n",
       "3                   29           0          NaN         NaN              0  \n",
       "4                   40          17          NaN         NaN              0  "
      ]
     },
     "execution_count": 26,
     "metadata": {},
     "output_type": "execute_result"
    }
   ],
   "source": [
    "portrait_CG1.head()"
   ]
  },
  {
   "cell_type": "code",
   "execution_count": 27,
   "metadata": {},
   "outputs": [
    {
     "name": "stdout",
     "output_type": "stream",
     "text": [
      "<class 'pandas.core.frame.DataFrame'>\n",
      "RangeIndex: 4340 entries, 0 to 4339\n",
      "Data columns (total 13 columns):\n",
      " #   Column                   Non-Null Count  Dtype  \n",
      "---  ------                   --------------  -----  \n",
      " 0   user_id                  4340 non-null   int64  \n",
      " 1   age                      4340 non-null   int64  \n",
      " 2   attraction_distribution  4340 non-null   int64  \n",
      " 3   coins                    60 non-null     float64\n",
      " 4   country                  4340 non-null   object \n",
      " 5   retention_days           3016 non-null   object \n",
      " 6   sex                      4340 non-null   int64  \n",
      " 7   user_dating.age_start    4340 non-null   int64  \n",
      " 8   user_dating.age_end      4340 non-null   int64  \n",
      " 9   view_count               4340 non-null   int64  \n",
      " 10  was_special              436 non-null    float64\n",
      " 11  is_special               192 non-null    float64\n",
      " 12  total_revenue            4340 non-null   int64  \n",
      "dtypes: float64(3), int64(8), object(2)\n",
      "memory usage: 440.9+ KB\n"
     ]
    }
   ],
   "source": [
    "portrait_CG1.info()\n",
    "#portrait_CG2.info()\n",
    "#portrait_TG.info()"
   ]
  },
  {
   "cell_type": "markdown",
   "metadata": {},
   "source": [
    "Соберем таблицу с пропущенными значениями"
   ]
  },
  {
   "cell_type": "code",
   "execution_count": 28,
   "metadata": {},
   "outputs": [
    {
     "data": {
      "text/html": [
       "<div>\n",
       "<style scoped>\n",
       "    .dataframe tbody tr th:only-of-type {\n",
       "        vertical-align: middle;\n",
       "    }\n",
       "\n",
       "    .dataframe tbody tr th {\n",
       "        vertical-align: top;\n",
       "    }\n",
       "\n",
       "    .dataframe thead th {\n",
       "        text-align: right;\n",
       "    }\n",
       "</style>\n",
       "<table border=\"1\" class=\"dataframe\">\n",
       "  <thead>\n",
       "    <tr style=\"text-align: right;\">\n",
       "      <th></th>\n",
       "      <th>portrait_CG1</th>\n",
       "      <th>portrait_CG2</th>\n",
       "      <th>portrait_TG</th>\n",
       "    </tr>\n",
       "  </thead>\n",
       "  <tbody>\n",
       "    <tr>\n",
       "      <th>user_id</th>\n",
       "      <td>0</td>\n",
       "      <td>0</td>\n",
       "      <td>0</td>\n",
       "    </tr>\n",
       "    <tr>\n",
       "      <th>age</th>\n",
       "      <td>0</td>\n",
       "      <td>0</td>\n",
       "      <td>0</td>\n",
       "    </tr>\n",
       "    <tr>\n",
       "      <th>attraction_distribution</th>\n",
       "      <td>0</td>\n",
       "      <td>0</td>\n",
       "      <td>0</td>\n",
       "    </tr>\n",
       "    <tr>\n",
       "      <th>coins</th>\n",
       "      <td>4280</td>\n",
       "      <td>4203</td>\n",
       "      <td>4259</td>\n",
       "    </tr>\n",
       "    <tr>\n",
       "      <th>country</th>\n",
       "      <td>0</td>\n",
       "      <td>0</td>\n",
       "      <td>0</td>\n",
       "    </tr>\n",
       "    <tr>\n",
       "      <th>retention_days</th>\n",
       "      <td>1324</td>\n",
       "      <td>1364</td>\n",
       "      <td>1330</td>\n",
       "    </tr>\n",
       "    <tr>\n",
       "      <th>sex</th>\n",
       "      <td>0</td>\n",
       "      <td>0</td>\n",
       "      <td>0</td>\n",
       "    </tr>\n",
       "    <tr>\n",
       "      <th>user_dating.age_start</th>\n",
       "      <td>0</td>\n",
       "      <td>0</td>\n",
       "      <td>0</td>\n",
       "    </tr>\n",
       "    <tr>\n",
       "      <th>user_dating.age_end</th>\n",
       "      <td>0</td>\n",
       "      <td>0</td>\n",
       "      <td>0</td>\n",
       "    </tr>\n",
       "    <tr>\n",
       "      <th>view_count</th>\n",
       "      <td>0</td>\n",
       "      <td>0</td>\n",
       "      <td>0</td>\n",
       "    </tr>\n",
       "    <tr>\n",
       "      <th>was_special</th>\n",
       "      <td>3904</td>\n",
       "      <td>3853</td>\n",
       "      <td>3900</td>\n",
       "    </tr>\n",
       "    <tr>\n",
       "      <th>is_special</th>\n",
       "      <td>4148</td>\n",
       "      <td>4073</td>\n",
       "      <td>4151</td>\n",
       "    </tr>\n",
       "    <tr>\n",
       "      <th>total_revenue</th>\n",
       "      <td>0</td>\n",
       "      <td>0</td>\n",
       "      <td>0</td>\n",
       "    </tr>\n",
       "  </tbody>\n",
       "</table>\n",
       "</div>"
      ],
      "text/plain": [
       "                         portrait_CG1  portrait_CG2  portrait_TG\n",
       "user_id                             0             0            0\n",
       "age                                 0             0            0\n",
       "attraction_distribution             0             0            0\n",
       "coins                            4280          4203         4259\n",
       "country                             0             0            0\n",
       "retention_days                   1324          1364         1330\n",
       "sex                                 0             0            0\n",
       "user_dating.age_start               0             0            0\n",
       "user_dating.age_end                 0             0            0\n",
       "view_count                          0             0            0\n",
       "was_special                      3904          3853         3900\n",
       "is_special                       4148          4073         4151\n",
       "total_revenue                       0             0            0"
      ]
     },
     "execution_count": 28,
     "metadata": {},
     "output_type": "execute_result"
    }
   ],
   "source": [
    "null_table_portrait = Table(null=True).make_table(columns=list_tables_names,\n",
    "                                                  indexes=portrait_CG1.columns,\n",
    "                                                  start=3,\n",
    "                                                  stop=len(list_tables_names))\n",
    "null_table_portrait"
   ]
  },
  {
   "cell_type": "markdown",
   "metadata": {},
   "source": [
    "Согласно описанию таблиц заменим пропущенные значения на 0, без ущерба для качества данных."
   ]
  },
  {
   "cell_type": "code",
   "execution_count": 29,
   "metadata": {},
   "outputs": [],
   "source": [
    "null_column_array = null_table_portrait.index[null_table_portrait['portrait_CG1'] != 0].tolist()"
   ]
  },
  {
   "cell_type": "code",
   "execution_count": 30,
   "metadata": {},
   "outputs": [],
   "source": [
    "for column in null_column_array:\n",
    "    for i in range(3, len(list_tables_names)):\n",
    "        eval(list_tables_names[i])[column].fillna(0, inplace=True)"
   ]
  },
  {
   "cell_type": "code",
   "execution_count": 31,
   "metadata": {},
   "outputs": [],
   "source": [
    "# portrait_CG1.info()\n",
    "# portrait_CG2.info()\n",
    "# portrait_TG.info()"
   ]
  },
  {
   "cell_type": "markdown",
   "metadata": {},
   "source": [
    "Рассмотрим типы признаков в таблицах portrait"
   ]
  },
  {
   "cell_type": "code",
   "execution_count": 32,
   "metadata": {},
   "outputs": [
    {
     "data": {
      "text/html": [
       "<div>\n",
       "<style scoped>\n",
       "    .dataframe tbody tr th:only-of-type {\n",
       "        vertical-align: middle;\n",
       "    }\n",
       "\n",
       "    .dataframe tbody tr th {\n",
       "        vertical-align: top;\n",
       "    }\n",
       "\n",
       "    .dataframe thead th {\n",
       "        text-align: right;\n",
       "    }\n",
       "</style>\n",
       "<table border=\"1\" class=\"dataframe\">\n",
       "  <thead>\n",
       "    <tr style=\"text-align: right;\">\n",
       "      <th></th>\n",
       "      <th>portrait_CG1</th>\n",
       "      <th>portrait_CG2</th>\n",
       "      <th>portrait_TG</th>\n",
       "    </tr>\n",
       "  </thead>\n",
       "  <tbody>\n",
       "    <tr>\n",
       "      <th>user_id</th>\n",
       "      <td>int64</td>\n",
       "      <td>int64</td>\n",
       "      <td>int64</td>\n",
       "    </tr>\n",
       "    <tr>\n",
       "      <th>age</th>\n",
       "      <td>int64</td>\n",
       "      <td>int64</td>\n",
       "      <td>int64</td>\n",
       "    </tr>\n",
       "    <tr>\n",
       "      <th>attraction_distribution</th>\n",
       "      <td>int64</td>\n",
       "      <td>int64</td>\n",
       "      <td>int64</td>\n",
       "    </tr>\n",
       "    <tr>\n",
       "      <th>coins</th>\n",
       "      <td>float64</td>\n",
       "      <td>float64</td>\n",
       "      <td>float64</td>\n",
       "    </tr>\n",
       "    <tr>\n",
       "      <th>country</th>\n",
       "      <td>object</td>\n",
       "      <td>object</td>\n",
       "      <td>object</td>\n",
       "    </tr>\n",
       "    <tr>\n",
       "      <th>retention_days</th>\n",
       "      <td>object</td>\n",
       "      <td>object</td>\n",
       "      <td>object</td>\n",
       "    </tr>\n",
       "    <tr>\n",
       "      <th>sex</th>\n",
       "      <td>int64</td>\n",
       "      <td>int64</td>\n",
       "      <td>int64</td>\n",
       "    </tr>\n",
       "    <tr>\n",
       "      <th>user_dating.age_start</th>\n",
       "      <td>int64</td>\n",
       "      <td>int64</td>\n",
       "      <td>int64</td>\n",
       "    </tr>\n",
       "    <tr>\n",
       "      <th>user_dating.age_end</th>\n",
       "      <td>int64</td>\n",
       "      <td>int64</td>\n",
       "      <td>int64</td>\n",
       "    </tr>\n",
       "    <tr>\n",
       "      <th>view_count</th>\n",
       "      <td>int64</td>\n",
       "      <td>int64</td>\n",
       "      <td>int64</td>\n",
       "    </tr>\n",
       "    <tr>\n",
       "      <th>was_special</th>\n",
       "      <td>float64</td>\n",
       "      <td>float64</td>\n",
       "      <td>float64</td>\n",
       "    </tr>\n",
       "    <tr>\n",
       "      <th>is_special</th>\n",
       "      <td>float64</td>\n",
       "      <td>float64</td>\n",
       "      <td>float64</td>\n",
       "    </tr>\n",
       "    <tr>\n",
       "      <th>total_revenue</th>\n",
       "      <td>int64</td>\n",
       "      <td>int64</td>\n",
       "      <td>int64</td>\n",
       "    </tr>\n",
       "  </tbody>\n",
       "</table>\n",
       "</div>"
      ],
      "text/plain": [
       "                        portrait_CG1 portrait_CG2 portrait_TG\n",
       "user_id                        int64        int64       int64\n",
       "age                            int64        int64       int64\n",
       "attraction_distribution        int64        int64       int64\n",
       "coins                        float64      float64     float64\n",
       "country                       object       object      object\n",
       "retention_days                object       object      object\n",
       "sex                            int64        int64       int64\n",
       "user_dating.age_start          int64        int64       int64\n",
       "user_dating.age_end            int64        int64       int64\n",
       "view_count                     int64        int64       int64\n",
       "was_special                  float64      float64     float64\n",
       "is_special                   float64      float64     float64\n",
       "total_revenue                  int64        int64       int64"
      ]
     },
     "execution_count": 32,
     "metadata": {},
     "output_type": "execute_result"
    }
   ],
   "source": [
    "types_table_portrait = Table(dtypes=True).make_table(columns=list_tables_names,\n",
    "                                                     indexes=portrait_CG1.columns,\n",
    "                                                     start=3,\n",
    "                                                     stop=len(list_tables_names))\n",
    "types_table_portrait"
   ]
  },
  {
   "cell_type": "markdown",
   "metadata": {},
   "source": [
    "В группе таблиц portrait типы соответственно признакам верны."
   ]
  },
  {
   "cell_type": "markdown",
   "metadata": {},
   "source": [
    "Приведем столбцы coins, was_special, is_special к типу int64."
   ]
  },
  {
   "cell_type": "code",
   "execution_count": 33,
   "metadata": {},
   "outputs": [],
   "source": [
    "change_type_array_portrait = portrait_CG1.select_dtypes('float64').columns\n",
    "portrait_CG1[change_type_array_portrait] = portrait_CG1[change_type_array_portrait].astype(\"int64\")\n",
    "portrait_CG2[change_type_array_portrait] = portrait_CG2[change_type_array_portrait].astype(\"int64\")\n",
    "portrait_TG[change_type_array_portrait] = portrait_TG[change_type_array_portrait].astype(\"int64\")"
   ]
  },
  {
   "cell_type": "code",
   "execution_count": 34,
   "metadata": {},
   "outputs": [
    {
     "data": {
      "text/html": [
       "<div>\n",
       "<style scoped>\n",
       "    .dataframe tbody tr th:only-of-type {\n",
       "        vertical-align: middle;\n",
       "    }\n",
       "\n",
       "    .dataframe tbody tr th {\n",
       "        vertical-align: top;\n",
       "    }\n",
       "\n",
       "    .dataframe thead th {\n",
       "        text-align: right;\n",
       "    }\n",
       "</style>\n",
       "<table border=\"1\" class=\"dataframe\">\n",
       "  <thead>\n",
       "    <tr style=\"text-align: right;\">\n",
       "      <th></th>\n",
       "      <th>user_id</th>\n",
       "      <th>age</th>\n",
       "      <th>attraction_distribution</th>\n",
       "      <th>coins</th>\n",
       "      <th>country</th>\n",
       "      <th>retention_days</th>\n",
       "      <th>sex</th>\n",
       "      <th>user_dating.age_start</th>\n",
       "      <th>user_dating.age_end</th>\n",
       "      <th>view_count</th>\n",
       "      <th>was_special</th>\n",
       "      <th>is_special</th>\n",
       "      <th>total_revenue</th>\n",
       "    </tr>\n",
       "  </thead>\n",
       "  <tbody>\n",
       "    <tr>\n",
       "      <th>0</th>\n",
       "      <td>892309896</td>\n",
       "      <td>27</td>\n",
       "      <td>685</td>\n",
       "      <td>0</td>\n",
       "      <td>US</td>\n",
       "      <td>1,2,3,4,5,6,7,8,9,10,11,12,16,17</td>\n",
       "      <td>1</td>\n",
       "      <td>24</td>\n",
       "      <td>30</td>\n",
       "      <td>89</td>\n",
       "      <td>0</td>\n",
       "      <td>0</td>\n",
       "      <td>0</td>\n",
       "    </tr>\n",
       "    <tr>\n",
       "      <th>1</th>\n",
       "      <td>892044516</td>\n",
       "      <td>27</td>\n",
       "      <td>0</td>\n",
       "      <td>0</td>\n",
       "      <td>DE</td>\n",
       "      <td>0</td>\n",
       "      <td>1</td>\n",
       "      <td>24</td>\n",
       "      <td>30</td>\n",
       "      <td>0</td>\n",
       "      <td>0</td>\n",
       "      <td>0</td>\n",
       "      <td>0</td>\n",
       "    </tr>\n",
       "    <tr>\n",
       "      <th>2</th>\n",
       "      <td>892185708</td>\n",
       "      <td>45</td>\n",
       "      <td>44</td>\n",
       "      <td>0</td>\n",
       "      <td>IL</td>\n",
       "      <td>1,3,4,6,7,8,10,11,12,13,14,15,16,17,18,19,20,2...</td>\n",
       "      <td>1</td>\n",
       "      <td>42</td>\n",
       "      <td>48</td>\n",
       "      <td>68</td>\n",
       "      <td>0</td>\n",
       "      <td>0</td>\n",
       "      <td>0</td>\n",
       "    </tr>\n",
       "    <tr>\n",
       "      <th>3</th>\n",
       "      <td>892130292</td>\n",
       "      <td>32</td>\n",
       "      <td>0</td>\n",
       "      <td>0</td>\n",
       "      <td>US</td>\n",
       "      <td>1,2,3,4,5,6,7,8,9,10,11,12</td>\n",
       "      <td>1</td>\n",
       "      <td>29</td>\n",
       "      <td>35</td>\n",
       "      <td>0</td>\n",
       "      <td>0</td>\n",
       "      <td>0</td>\n",
       "      <td>0</td>\n",
       "    </tr>\n",
       "    <tr>\n",
       "      <th>4</th>\n",
       "      <td>891406035</td>\n",
       "      <td>27</td>\n",
       "      <td>1000</td>\n",
       "      <td>0</td>\n",
       "      <td>FR</td>\n",
       "      <td>0</td>\n",
       "      <td>1</td>\n",
       "      <td>24</td>\n",
       "      <td>30</td>\n",
       "      <td>1</td>\n",
       "      <td>1</td>\n",
       "      <td>0</td>\n",
       "      <td>0</td>\n",
       "    </tr>\n",
       "  </tbody>\n",
       "</table>\n",
       "</div>"
      ],
      "text/plain": [
       "     user_id  age  attraction_distribution  coins country  \\\n",
       "0  892309896   27                      685      0      US   \n",
       "1  892044516   27                        0      0      DE   \n",
       "2  892185708   45                       44      0      IL   \n",
       "3  892130292   32                        0      0      US   \n",
       "4  891406035   27                     1000      0      FR   \n",
       "\n",
       "                                      retention_days  sex  \\\n",
       "0                   1,2,3,4,5,6,7,8,9,10,11,12,16,17    1   \n",
       "1                                                  0    1   \n",
       "2  1,3,4,6,7,8,10,11,12,13,14,15,16,17,18,19,20,2...    1   \n",
       "3                         1,2,3,4,5,6,7,8,9,10,11,12    1   \n",
       "4                                                  0    1   \n",
       "\n",
       "   user_dating.age_start  user_dating.age_end  view_count  was_special  \\\n",
       "0                     24                   30          89            0   \n",
       "1                     24                   30           0            0   \n",
       "2                     42                   48          68            0   \n",
       "3                     29                   35           0            0   \n",
       "4                     24                   30           1            1   \n",
       "\n",
       "   is_special  total_revenue  \n",
       "0           0              0  \n",
       "1           0              0  \n",
       "2           0              0  \n",
       "3           0              0  \n",
       "4           0              0  "
      ]
     },
     "execution_count": 34,
     "metadata": {},
     "output_type": "execute_result"
    }
   ],
   "source": [
    "portrait_TG.head()"
   ]
  },
  {
   "cell_type": "markdown",
   "metadata": {},
   "source": [
    "Добавим признак len_retention считающий количество дней возвратов пользователей."
   ]
  },
  {
   "cell_type": "code",
   "execution_count": 35,
   "metadata": {},
   "outputs": [],
   "source": [
    "portrait_CG1[\"len_retention\"] = portrait_CG1[\"retention_days\"]\\\n",
    "                                                            .str.split(\",\")\\\n",
    "                                                            .str.len()\\\n",
    "                                                            .fillna(0)\\\n",
    "                                                            .astype(\"int64\")\n",
    "portrait_CG2[\"len_retention\"] = portrait_CG1[\"retention_days\"]\\\n",
    "                                                            .str.split(\",\")\\\n",
    "                                                            .str.len()\\\n",
    "                                                            .fillna(0)\\\n",
    "                                                            .astype(\"int64\")\n",
    "portrait_TG[\"len_retention\"] = portrait_TG[\"retention_days\"]\\\n",
    "                                                            .str.split(\",\")\\\n",
    "                                                            .str.len()\\\n",
    "                                                            .fillna(0)\\\n",
    "                                                            .astype(\"int64\")"
   ]
  },
  {
   "cell_type": "markdown",
   "metadata": {},
   "source": [
    "## 02. Визуализация признаков\n",
    "<a id='visual'></a>"
   ]
  },
  {
   "cell_type": "markdown",
   "metadata": {},
   "source": [
    "Общее количество пользователей:"
   ]
  },
  {
   "cell_type": "code",
   "execution_count": 36,
   "metadata": {},
   "outputs": [
    {
     "name": "stdout",
     "output_type": "stream",
     "text": [
      "4340\n",
      "4264\n",
      "4308\n"
     ]
    }
   ],
   "source": [
    "total_user_CG1 = portrait_CG1[\"user_id\"].unique().shape[0]\n",
    "total_user_CG2 = portrait_CG2[\"user_id\"].unique().shape[0]\n",
    "total_user_TG  = portrait_TG[\"user_id\"].unique().shape[0]\n",
    "print(total_user_CG1, total_user_CG2, total_user_TG, sep=\"\\n\")"
   ]
  },
  {
   "cell_type": "markdown",
   "metadata": {},
   "source": [
    "### 02.01 Выручка"
   ]
  },
  {
   "cell_type": "markdown",
   "metadata": {},
   "source": [
    "Рассмотрим выручку."
   ]
  },
  {
   "cell_type": "code",
   "execution_count": 37,
   "metadata": {},
   "outputs": [
    {
     "data": {
      "image/png": "[encoded data removed]",
      "text/plain": [
       "<Figure size 648x432 with 1 Axes>"
      ]
     },
     "metadata": {},
     "output_type": "display_data"
    }
   ],
   "source": [
    "x = [\"revenue\", \"total_revenue\"]\n",
    "revenue = [eval(list_tables_names[i])[\"revenue\"].sum() for i in range(3)]\n",
    "total_revenue = [eval(list_tables_names[i])[\"total_revenue\"].sum() for i in range(3, 6)]\n",
    "fig, ax = plt.subplots()\n",
    "ax.bar(list_tables_names[:3], revenue, color=\"orange\", width=0.5, label=\"revenue\")\n",
    "ax.bar(list_tables_names[:3], total_revenue, color=\"blue\", width=0.3, alpha=0.4, label=\"total_revenue\")\n",
    "plt.legend(loc='upper right')\n",
    "plt.title(\"\")\n",
    "plt.show()"
   ]
  },
  {
   "cell_type": "markdown",
   "metadata": {},
   "source": [
    "Общая выручка в тестовой группе меньше относительно контрольной группы 1, но больше относительно контрольной группы 2."
   ]
  },
  {
   "cell_type": "markdown",
   "metadata": {},
   "source": [
    "Средние выручка и общая выручка."
   ]
  },
  {
   "cell_type": "code",
   "execution_count": 38,
   "metadata": {},
   "outputs": [
    {
     "data": {
      "image/png": "[encoded data removed]",
      "text/plain": [
       "<Figure size 648x432 with 1 Axes>"
      ]
     },
     "metadata": {},
     "output_type": "display_data"
    }
   ],
   "source": [
    "revenue_mean = [eval(list_tables_names[i])[\"revenue\"].mean() for i in range(3)]\n",
    "plt.bar(list_tables_names[:3], revenue_mean, color=\"orange\", width=0.5, label=\"revenue\")\n",
    "plt.title(\"Revenue Mean\")\n",
    "plt.show()"
   ]
  },
  {
   "cell_type": "code",
   "execution_count": 39,
   "metadata": {},
   "outputs": [
    {
     "data": {
      "image/png": "[encoded data removed]",
      "text/plain": [
       "<Figure size 648x432 with 1 Axes>"
      ]
     },
     "metadata": {},
     "output_type": "display_data"
    }
   ],
   "source": [
    "total_revenue_mean = [eval(list_tables_names[i])[\"total_revenue\"].mean() for i in range(3, 6)]\n",
    "plt.bar(list_tables_names[3:], total_revenue_mean, color=\"blue\", width=0.5, label=\"revenue\")\n",
    "plt.title(\"Total Revenue Mean\")\n",
    "plt.show()"
   ]
  },
  {
   "cell_type": "markdown",
   "metadata": {},
   "source": [
    "Построим графики boxplot для revenue"
   ]
  },
  {
   "cell_type": "code",
   "execution_count": 40,
   "metadata": {},
   "outputs": [
    {
     "data": {
      "text/plain": [
       "<matplotlib.axes._subplots.AxesSubplot at 0x1df1cc27f10>"
      ]
     },
     "execution_count": 40,
     "metadata": {},
     "output_type": "execute_result"
    },
    {
     "data": {
      "image/png": "[encoded data removed]",
      "text/plain": [
       "<Figure size 648x432 with 1 Axes>"
      ]
     },
     "metadata": {},
     "output_type": "display_data"
    }
   ],
   "source": [
    "revenue_box = [eval(list_tables_names[i])[\"revenue\"] for i in range(0, 3)]\n",
    "sns.boxplot(data=revenue_box)"
   ]
  },
  {
   "cell_type": "markdown",
   "metadata": {},
   "source": [
    "Для лучшего масштаба выберем значения меньше 20000:"
   ]
  },
  {
   "cell_type": "code",
   "execution_count": 41,
   "metadata": {},
   "outputs": [
    {
     "data": {
      "text/plain": [
       "<matplotlib.axes._subplots.AxesSubplot at 0x1df1cb1a2e0>"
      ]
     },
     "execution_count": 41,
     "metadata": {},
     "output_type": "execute_result"
    },
    {
     "data": {
      "image/png": "[encoded data removed]",
      "text/plain": [
       "<Figure size 648x432 with 1 Axes>"
      ]
     },
     "metadata": {},
     "output_type": "display_data"
    }
   ],
   "source": [
    "revenue_box_scale = [eval(list_tables_names[i])[\"revenue\"]\\\n",
    "               .loc[lambda x: x < 2e4] for i in range(0, 3)]\n",
    "sns.boxplot(data=revenue_box_scale)"
   ]
  },
  {
   "cell_type": "code",
   "execution_count": 42,
   "metadata": {},
   "outputs": [
    {
     "data": {
      "image/png": "[encoded data removed]",
      "text/plain": [
       "<Figure size 648x432 with 1 Axes>"
      ]
     },
     "metadata": {},
     "output_type": "display_data"
    }
   ],
   "source": [
    "plt.hist(revenue_box_scale)\n",
    "plt.title(\"Распределение выручки по группам\")\n",
    "plt.show()"
   ]
  },
  {
   "cell_type": "markdown",
   "metadata": {},
   "source": [
    "Возможно средняя выручка возросла на тестовой выборке. Проверим данную гипотезу ниже."
   ]
  },
  {
   "cell_type": "markdown",
   "metadata": {},
   "source": [
    "График boxplot для total_revenue"
   ]
  },
  {
   "cell_type": "code",
   "execution_count": 43,
   "metadata": {},
   "outputs": [
    {
     "data": {
      "text/plain": [
       "<matplotlib.axes._subplots.AxesSubplot at 0x1df1cb987f0>"
      ]
     },
     "execution_count": 43,
     "metadata": {},
     "output_type": "execute_result"
    },
    {
     "data": {
      "image/png": "[encoded data removed]",
      "text/plain": [
       "<Figure size 648x432 with 1 Axes>"
      ]
     },
     "metadata": {},
     "output_type": "display_data"
    }
   ],
   "source": [
    "total_revenue_box = [eval(list_tables_names[i])[\"total_revenue\"] for i in range(3, 6)]\n",
    "sns.boxplot(data=total_revenue_box)"
   ]
  },
  {
   "cell_type": "code",
   "execution_count": 44,
   "metadata": {},
   "outputs": [
    {
     "data": {
      "text/plain": [
       "<matplotlib.axes._subplots.AxesSubplot at 0x1df1ccb1be0>"
      ]
     },
     "execution_count": 44,
     "metadata": {},
     "output_type": "execute_result"
    },
    {
     "data": {
      "image/png": "[encoded data removed]",
      "text/plain": [
       "<Figure size 648x432 with 1 Axes>"
      ]
     },
     "metadata": {},
     "output_type": "display_data"
    }
   ],
   "source": [
    "total_revenue_box = [eval(list_tables_names[i])[\"total_revenue\"]\\\n",
    "                     .loc[lambda x: x < 2e4] for i in range(3, 6)]\n",
    "sns.boxplot(data=total_revenue_box)"
   ]
  },
  {
   "cell_type": "markdown",
   "metadata": {},
   "source": [
    "Как видно из графика большинство пользователей имеют значение 0 в признаке total_revenue."
   ]
  },
  {
   "cell_type": "markdown",
   "metadata": {},
   "source": [
    "Топ-10 стран по общей выручке:"
   ]
  },
  {
   "cell_type": "code",
   "execution_count": 45,
   "metadata": {},
   "outputs": [
    {
     "data": {
      "text/plain": [
       "<matplotlib.axes._subplots.AxesSubplot at 0x1df1cb986a0>"
      ]
     },
     "execution_count": 45,
     "metadata": {},
     "output_type": "execute_result"
    },
    {
     "data": {
      "image/png": "[encoded data removed]",
      "text/plain": [
       "<Figure size 648x432 with 2 Axes>"
      ]
     },
     "metadata": {},
     "output_type": "display_data"
    }
   ],
   "source": [
    "table_country = {\"CG1\" : portrait_CG1.groupby(\"country\")[\"total_revenue\"].sum(),\n",
    "                 \"CG2\" : portrait_CG2.groupby(\"country\")[\"total_revenue\"].sum(),\n",
    "                 \"TG\"  : portrait_TG.groupby(\"country\")[\"total_revenue\"].sum()}\n",
    "table_country = pd.DataFrame(table_country).fillna(0).astype(\"int64\")\n",
    "# table_country.sort_values(\"CG1\", ascending=False).head(10)\n",
    "sns.heatmap(table_country.sort_values(\"CG1\", ascending=False).head(10), \n",
    "            annot=True, \n",
    "            cmap= 'coolwarm')"
   ]
  },
  {
   "cell_type": "markdown",
   "metadata": {},
   "source": [
    "Из графика видно что общая выручка снизилась для стран из топ-3:\n",
    "\n",
    "- IT - Италия\n",
    "- GB - Великобритания"
   ]
  },
  {
   "cell_type": "markdown",
   "metadata": {},
   "source": [
    "### 02.02 Возраст"
   ]
  },
  {
   "cell_type": "markdown",
   "metadata": {},
   "source": [
    "Рассмотрим пользователей у которых есть премиум статус по возрасту:"
   ]
  },
  {
   "cell_type": "code",
   "execution_count": 46,
   "metadata": {},
   "outputs": [
    {
     "data": {
      "text/plain": [
       "<matplotlib.axes._subplots.AxesSubplot at 0x1df1c2e9a60>"
      ]
     },
     "execution_count": 46,
     "metadata": {},
     "output_type": "execute_result"
    },
    {
     "data": {
      "image/png": "[encoded data removed]",
      "text/plain": [
       "<Figure size 648x432 with 1 Axes>"
      ]
     },
     "metadata": {},
     "output_type": "display_data"
    }
   ],
   "source": [
    "is_special_CG1_age = portrait_CG1[portrait_CG1[\"is_special\"] == 1][\"age\"]\n",
    "is_special_CG2_age = portrait_CG2[portrait_CG2[\"is_special\"] == 1][\"age\"]\n",
    "is_special_TG_age = portrait_TG[portrait_TG[\"is_special\"] == 1][\"age\"]\n",
    "\n",
    "age_box = [is_special_CG1_age, is_special_CG2_age, is_special_TG_age]\n",
    "sns.boxplot(data=age_box)"
   ]
  },
  {
   "cell_type": "markdown",
   "metadata": {},
   "source": [
    "Отмасштабируем по пользователям которым меньше 60 лет:"
   ]
  },
  {
   "cell_type": "code",
   "execution_count": 47,
   "metadata": {},
   "outputs": [
    {
     "data": {
      "text/plain": [
       "<matplotlib.axes._subplots.AxesSubplot at 0x1df1cddba90>"
      ]
     },
     "execution_count": 47,
     "metadata": {},
     "output_type": "execute_result"
    },
    {
     "data": {
      "image/png": "[encoded data removed]",
      "text/plain": [
       "<Figure size 648x432 with 1 Axes>"
      ]
     },
     "metadata": {},
     "output_type": "display_data"
    }
   ],
   "source": [
    "age_box_scale = [age.loc[lambda x: x < 60] for age in age_box]\n",
    "sns.boxplot(data=age_box_scale)"
   ]
  },
  {
   "cell_type": "markdown",
   "metadata": {},
   "source": [
    "На тестовой группе возможно изменение среднего возраста."
   ]
  },
  {
   "cell_type": "markdown",
   "metadata": {},
   "source": [
    "### 02.03 Монеты"
   ]
  },
  {
   "cell_type": "markdown",
   "metadata": {},
   "source": [
    "Рассмотрим пользователей по количеству монет:"
   ]
  },
  {
   "cell_type": "code",
   "execution_count": 48,
   "metadata": {},
   "outputs": [
    {
     "data": {
      "text/plain": [
       "<matplotlib.axes._subplots.AxesSubplot at 0x1df1cfe4280>"
      ]
     },
     "execution_count": 48,
     "metadata": {},
     "output_type": "execute_result"
    },
    {
     "data": {
      "image/png": "[encoded data removed]",
      "text/plain": [
       "<Figure size 648x432 with 1 Axes>"
      ]
     },
     "metadata": {},
     "output_type": "display_data"
    }
   ],
   "source": [
    "coins_box = [eval(list_tables_names[i])[\"coins\"] for i in range(3, 6)]\n",
    "sns.boxplot(data=coins_box)"
   ]
  },
  {
   "cell_type": "code",
   "execution_count": 49,
   "metadata": {},
   "outputs": [
    {
     "data": {
      "text/plain": [
       "<matplotlib.axes._subplots.AxesSubplot at 0x1df1d0600d0>"
      ]
     },
     "execution_count": 49,
     "metadata": {},
     "output_type": "execute_result"
    },
    {
     "data": {
      "image/png": "[encoded data removed]",
      "text/plain": [
       "<Figure size 648x432 with 1 Axes>"
      ]
     },
     "metadata": {},
     "output_type": "display_data"
    }
   ],
   "source": [
    "coins_box = [eval(list_tables_names[i])[\"coins\"].loc[lambda x: x < 1000] for i in range(3, 6)]\n",
    "sns.boxplot(data=coins_box)"
   ]
  },
  {
   "cell_type": "markdown",
   "metadata": {},
   "source": [
    "Большинство пользователей не имеют монет на момент А/Б теста."
   ]
  },
  {
   "cell_type": "markdown",
   "metadata": {},
   "source": [
    "### 02.04 Типы продуктов"
   ]
  },
  {
   "cell_type": "markdown",
   "metadata": {},
   "source": [
    "Расспотрим типы продуктов по группам:"
   ]
  },
  {
   "cell_type": "code",
   "execution_count": 50,
   "metadata": {},
   "outputs": [
    {
     "data": {
      "image/png": "[encoded data removed]",
      "text/plain": [
       "<Figure size 648x432 with 1 Axes>"
      ]
     },
     "metadata": {},
     "output_type": "display_data"
    }
   ],
   "source": [
    "product_type_CG1 = payments_CG1[\"product_type\"].value_counts()\n",
    "product_type_CG2 = payments_CG2[\"product_type\"].value_counts()\n",
    "product_type_TG  = payments_TG[\"product_type\"].value_counts()\n",
    "\n",
    "x = payments_CG1[\"product_type\"].unique()\n",
    "fig, ax = plt.subplots()\n",
    "ax.bar(x, product_type_CG1, color=\"orange\", width=0.5, label=\"CG1\")\n",
    "ax.bar(x, product_type_CG2, color=\"blue\", width=0.4, alpha=0.5, label=\"CG2\")\n",
    "ax.bar(x, product_type_TG, color=\"green\", alpha=0.6, label=\"TG\")\n",
    "plt.legend(loc='upper right')\n",
    "plt.title(\"Типы продуктов\")\n",
    "plt.show()"
   ]
  },
  {
   "cell_type": "markdown",
   "metadata": {},
   "source": [
    "Снижение количества оплаченных продуктов в тестовой группе возможно связано с меньшим числом пользователей выбранных в тестовую группу. Посмотрим в процентном соотношении."
   ]
  },
  {
   "cell_type": "code",
   "execution_count": 51,
   "metadata": {},
   "outputs": [
    {
     "data": {
      "image/png": "[encoded data removed]",
      "text/plain": [
       "<Figure size 648x432 with 1 Axes>"
      ]
     },
     "metadata": {},
     "output_type": "display_data"
    }
   ],
   "source": [
    "x = payments_CG1[\"product_type\"].unique()\n",
    "fig, ax = plt.subplots()\n",
    "ax.bar(x, product_type_CG1 / total_user_CG1, color=\"orange\", width=0.5, label=\"CG1\")\n",
    "ax.bar(x, product_type_CG2 / total_user_CG2, color=\"blue\", width=0.4, alpha=0.5, label=\"CG2\")\n",
    "ax.bar(x, product_type_TG  / total_user_TG, color=\"green\", alpha=0.6, label=\"TG\")\n",
    "plt.legend(loc='upper right')\n",
    "plt.title(\"Типы оплаченных продуктов в процентном соотношении\")\n",
    "plt.show()"
   ]
  },
  {
   "cell_type": "markdown",
   "metadata": {},
   "source": [
    "Предположение подтвердилось."
   ]
  },
  {
   "cell_type": "markdown",
   "metadata": {},
   "source": [
    "### 02.05 Премиум статус"
   ]
  },
  {
   "cell_type": "markdown",
   "metadata": {},
   "source": [
    "Рассмотрим количество пользователей у которых есть премиум статус на момент А/Б теста."
   ]
  },
  {
   "cell_type": "code",
   "execution_count": 52,
   "metadata": {},
   "outputs": [
    {
     "data": {
      "image/png": "[encoded data removed]",
      "text/plain": [
       "<Figure size 648x432 with 1 Axes>"
      ]
     },
     "metadata": {},
     "output_type": "display_data"
    }
   ],
   "source": [
    "is_special_CG1 = portrait_CG1[\"is_special\"].value_counts()\n",
    "is_special_CG2 = portrait_CG2[\"is_special\"].value_counts()\n",
    "is_special_TG = portrait_TG[\"is_special\"].value_counts()\n",
    "\n",
    "x = portrait_CG1[\"is_special\"].unique()\n",
    "fig, ax = plt.subplots()\n",
    "ax.bar(x, is_special_CG1, color=\"orange\", width=0.5, label=\"CG1\")\n",
    "ax.bar(x, is_special_CG2, color=\"blue\", width=0.2, alpha=0.5, label=\"CG2\")\n",
    "ax.bar(x, is_special_TG, color=\"green\", alpha=0.6, label=\"TG\")\n",
    "plt.legend(loc='upper right')\n",
    "plt.title(\"есть ли у пользователя премиум статус\")\n",
    "plt.show()"
   ]
  },
  {
   "cell_type": "code",
   "execution_count": 53,
   "metadata": {},
   "outputs": [
    {
     "data": {
      "image/png": "[encoded data removed]",
      "text/plain": [
       "<Figure size 648x432 with 1 Axes>"
      ]
     },
     "metadata": {},
     "output_type": "display_data"
    }
   ],
   "source": [
    "x = list_tables_names[0:3]\n",
    "y = [is_special_CG1[1], \n",
    "     is_special_CG2[1], \n",
    "     is_special_TG[1]]\n",
    "\n",
    "plt.bar(x, y, color=\"blue\", width=0.5)\n",
    "plt.title(\"Пользователи у которых есть премиум статус\")\n",
    "plt.show()"
   ]
  },
  {
   "cell_type": "code",
   "execution_count": 54,
   "metadata": {},
   "outputs": [
    {
     "data": {
      "image/png": "[encoded data removed]",
      "text/plain": [
       "<Figure size 648x432 with 1 Axes>"
      ]
     },
     "metadata": {},
     "output_type": "display_data"
    }
   ],
   "source": [
    "x = list_tables_names[0:3]\n",
    "y = [is_special_CG1[1] / total_user_CG1,\n",
    "     is_special_CG2[1] / total_user_CG2,\n",
    "     is_special_TG[1]  / total_user_TG]\n",
    "\n",
    "plt.bar(x, y, color=\"green\", width=0.5)\n",
    "plt.title(\"Процент пользователей у которых есть премиум статус\")\n",
    "plt.show()"
   ]
  },
  {
   "cell_type": "markdown",
   "metadata": {},
   "source": [
    "Процент пользователей имеющих премиум статус снижается на тестовой выборке. Возможно это связано с новой ценой на премиус статус"
   ]
  },
  {
   "cell_type": "code",
   "execution_count": 55,
   "metadata": {},
   "outputs": [
    {
     "data": {
      "image/png": "[encoded data removed]",
      "text/plain": [
       "<Figure size 648x432 with 1 Axes>"
      ]
     },
     "metadata": {},
     "output_type": "display_data"
    }
   ],
   "source": [
    "x = list_tables_names[0:3]\n",
    "y1 = [portrait_CG1[\"was_special\"].value_counts()[1], \n",
    "      portrait_CG2[\"was_special\"].value_counts()[1], \n",
    "      portrait_TG[\"was_special\"].value_counts()[1]]\n",
    "\n",
    "\n",
    "plt.bar(x, y1, color=\"blue\", width=0.5)\n",
    "plt.title(\"был ли у пользователя премиум статус\")\n",
    "plt.show()"
   ]
  },
  {
   "cell_type": "markdown",
   "metadata": {},
   "source": [
    "### 02.06 Retention Days"
   ]
  },
  {
   "cell_type": "markdown",
   "metadata": {},
   "source": [
    "Посмотрим на распределение возвратов пользователей по количеству дней после регистрации."
   ]
  },
  {
   "cell_type": "code",
   "execution_count": 56,
   "metadata": {},
   "outputs": [
    {
     "data": {
      "image/png": "[encoded data removed]",
      "text/plain": [
       "<Figure size 1440x1080 with 1 Axes>"
      ]
     },
     "metadata": {},
     "output_type": "display_data"
    }
   ],
   "source": [
    "x = portrait_CG1[\"len_retention\"].unique()\n",
    "y1 = portrait_CG1[\"len_retention\"].value_counts()\n",
    "y2 = portrait_CG2[\"len_retention\"].value_counts()\n",
    "y3 = portrait_TG[\"len_retention\"].value_counts()\n",
    "fig, ax = plt.subplots()\n",
    "ax.bar(x, y1, color=\"orange\", width=0.5, label=\"CG1\")\n",
    "ax.bar(x, y2, color=\"blue\", width=0.2, alpha=0.5, label=\"CG2\")\n",
    "ax.bar(x, y3, color=\"green\", alpha=0.6, label=\"TG\")\n",
    "fig.set_figwidth(20)\n",
    "fig.set_figheight(15) \n",
    "plt.legend(loc='upper right')\n",
    "plt.title(\"Распределение возвратов пользователей по дням\")\n",
    "plt.show()"
   ]
  },
  {
   "cell_type": "markdown",
   "metadata": {},
   "source": [
    "Наибольшее число пользователей возвращается шесть раз после регистрации."
   ]
  },
  {
   "cell_type": "markdown",
   "metadata": {},
   "source": [
    "Соотношение количества дней, в которых пользователи возвращаются, к общему числу пользователей."
   ]
  },
  {
   "cell_type": "code",
   "execution_count": 57,
   "metadata": {},
   "outputs": [],
   "source": [
    "user_retention_CG1 = portrait_CG1[portrait_CG1[\"len_retention\"] != 0].shape[0]\n",
    "user_retention_CG2 = portrait_CG2[portrait_CG2[\"len_retention\"] != 0].shape[0]\n",
    "user_retention_TG  = portrait_TG[portrait_TG[\"len_retention\"] != 0].shape[0]\n",
    "\n",
    "user_retention_CG1_premium = portrait_CG1[(portrait_CG1[\"len_retention\"] != 0)\\\n",
    "                                          & (portrait_CG1[\"is_special\"] == 1)].shape[0]\n",
    "user_retention_CG2_premium = portrait_CG2[(portrait_CG2[\"len_retention\"] != 0)\\\n",
    "                                          & (portrait_CG2[\"is_special\"] == 1)].shape[0]\n",
    "user_retention_TG_premium   = portrait_TG[(portrait_TG[\"len_retention\"] != 0)\\\n",
    "                                          & (portrait_TG[\"is_special\"] == 1)].shape[0]"
   ]
  },
  {
   "cell_type": "code",
   "execution_count": 58,
   "metadata": {},
   "outputs": [
    {
     "data": {
      "image/png": "[encoded data removed]",
      "text/plain": [
       "<Figure size 648x432 with 1 Axes>"
      ]
     },
     "metadata": {},
     "output_type": "display_data"
    }
   ],
   "source": [
    "x = [\"CG1\", \"CG2\", \"TG\"]\n",
    "y1 = [user_retention_CG1 / total_user_CG1, \n",
    "     user_retention_CG2 / total_user_CG2, \n",
    "     user_retention_TG / total_user_TG]\n",
    "\n",
    "plt.bar(x, y1, color=\"orange\")\n",
    "plt.title(\"Retention\")\n",
    "plt.show()"
   ]
  },
  {
   "cell_type": "code",
   "execution_count": 59,
   "metadata": {},
   "outputs": [
    {
     "data": {
      "image/png": "[encoded data removed]",
      "text/plain": [
       "<Figure size 648x432 with 1 Axes>"
      ]
     },
     "metadata": {},
     "output_type": "display_data"
    }
   ],
   "source": [
    "x = [\"CG1\", \"CG2\", \"TG\"]\n",
    "y = [user_retention_CG1_premium / total_user_CG1,\n",
    "      user_retention_CG1_premium / total_user_CG2,\n",
    "      user_retention_TG_premium / total_user_TG]\n",
    "plt.bar(x, y, color=\"blue\")\n",
    "plt.title(\"Retention is special\")\n",
    "plt.show()"
   ]
  },
  {
   "cell_type": "markdown",
   "metadata": {},
   "source": [
    "В соотношении количество дней в которых пользователи возвращаются к общему числу пользователй после регистрации на тестовой группе не изменилось."
   ]
  },
  {
   "cell_type": "markdown",
   "metadata": {},
   "source": [
    "## 03. Проверка гипотез\n",
    "<a id='hypotesis'></a>"
   ]
  },
  {
   "cell_type": "markdown",
   "metadata": {},
   "source": [
    "### 03.01. Таблицы payments"
   ]
  },
  {
   "cell_type": "markdown",
   "metadata": {},
   "source": [
    "### Выручка"
   ]
  },
  {
   "cell_type": "markdown",
   "metadata": {},
   "source": [
    "Рассмотрим меры центральной тенденции и изменчивости признака revenue в таблицах payments."
   ]
  },
  {
   "cell_type": "code",
   "execution_count": 60,
   "metadata": {},
   "outputs": [
    {
     "data": {
      "text/html": [
       "<div>\n",
       "<style scoped>\n",
       "    .dataframe tbody tr th:only-of-type {\n",
       "        vertical-align: middle;\n",
       "    }\n",
       "\n",
       "    .dataframe tbody tr th {\n",
       "        vertical-align: top;\n",
       "    }\n",
       "\n",
       "    .dataframe thead th {\n",
       "        text-align: right;\n",
       "    }\n",
       "</style>\n",
       "<table border=\"1\" class=\"dataframe\">\n",
       "  <thead>\n",
       "    <tr style=\"text-align: right;\">\n",
       "      <th></th>\n",
       "      <th>payments_CG1</th>\n",
       "      <th>payments_CG2</th>\n",
       "      <th>payments_TG</th>\n",
       "    </tr>\n",
       "  </thead>\n",
       "  <tbody>\n",
       "    <tr>\n",
       "      <th>count</th>\n",
       "      <td>356.000000</td>\n",
       "      <td>323.000000</td>\n",
       "      <td>266.000000</td>\n",
       "    </tr>\n",
       "    <tr>\n",
       "      <th>mean</th>\n",
       "      <td>7007.876404</td>\n",
       "      <td>5907.111455</td>\n",
       "      <td>8767.766917</td>\n",
       "    </tr>\n",
       "    <tr>\n",
       "      <th>std</th>\n",
       "      <td>7985.995094</td>\n",
       "      <td>6615.180325</td>\n",
       "      <td>11216.235341</td>\n",
       "    </tr>\n",
       "    <tr>\n",
       "      <th>min</th>\n",
       "      <td>26.000000</td>\n",
       "      <td>481.000000</td>\n",
       "      <td>533.000000</td>\n",
       "    </tr>\n",
       "    <tr>\n",
       "      <th>25%</th>\n",
       "      <td>2804.750000</td>\n",
       "      <td>2340.000000</td>\n",
       "      <td>3129.750000</td>\n",
       "    </tr>\n",
       "    <tr>\n",
       "      <th>50%</th>\n",
       "      <td>6292.000000</td>\n",
       "      <td>4719.000000</td>\n",
       "      <td>6363.500000</td>\n",
       "    </tr>\n",
       "    <tr>\n",
       "      <th>75%</th>\n",
       "      <td>7312.500000</td>\n",
       "      <td>6350.500000</td>\n",
       "      <td>12597.000000</td>\n",
       "    </tr>\n",
       "    <tr>\n",
       "      <th>max</th>\n",
       "      <td>63037.000000</td>\n",
       "      <td>81796.000000</td>\n",
       "      <td>113477.000000</td>\n",
       "    </tr>\n",
       "  </tbody>\n",
       "</table>\n",
       "</div>"
      ],
      "text/plain": [
       "       payments_CG1  payments_CG2    payments_TG\n",
       "count    356.000000    323.000000     266.000000\n",
       "mean    7007.876404   5907.111455    8767.766917\n",
       "std     7985.995094   6615.180325   11216.235341\n",
       "min       26.000000    481.000000     533.000000\n",
       "25%     2804.750000   2340.000000    3129.750000\n",
       "50%     6292.000000   4719.000000    6363.500000\n",
       "75%     7312.500000   6350.500000   12597.000000\n",
       "max    63037.000000  81796.000000  113477.000000"
      ]
     },
     "execution_count": 60,
     "metadata": {},
     "output_type": "execute_result"
    }
   ],
   "source": [
    "desc_index_1 = payments_CG1.describe().index\n",
    "describe_table_revenue = Table(describe=True)\\\n",
    "    .make_describe_table(columns=list_tables_names,\n",
    "                         indexes=desc_index_1,\n",
    "                         feature=\"revenue\",\n",
    "                         start=0,\n",
    "                         stop=3)\n",
    "describe_table_revenue"
   ]
  },
  {
   "cell_type": "markdown",
   "metadata": {},
   "source": [
    "Создадим функции для проверки статистической значимости гипотез:\n",
    "- t-test Стьюдента\n",
    "- u-test Манна-Уитни"
   ]
  },
  {
   "cell_type": "code",
   "execution_count": 61,
   "metadata": {},
   "outputs": [],
   "source": [
    "def ttestStudent(cg, tg, alpha):\n",
    "    \"\"\"t-tест Стьюдента для независимых выборок\n",
    "    cg : pd.Series\n",
    "        control group - контрольная группа пользователей\n",
    "    tg : pd.Series\n",
    "        test group - тестовая группа пользователей\n",
    "    alpha : int\n",
    "        пороговое значение для статистической значимости\n",
    "    \"\"\"    \n",
    "    # средние\n",
    "    mean_cg, mean_tg = cg.mean(), tg.mean()    \n",
    "    # стандартные ошибки\n",
    "    # # функция st.sem идентична cg.std() / (len(cg)**0.5)\n",
    "    se_cg, se_tg = st.sem(cg), st.sem(tg)    \n",
    "    # стандартная ошибка разности средних \n",
    "    sed = (se_cg**2 + se_tg**2)**0.5    \n",
    "    # число степеней свободы\n",
    "    df = len(cg) + len(tg) - 2    \n",
    "    # критическое значение \n",
    "    cv = st.t.ppf(1 - alpha, df)\n",
    "    # в зависимости от равенства дисперсий выборок \n",
    "    # рассчитаем t-критерий и p-value:\n",
    "    # t критерий\n",
    "    t_stat = 0\n",
    "    p_value = 0    \n",
    "    if cg.var() == tg.var():\n",
    "        t_stat = (mean_cg - mean_tg) / sed\n",
    "        p_value = (1 - st.t.cdf(abs(t_stat), df)) * 2\n",
    "    else:\n",
    "        # если дисперсии не равны для независимых выборок применяется\n",
    "        # t-критерий Уэлча\n",
    "        t_stat  = st.ttest_ind(cg, tg, equal_var=False)[0]\n",
    "        p_value = st.ttest_ind(cg, tg, equal_var=False)[1]\n",
    "        \n",
    "    # вывод\n",
    "    answer = str()\n",
    "    if p_value < alpha: answer = \"Отвергаем нулевую гипотезу\"\n",
    "    else: answer = \"Не получилось отвергнуть нулевую гипотезу\"\n",
    "\n",
    "    # результирующий ссловарь\n",
    "    result = pd.Series({\"t_stat\" : t_stat,\n",
    "                        \"df\" : df,\n",
    "                        \"cv\" : cv,\n",
    "                        \"p_value\" : p_value,\n",
    "                        \"answer\" : answer})\n",
    "\n",
    "    return result"
   ]
  },
  {
   "cell_type": "code",
   "execution_count": 62,
   "metadata": {},
   "outputs": [],
   "source": [
    "def utestMannWhitneyu(cg, tg, alpha):\n",
    "    \"\"\"U-tест Манна-Уитни для независимых выборок\n",
    "    cg : pd.Series\n",
    "        control group - контрольная группа пользователей\n",
    "    tg : pd.Series\n",
    "        test group - тестовая группа пользователей\n",
    "    alpha : int\n",
    "        пороговое значение для статистической значимости\n",
    "    \"\"\"\n",
    "    \n",
    "    u_stat = 0\n",
    "    p_value = 0\n",
    "    \n",
    "    u_stat = st.mannwhitneyu(cg, tg)[0]\n",
    "    p_value = st.mannwhitneyu(cg, tg)[1]\n",
    "    # вывод\n",
    "    answer = str()\n",
    "    if p_value < alpha: answer = \"Отвергаем нулевую гипотезу\"\n",
    "    else: answer = \"Не получилось отвергнуть нулевую гипотезу\"\n",
    "    \n",
    "    result = pd.Series({\"u_stat\" : u_stat,\n",
    "                        \"p_value\" : p_value,\n",
    "                        \"answer\" : answer})\n",
    "    return result    "
   ]
  },
  {
   "cell_type": "markdown",
   "metadata": {},
   "source": [
    "#### Гипотеза о среднем по выручке"
   ]
  },
  {
   "cell_type": "markdown",
   "metadata": {},
   "source": [
    "Выдвинем гипотезы:\n",
    "\n",
    "- H0 - среднее значение выручки между группами не изменилось (нулевая гипотеза)\n",
    "- H1 - среднее значение выручки тестовой группы выросло (альтернативная гипотеза)"
   ]
  },
  {
   "cell_type": "markdown",
   "metadata": {},
   "source": [
    "Проверим статистическую значимость альтернативной гипотезы с помощью t-test Стъюдента"
   ]
  },
  {
   "cell_type": "code",
   "execution_count": 63,
   "metadata": {},
   "outputs": [
    {
     "data": {
      "text/html": [
       "<div>\n",
       "<style scoped>\n",
       "    .dataframe tbody tr th:only-of-type {\n",
       "        vertical-align: middle;\n",
       "    }\n",
       "\n",
       "    .dataframe tbody tr th {\n",
       "        vertical-align: top;\n",
       "    }\n",
       "\n",
       "    .dataframe thead th {\n",
       "        text-align: right;\n",
       "    }\n",
       "</style>\n",
       "<table border=\"1\" class=\"dataframe\">\n",
       "  <thead>\n",
       "    <tr style=\"text-align: right;\">\n",
       "      <th></th>\n",
       "      <th>ttest_CG1_revenue</th>\n",
       "      <th>ttest_CG2_revenue</th>\n",
       "    </tr>\n",
       "  </thead>\n",
       "  <tbody>\n",
       "    <tr>\n",
       "      <th>t_stat</th>\n",
       "      <td>-2.17937</td>\n",
       "      <td>-3.66742</td>\n",
       "    </tr>\n",
       "    <tr>\n",
       "      <th>df</th>\n",
       "      <td>620</td>\n",
       "      <td>587</td>\n",
       "    </tr>\n",
       "    <tr>\n",
       "      <th>cv</th>\n",
       "      <td>1.64732</td>\n",
       "      <td>1.64745</td>\n",
       "    </tr>\n",
       "    <tr>\n",
       "      <th>p_value</th>\n",
       "      <td>0.0298164</td>\n",
       "      <td>0.000277209</td>\n",
       "    </tr>\n",
       "    <tr>\n",
       "      <th>answer</th>\n",
       "      <td>Отвергаем нулевую гипотезу</td>\n",
       "      <td>Отвергаем нулевую гипотезу</td>\n",
       "    </tr>\n",
       "  </tbody>\n",
       "</table>\n",
       "</div>"
      ],
      "text/plain": [
       "                  ttest_CG1_revenue           ttest_CG2_revenue\n",
       "t_stat                     -2.17937                    -3.66742\n",
       "df                              620                         587\n",
       "cv                          1.64732                     1.64745\n",
       "p_value                   0.0298164                 0.000277209\n",
       "answer   Отвергаем нулевую гипотезу  Отвергаем нулевую гипотезу"
      ]
     },
     "execution_count": 63,
     "metadata": {},
     "output_type": "execute_result"
    }
   ],
   "source": [
    "revenue_CG1 = payments_CG1[\"revenue\"]\n",
    "revenue_CG2 = payments_CG2[\"revenue\"]\n",
    "revenue_TG = payments_TG[\"revenue\"]\n",
    "alpha = 0.05\n",
    "\n",
    "ttest_CG1_revenue = ttestStudent(revenue_CG1, revenue_TG, alpha)\n",
    "ttest_CG2_revenue = ttestStudent(revenue_CG2, revenue_TG, alpha)\n",
    "ttest_table_revenue = pd.DataFrame(ttest_CG1_revenue, \n",
    "                                   columns=[\"ttest_CG1_revenue\"], \n",
    "                                   index=ttest_CG1_revenue.keys())\n",
    "ttest_table_revenue[\"ttest_CG2_revenue\"] = ttest_CG2_revenue\n",
    "ttest_table_revenue"
   ]
  },
  {
   "cell_type": "code",
   "execution_count": 64,
   "metadata": {},
   "outputs": [
    {
     "data": {
      "image/png": "[encoded data removed]",
      "text/plain": [
       "<Figure size 648x432 with 1 Axes>"
      ]
     },
     "metadata": {},
     "output_type": "display_data"
    }
   ],
   "source": [
    "revenue_mean = [eval(list_tables_names[i])[\"revenue\"].mean() for i in range(3)]\n",
    "plt.bar(list_tables_names[:3], revenue_mean, color=\"orange\", width=0.5, label=\"revenue\")\n",
    "plt.title(\"Revenue Mean\")\n",
    "plt.show()"
   ]
  },
  {
   "cell_type": "markdown",
   "metadata": {},
   "source": [
    "Действительно, исходя из t-test, табличных значений и графика принимаем альтернативную гипотезу, что средняя выручка по тестовой группе выпросла относительно контрольных групп."
   ]
  },
  {
   "cell_type": "markdown",
   "metadata": {},
   "source": [
    "#### Гипотеза о распределении выручки"
   ]
  },
  {
   "cell_type": "markdown",
   "metadata": {},
   "source": [
    "Выдвинем гипотезы:\n",
    "\n",
    "- H0 - распределение выручки между группами не изменилось (нулевая гипотеза)\n",
    "- H1 - распределение выручки для тестовой группы изменилось (альтернативная гипотеза)"
   ]
  },
  {
   "cell_type": "code",
   "execution_count": 65,
   "metadata": {},
   "outputs": [
    {
     "data": {
      "text/html": [
       "<div>\n",
       "<style scoped>\n",
       "    .dataframe tbody tr th:only-of-type {\n",
       "        vertical-align: middle;\n",
       "    }\n",
       "\n",
       "    .dataframe tbody tr th {\n",
       "        vertical-align: top;\n",
       "    }\n",
       "\n",
       "    .dataframe thead th {\n",
       "        text-align: right;\n",
       "    }\n",
       "</style>\n",
       "<table border=\"1\" class=\"dataframe\">\n",
       "  <thead>\n",
       "    <tr style=\"text-align: right;\">\n",
       "      <th></th>\n",
       "      <th>utest_CG1_revenue</th>\n",
       "      <th>utest_CG2_revenue</th>\n",
       "    </tr>\n",
       "  </thead>\n",
       "  <tbody>\n",
       "    <tr>\n",
       "      <th>u_stat</th>\n",
       "      <td>40815</td>\n",
       "      <td>34220</td>\n",
       "    </tr>\n",
       "    <tr>\n",
       "      <th>p_value</th>\n",
       "      <td>0.00159796</td>\n",
       "      <td>1.04694e-05</td>\n",
       "    </tr>\n",
       "    <tr>\n",
       "      <th>answer</th>\n",
       "      <td>Отвергаем нулевую гипотезу</td>\n",
       "      <td>Отвергаем нулевую гипотезу</td>\n",
       "    </tr>\n",
       "  </tbody>\n",
       "</table>\n",
       "</div>"
      ],
      "text/plain": [
       "                  utest_CG1_revenue           utest_CG2_revenue\n",
       "u_stat                        40815                       34220\n",
       "p_value                  0.00159796                 1.04694e-05\n",
       "answer   Отвергаем нулевую гипотезу  Отвергаем нулевую гипотезу"
      ]
     },
     "execution_count": 65,
     "metadata": {},
     "output_type": "execute_result"
    }
   ],
   "source": [
    "utest_CG1_revenue = utestMannWhitneyu(revenue_CG1, revenue_TG, alpha)\n",
    "utest_CG2_revenue = utestMannWhitneyu(revenue_CG2, revenue_TG, alpha)\n",
    "utest_table_revenue = pd.DataFrame(utest_CG1_revenue, \n",
    "                                   columns=[\"utest_CG1_revenue\"], \n",
    "                                   index=utest_CG1_revenue.keys())\n",
    "utest_table_revenue[\"utest_CG2_revenue\"] = utest_CG2_revenue\n",
    "utest_table_revenue"
   ]
  },
  {
   "cell_type": "markdown",
   "metadata": {},
   "source": [
    "Исходя из u-test, принимаем альтернативную гипотезу."
   ]
  },
  {
   "cell_type": "markdown",
   "metadata": {},
   "source": [
    "### 03.02 Таблицы portrait"
   ]
  },
  {
   "cell_type": "markdown",
   "metadata": {},
   "source": [
    "Рассмотрим меры центральной тенденции и изменчивости признаков в таблицах portrait."
   ]
  },
  {
   "cell_type": "markdown",
   "metadata": {},
   "source": [
    "Возьмем признаки age, len_retention, total_revenue"
   ]
  },
  {
   "cell_type": "code",
   "execution_count": 66,
   "metadata": {},
   "outputs": [
    {
     "name": "stdout",
     "output_type": "stream",
     "text": [
      "\tage\n",
      "+-------+--------+--------+--------+\n",
      "| #     | CG1    | CG2    | TG     |\n",
      "+-------+--------+--------+--------+\n",
      "| count | 4340.0 | 4264.0 | 4308.0 |\n",
      "| mean  | 32.1   | 32.05  | 31.89  |\n",
      "| std   | 10.26  | 10.17  | 10.25  |\n",
      "| min   | 16.0   | 16.0   | 16.0   |\n",
      "| 25%   | 24.0   | 25.0   | 25.0   |\n",
      "| 50%   | 30.0   | 30.0   | 30.0   |\n",
      "| 75%   | 38.0   | 38.0   | 38.0   |\n",
      "| max   | 99.0   | 99.0   | 99.0   |\n",
      "+-------+--------+--------+--------+\n",
      "\n",
      "\tlen_retention\n",
      "+-------+--------+--------+--------+\n",
      "| #     | CG1    | CG2    | TG     |\n",
      "+-------+--------+--------+--------+\n",
      "| count | 4340.0 | 4264.0 | 4308.0 |\n",
      "| mean  | 4.64   | 4.64   | 4.59   |\n",
      "| std   | 6.31   | 6.33   | 6.19   |\n",
      "| min   | 0.0    | 0.0    | 0.0    |\n",
      "| 25%   | 0.0    | 0.0    | 0.0    |\n",
      "| 50%   | 2.0    | 2.0    | 2.0    |\n",
      "| 75%   | 7.0    | 7.0    | 7.0    |\n",
      "| max   | 31.0   | 31.0   | 31.0   |\n",
      "+-------+--------+--------+--------+\n",
      "\n",
      "\ttotal_revenue\n",
      "+-------+----------+---------+----------+\n",
      "| #     | CG1      | CG2     | TG       |\n",
      "+-------+----------+---------+----------+\n",
      "| count | 4340.0   | 4264.0  | 4308.0   |\n",
      "| mean  | 594.76   | 450.38  | 534.08   |\n",
      "| std   | 7987.92  | 2859.24 | 4371.68  |\n",
      "| min   | 0.0      | 0.0     | 0.0      |\n",
      "| 25%   | 0.0      | 0.0     | 0.0      |\n",
      "| 50%   | 0.0      | 0.0     | 0.0      |\n",
      "| 75%   | 0.0      | 0.0     | 0.0      |\n",
      "| max   | 486330.0 | 81796.0 | 129870.0 |\n",
      "+-------+----------+---------+----------+\n",
      "\n"
     ]
    }
   ],
   "source": [
    "desc_index_2 = portrait_CG1.describe().index\n",
    "portrait_desc_features = [\"age\", \"len_retention\", \"total_revenue\"]\n",
    "for feature in portrait_desc_features:\n",
    "    \n",
    "        tmp_table = Table(describe=True)\\\n",
    "            .make_describe_table(columns=list_tables_names,\n",
    "                                 indexes=desc_index_2,\n",
    "                                 feature=feature,\n",
    "                                 start=3,\n",
    "                                 stop=len(list_tables_names))\n",
    "        \n",
    "        x = pt.PrettyTable()\n",
    "        x.add_column(\"#\", desc_index_2)\n",
    "        x.add_column(\"CG1\", tmp_table.iloc[:, 0].round(2))\n",
    "        x.add_column(\"CG2\", tmp_table.iloc[:, 1].round(2))\n",
    "        x.add_column(\"TG\",  tmp_table.iloc[:, 2].round(2))\n",
    "        x.align = \"l\"\n",
    "\n",
    "        print(\"\\t\"+feature, x, sep=\"\\n\", end=\"\\n\\n\")"
   ]
  },
  {
   "cell_type": "markdown",
   "metadata": {},
   "source": [
    "### Возраст"
   ]
  },
  {
   "cell_type": "markdown",
   "metadata": {},
   "source": [
    "#### Гипотеза о среднем возрасте"
   ]
  },
  {
   "cell_type": "markdown",
   "metadata": {},
   "source": [
    "Выдвенем гипотезу:\n",
    "- H0 - среднее по возрасту пользователей у которых есть премиум статус не изменилось (нулевая гипотеза)\n",
    "- H1 - среднее по возрасту пользователей у которых есть премиум статус изменилось (альтернативная гипотеза)"
   ]
  },
  {
   "cell_type": "code",
   "execution_count": 67,
   "metadata": {},
   "outputs": [
    {
     "data": {
      "text/html": [
       "<div>\n",
       "<style scoped>\n",
       "    .dataframe tbody tr th:only-of-type {\n",
       "        vertical-align: middle;\n",
       "    }\n",
       "\n",
       "    .dataframe tbody tr th {\n",
       "        vertical-align: top;\n",
       "    }\n",
       "\n",
       "    .dataframe thead th {\n",
       "        text-align: right;\n",
       "    }\n",
       "</style>\n",
       "<table border=\"1\" class=\"dataframe\">\n",
       "  <thead>\n",
       "    <tr style=\"text-align: right;\">\n",
       "      <th></th>\n",
       "      <th>ttest_CG1_age</th>\n",
       "      <th>ttest_CG2_age</th>\n",
       "    </tr>\n",
       "  </thead>\n",
       "  <tbody>\n",
       "    <tr>\n",
       "      <th>t_stat</th>\n",
       "      <td>-0.106433</td>\n",
       "      <td>0.0982343</td>\n",
       "    </tr>\n",
       "    <tr>\n",
       "      <th>df</th>\n",
       "      <td>347</td>\n",
       "      <td>346</td>\n",
       "    </tr>\n",
       "    <tr>\n",
       "      <th>cv</th>\n",
       "      <td>1.64926</td>\n",
       "      <td>1.64927</td>\n",
       "    </tr>\n",
       "    <tr>\n",
       "      <th>p_value</th>\n",
       "      <td>0.915301</td>\n",
       "      <td>0.921804</td>\n",
       "    </tr>\n",
       "    <tr>\n",
       "      <th>answer</th>\n",
       "      <td>Не получилось отвергнуть нулевую гипотезу</td>\n",
       "      <td>Не получилось отвергнуть нулевую гипотезу</td>\n",
       "    </tr>\n",
       "  </tbody>\n",
       "</table>\n",
       "</div>"
      ],
      "text/plain": [
       "                                     ttest_CG1_age  \\\n",
       "t_stat                                   -0.106433   \n",
       "df                                             347   \n",
       "cv                                         1.64926   \n",
       "p_value                                   0.915301   \n",
       "answer   Не получилось отвергнуть нулевую гипотезу   \n",
       "\n",
       "                                     ttest_CG2_age  \n",
       "t_stat                                   0.0982343  \n",
       "df                                             346  \n",
       "cv                                         1.64927  \n",
       "p_value                                   0.921804  \n",
       "answer   Не получилось отвергнуть нулевую гипотезу  "
      ]
     },
     "execution_count": 67,
     "metadata": {},
     "output_type": "execute_result"
    }
   ],
   "source": [
    "age_CG1 = is_special_CG1_age\n",
    "age_CG2 = is_special_CG2_age\n",
    "age_TG  = is_special_TG_age\n",
    "alpha = 0.05\n",
    "\n",
    "ttest_CG1_age = ttestStudent(age_CG1, age_TG, alpha)\n",
    "ttest_CG2_age = ttestStudent(age_CG2, age_TG, alpha)\n",
    "ttest_table_age = pd.DataFrame(ttest_CG1_age, columns=[\"ttest_CG1_age\"], index=ttest_CG1_age.keys())\n",
    "ttest_table_age[\"ttest_CG2_age\"] = ttest_CG2_age\n",
    "ttest_table_age"
   ]
  },
  {
   "cell_type": "markdown",
   "metadata": {},
   "source": [
    "Согласно t-test, принимаем нулевую гипотезу."
   ]
  },
  {
   "cell_type": "markdown",
   "metadata": {},
   "source": [
    "#### Гипотеза о распределении возраста"
   ]
  },
  {
   "cell_type": "markdown",
   "metadata": {},
   "source": [
    "Выдвенем гипотезу:\n",
    "- H0 - распределение возраста не изменилось (нулевая гипотеза)\n",
    "- H1 - распределение возраста изменилось (альтернативная гипотеза)"
   ]
  },
  {
   "cell_type": "code",
   "execution_count": 68,
   "metadata": {},
   "outputs": [
    {
     "data": {
      "text/html": [
       "<div>\n",
       "<style scoped>\n",
       "    .dataframe tbody tr th:only-of-type {\n",
       "        vertical-align: middle;\n",
       "    }\n",
       "\n",
       "    .dataframe tbody tr th {\n",
       "        vertical-align: top;\n",
       "    }\n",
       "\n",
       "    .dataframe thead th {\n",
       "        text-align: right;\n",
       "    }\n",
       "</style>\n",
       "<table border=\"1\" class=\"dataframe\">\n",
       "  <thead>\n",
       "    <tr style=\"text-align: right;\">\n",
       "      <th></th>\n",
       "      <th>utest_CG1_age</th>\n",
       "      <th>utest_CG2_age</th>\n",
       "    </tr>\n",
       "  </thead>\n",
       "  <tbody>\n",
       "    <tr>\n",
       "      <th>u_stat</th>\n",
       "      <td>14271.5</td>\n",
       "      <td>14685</td>\n",
       "    </tr>\n",
       "    <tr>\n",
       "      <th>p_value</th>\n",
       "      <td>0.196595</td>\n",
       "      <td>0.370695</td>\n",
       "    </tr>\n",
       "    <tr>\n",
       "      <th>answer</th>\n",
       "      <td>Не получилось отвергнуть нулевую гипотезу</td>\n",
       "      <td>Не получилось отвергнуть нулевую гипотезу</td>\n",
       "    </tr>\n",
       "  </tbody>\n",
       "</table>\n",
       "</div>"
      ],
      "text/plain": [
       "                                     utest_CG1_age  \\\n",
       "u_stat                                     14271.5   \n",
       "p_value                                   0.196595   \n",
       "answer   Не получилось отвергнуть нулевую гипотезу   \n",
       "\n",
       "                                     utest_CG2_age  \n",
       "u_stat                                       14685  \n",
       "p_value                                   0.370695  \n",
       "answer   Не получилось отвергнуть нулевую гипотезу  "
      ]
     },
     "execution_count": 68,
     "metadata": {},
     "output_type": "execute_result"
    }
   ],
   "source": [
    "utest_CG1_age = utestMannWhitneyu(age_CG1, age_TG, alpha)\n",
    "utest_CG2_age = utestMannWhitneyu(age_CG2, age_TG, alpha)\n",
    "utest_table_age = pd.DataFrame(utest_CG1_age, \n",
    "                               columns=[\"utest_CG1_age\"], \n",
    "                               index=utest_CG1_age.keys())\n",
    "utest_table_age[\"utest_CG2_age\"] = utest_CG2_age\n",
    "utest_table_age"
   ]
  },
  {
   "cell_type": "markdown",
   "metadata": {},
   "source": [
    "Согласно u-test, принимаем нулевую гипотезу."
   ]
  },
  {
   "cell_type": "markdown",
   "metadata": {},
   "source": [
    "### Количество дней возврата пользователя после регистрации"
   ]
  },
  {
   "cell_type": "markdown",
   "metadata": {},
   "source": [
    "#### Гипотеза о среднем количестве дней возврата"
   ]
  },
  {
   "cell_type": "markdown",
   "metadata": {},
   "source": [
    "Выдвенем гипотезы:\n",
    "- H0 - среднее по количеству дней возврата не изменилось (нулевая гипотеза)\n",
    "- H1 - среднее по количеству дней возврата изменилось (альтернативная гипотеза)"
   ]
  },
  {
   "cell_type": "code",
   "execution_count": 69,
   "metadata": {},
   "outputs": [
    {
     "data": {
      "text/html": [
       "<div>\n",
       "<style scoped>\n",
       "    .dataframe tbody tr th:only-of-type {\n",
       "        vertical-align: middle;\n",
       "    }\n",
       "\n",
       "    .dataframe tbody tr th {\n",
       "        vertical-align: top;\n",
       "    }\n",
       "\n",
       "    .dataframe thead th {\n",
       "        text-align: right;\n",
       "    }\n",
       "</style>\n",
       "<table border=\"1\" class=\"dataframe\">\n",
       "  <thead>\n",
       "    <tr style=\"text-align: right;\">\n",
       "      <th></th>\n",
       "      <th>ttest_CG1_len_retention</th>\n",
       "      <th>ttest_CG2_len_retention</th>\n",
       "    </tr>\n",
       "  </thead>\n",
       "  <tbody>\n",
       "    <tr>\n",
       "      <th>t_stat</th>\n",
       "      <td>0.42388</td>\n",
       "      <td>0.429717</td>\n",
       "    </tr>\n",
       "    <tr>\n",
       "      <th>df</th>\n",
       "      <td>8646</td>\n",
       "      <td>8570</td>\n",
       "    </tr>\n",
       "    <tr>\n",
       "      <th>cv</th>\n",
       "      <td>1.64503</td>\n",
       "      <td>1.64503</td>\n",
       "    </tr>\n",
       "    <tr>\n",
       "      <th>p_value</th>\n",
       "      <td>0.671664</td>\n",
       "      <td>0.667412</td>\n",
       "    </tr>\n",
       "    <tr>\n",
       "      <th>answer</th>\n",
       "      <td>Не получилось отвергнуть нулевую гипотезу</td>\n",
       "      <td>Не получилось отвергнуть нулевую гипотезу</td>\n",
       "    </tr>\n",
       "  </tbody>\n",
       "</table>\n",
       "</div>"
      ],
      "text/plain": [
       "                           ttest_CG1_len_retention  \\\n",
       "t_stat                                     0.42388   \n",
       "df                                            8646   \n",
       "cv                                         1.64503   \n",
       "p_value                                   0.671664   \n",
       "answer   Не получилось отвергнуть нулевую гипотезу   \n",
       "\n",
       "                           ttest_CG2_len_retention  \n",
       "t_stat                                    0.429717  \n",
       "df                                            8570  \n",
       "cv                                         1.64503  \n",
       "p_value                                   0.667412  \n",
       "answer   Не получилось отвергнуть нулевую гипотезу  "
      ]
     },
     "execution_count": 69,
     "metadata": {},
     "output_type": "execute_result"
    }
   ],
   "source": [
    "lr_CG1 = portrait_CG1[\"len_retention\"]\n",
    "lr_CG2 = portrait_CG2[\"len_retention\"]\n",
    "lr_TG  = portrait_TG[\"len_retention\"]\n",
    "alpha = 0.05\n",
    "\n",
    "ttest_CG1_lr = ttestStudent(lr_CG1, lr_TG, alpha)\n",
    "ttest_CG2_lr = ttestStudent(lr_CG2, lr_TG, alpha)\n",
    "ttest_table_lr = pd.DataFrame(ttest_CG1_lr, columns=[\"ttest_CG1_len_retention\"], index=ttest_CG1_lr.keys())\n",
    "ttest_table_lr[\"ttest_CG2_len_retention\"] = ttest_CG2_lr\n",
    "ttest_table_lr"
   ]
  },
  {
   "cell_type": "markdown",
   "metadata": {},
   "source": [
    "Согласно t-test, принимаем нулевую гипотезу."
   ]
  },
  {
   "cell_type": "markdown",
   "metadata": {},
   "source": [
    "#### Гипотеза о расрпеделении дней"
   ]
  },
  {
   "cell_type": "markdown",
   "metadata": {},
   "source": [
    "Выдвенем гипотезы:\n",
    "- H0 - распределение по количеству дней возврата не изменилось (нулевая гипотеза)\n",
    "- H1 - распределение по количеству дней возврата изменилось (альтернативная гипотеза)"
   ]
  },
  {
   "cell_type": "code",
   "execution_count": 70,
   "metadata": {},
   "outputs": [
    {
     "data": {
      "text/html": [
       "<div>\n",
       "<style scoped>\n",
       "    .dataframe tbody tr th:only-of-type {\n",
       "        vertical-align: middle;\n",
       "    }\n",
       "\n",
       "    .dataframe tbody tr th {\n",
       "        vertical-align: top;\n",
       "    }\n",
       "\n",
       "    .dataframe thead th {\n",
       "        text-align: right;\n",
       "    }\n",
       "</style>\n",
       "<table border=\"1\" class=\"dataframe\">\n",
       "  <thead>\n",
       "    <tr style=\"text-align: right;\">\n",
       "      <th></th>\n",
       "      <th>utest_CG1_len_retention</th>\n",
       "      <th>utest_CG2_len_retention</th>\n",
       "    </tr>\n",
       "  </thead>\n",
       "  <tbody>\n",
       "    <tr>\n",
       "      <th>u_stat</th>\n",
       "      <td>9.3471e+06</td>\n",
       "      <td>9.17594e+06</td>\n",
       "    </tr>\n",
       "    <tr>\n",
       "      <th>p_value</th>\n",
       "      <td>0.495578</td>\n",
       "      <td>0.469159</td>\n",
       "    </tr>\n",
       "    <tr>\n",
       "      <th>answer</th>\n",
       "      <td>Не получилось отвергнуть нулевую гипотезу</td>\n",
       "      <td>Не получилось отвергнуть нулевую гипотезу</td>\n",
       "    </tr>\n",
       "  </tbody>\n",
       "</table>\n",
       "</div>"
      ],
      "text/plain": [
       "                           utest_CG1_len_retention  \\\n",
       "u_stat                                  9.3471e+06   \n",
       "p_value                                   0.495578   \n",
       "answer   Не получилось отвергнуть нулевую гипотезу   \n",
       "\n",
       "                           utest_CG2_len_retention  \n",
       "u_stat                                 9.17594e+06  \n",
       "p_value                                   0.469159  \n",
       "answer   Не получилось отвергнуть нулевую гипотезу  "
      ]
     },
     "execution_count": 70,
     "metadata": {},
     "output_type": "execute_result"
    }
   ],
   "source": [
    "utest_CG1_lr = utestMannWhitneyu(lr_CG1, lr_TG, alpha)\n",
    "utest_CG2_lr = utestMannWhitneyu(lr_CG2, lr_TG, alpha)\n",
    "utest_table_lr = pd.DataFrame(utest_CG1_lr, \n",
    "                              columns=[\"utest_CG1_len_retention\"], \n",
    "                              index=utest_CG1_lr.keys())\n",
    "utest_table_lr[\"utest_CG2_len_retention\"] = utest_CG2_lr\n",
    "utest_table_lr"
   ]
  },
  {
   "cell_type": "markdown",
   "metadata": {},
   "source": [
    "Согласно u-test и графику распределения количества дней, принимаем нулевую гипотезу."
   ]
  },
  {
   "cell_type": "markdown",
   "metadata": {},
   "source": [
    "### Суммарная выручка"
   ]
  },
  {
   "cell_type": "markdown",
   "metadata": {},
   "source": [
    "#### Гипотеза о среднем суммарной выручки"
   ]
  },
  {
   "cell_type": "markdown",
   "metadata": {},
   "source": [
    "Выдвенем гипотезы:\n",
    "- H0 - среднее по суммарной выручке не изменилось (нулевая гипотеза)\n",
    "- H1 - среднее по суммарной выручке изменилось (альтернативная гипотеза)"
   ]
  },
  {
   "cell_type": "code",
   "execution_count": 71,
   "metadata": {},
   "outputs": [
    {
     "data": {
      "text/html": [
       "<div>\n",
       "<style scoped>\n",
       "    .dataframe tbody tr th:only-of-type {\n",
       "        vertical-align: middle;\n",
       "    }\n",
       "\n",
       "    .dataframe tbody tr th {\n",
       "        vertical-align: top;\n",
       "    }\n",
       "\n",
       "    .dataframe thead th {\n",
       "        text-align: right;\n",
       "    }\n",
       "</style>\n",
       "<table border=\"1\" class=\"dataframe\">\n",
       "  <thead>\n",
       "    <tr style=\"text-align: right;\">\n",
       "      <th></th>\n",
       "      <th>ttest_CG1_total_revenue</th>\n",
       "      <th>ttest_CG2_total_revenue</th>\n",
       "    </tr>\n",
       "  </thead>\n",
       "  <tbody>\n",
       "    <tr>\n",
       "      <th>t_stat</th>\n",
       "      <td>0.438637</td>\n",
       "      <td>-1.05002</td>\n",
       "    </tr>\n",
       "    <tr>\n",
       "      <th>df</th>\n",
       "      <td>8646</td>\n",
       "      <td>8570</td>\n",
       "    </tr>\n",
       "    <tr>\n",
       "      <th>cv</th>\n",
       "      <td>1.64503</td>\n",
       "      <td>1.64503</td>\n",
       "    </tr>\n",
       "    <tr>\n",
       "      <th>p_value</th>\n",
       "      <td>0.660939</td>\n",
       "      <td>0.293745</td>\n",
       "    </tr>\n",
       "    <tr>\n",
       "      <th>answer</th>\n",
       "      <td>Не получилось отвергнуть нулевую гипотезу</td>\n",
       "      <td>Не получилось отвергнуть нулевую гипотезу</td>\n",
       "    </tr>\n",
       "  </tbody>\n",
       "</table>\n",
       "</div>"
      ],
      "text/plain": [
       "                           ttest_CG1_total_revenue  \\\n",
       "t_stat                                    0.438637   \n",
       "df                                            8646   \n",
       "cv                                         1.64503   \n",
       "p_value                                   0.660939   \n",
       "answer   Не получилось отвергнуть нулевую гипотезу   \n",
       "\n",
       "                           ttest_CG2_total_revenue  \n",
       "t_stat                                    -1.05002  \n",
       "df                                            8570  \n",
       "cv                                         1.64503  \n",
       "p_value                                   0.293745  \n",
       "answer   Не получилось отвергнуть нулевую гипотезу  "
      ]
     },
     "execution_count": 71,
     "metadata": {},
     "output_type": "execute_result"
    }
   ],
   "source": [
    "tr_CG1 = portrait_CG1[\"total_revenue\"]\n",
    "tr_CG2 = portrait_CG2[\"total_revenue\"]\n",
    "tr_TG  = portrait_TG[\"total_revenue\"]\n",
    "alpha = 0.05\n",
    "\n",
    "ttest_CG1_tr = ttestStudent(tr_CG1, tr_TG, alpha)\n",
    "ttest_CG2_tr = ttestStudent(tr_CG2, tr_TG, alpha)\n",
    "ttest_table_tr = pd.DataFrame(ttest_CG1_tr, columns=[\"ttest_CG1_total_revenue\"], index=ttest_CG1_tr.keys())\n",
    "ttest_table_tr[\"ttest_CG2_total_revenue\"] = ttest_CG2_tr\n",
    "ttest_table_tr"
   ]
  },
  {
   "cell_type": "markdown",
   "metadata": {},
   "source": [
    "Согласно t-test и графику распределения суммарной выручки, принимаем нулевую гипотезу."
   ]
  },
  {
   "cell_type": "markdown",
   "metadata": {},
   "source": [
    "#### Гипотеза о распределении суммарной выручки"
   ]
  },
  {
   "cell_type": "markdown",
   "metadata": {},
   "source": [
    "Выдвенем гипотезу:\n",
    "- H0 - распределение суммарной выручки не изменилось (нулевая гипотеза)\n",
    "- H1 - распределение суммарной выручки изменилось (альтернативная гипотеза)"
   ]
  },
  {
   "cell_type": "code",
   "execution_count": 72,
   "metadata": {},
   "outputs": [
    {
     "data": {
      "text/html": [
       "<div>\n",
       "<style scoped>\n",
       "    .dataframe tbody tr th:only-of-type {\n",
       "        vertical-align: middle;\n",
       "    }\n",
       "\n",
       "    .dataframe tbody tr th {\n",
       "        vertical-align: top;\n",
       "    }\n",
       "\n",
       "    .dataframe thead th {\n",
       "        text-align: right;\n",
       "    }\n",
       "</style>\n",
       "<table border=\"1\" class=\"dataframe\">\n",
       "  <thead>\n",
       "    <tr style=\"text-align: right;\">\n",
       "      <th></th>\n",
       "      <th>utest_CG1_total_revenue</th>\n",
       "      <th>utest_CG2_total_revenue</th>\n",
       "    </tr>\n",
       "  </thead>\n",
       "  <tbody>\n",
       "    <tr>\n",
       "      <th>u_stat</th>\n",
       "      <td>9.25488e+06</td>\n",
       "      <td>9.09693e+06</td>\n",
       "    </tr>\n",
       "    <tr>\n",
       "      <th>p_value</th>\n",
       "      <td>0.00823187</td>\n",
       "      <td>0.0110881</td>\n",
       "    </tr>\n",
       "    <tr>\n",
       "      <th>answer</th>\n",
       "      <td>Отвергаем нулевую гипотезу</td>\n",
       "      <td>Отвергаем нулевую гипотезу</td>\n",
       "    </tr>\n",
       "  </tbody>\n",
       "</table>\n",
       "</div>"
      ],
      "text/plain": [
       "            utest_CG1_total_revenue     utest_CG2_total_revenue\n",
       "u_stat                  9.25488e+06                 9.09693e+06\n",
       "p_value                  0.00823187                   0.0110881\n",
       "answer   Отвергаем нулевую гипотезу  Отвергаем нулевую гипотезу"
      ]
     },
     "execution_count": 72,
     "metadata": {},
     "output_type": "execute_result"
    }
   ],
   "source": [
    "utest_CG1_tr = utestMannWhitneyu(tr_CG1, tr_TG, alpha)\n",
    "utest_CG2_tr = utestMannWhitneyu(tr_CG2, tr_TG, alpha)\n",
    "utest_table_tr = pd.DataFrame(utest_CG1_tr, \n",
    "                              columns=[\"utest_CG1_total_revenue\"], \n",
    "                              index=utest_CG1_tr.keys())\n",
    "utest_table_tr[\"utest_CG2_total_revenue\"] = utest_CG2_tr\n",
    "utest_table_tr"
   ]
  },
  {
   "cell_type": "markdown",
   "metadata": {},
   "source": [
    "Согласно u-test, принимаем альтернативную гипотезу."
   ]
  },
  {
   "cell_type": "markdown",
   "metadata": {},
   "source": [
    "## 04. Выводы\n",
    "<a id='recap'></a>"
   ]
  },
  {
   "cell_type": "code",
   "execution_count": 73,
   "metadata": {},
   "outputs": [],
   "source": [
    "hypothesis = pd.DataFrame(columns=[\"t_test\", \"u_test\"], \n",
    "                          index=[\"revenue\", \n",
    "                                 \"age\", \n",
    "                                 \"len_retention\", \n",
    "                                 \"total_revenue\"])"
   ]
  },
  {
   "cell_type": "code",
   "execution_count": 74,
   "metadata": {},
   "outputs": [],
   "source": [
    "hypothesis.loc[\"revenue\", :] = 1\n",
    "hypothesis.loc[\"total_revenue\", \"u_test\"] = 1\n",
    "hypothesis = hypothesis.fillna(0)"
   ]
  },
  {
   "cell_type": "code",
   "execution_count": 75,
   "metadata": {},
   "outputs": [
    {
     "data": {
      "text/html": [
       "<div>\n",
       "<style scoped>\n",
       "    .dataframe tbody tr th:only-of-type {\n",
       "        vertical-align: middle;\n",
       "    }\n",
       "\n",
       "    .dataframe tbody tr th {\n",
       "        vertical-align: top;\n",
       "    }\n",
       "\n",
       "    .dataframe thead th {\n",
       "        text-align: right;\n",
       "    }\n",
       "</style>\n",
       "<table border=\"1\" class=\"dataframe\">\n",
       "  <thead>\n",
       "    <tr style=\"text-align: right;\">\n",
       "      <th></th>\n",
       "      <th>t_test</th>\n",
       "      <th>u_test</th>\n",
       "    </tr>\n",
       "  </thead>\n",
       "  <tbody>\n",
       "    <tr>\n",
       "      <th>revenue</th>\n",
       "      <td>1</td>\n",
       "      <td>1</td>\n",
       "    </tr>\n",
       "    <tr>\n",
       "      <th>age</th>\n",
       "      <td>0</td>\n",
       "      <td>0</td>\n",
       "    </tr>\n",
       "    <tr>\n",
       "      <th>len_retention</th>\n",
       "      <td>0</td>\n",
       "      <td>0</td>\n",
       "    </tr>\n",
       "    <tr>\n",
       "      <th>total_revenue</th>\n",
       "      <td>0</td>\n",
       "      <td>1</td>\n",
       "    </tr>\n",
       "  </tbody>\n",
       "</table>\n",
       "</div>"
      ],
      "text/plain": [
       "               t_test  u_test\n",
       "revenue             1       1\n",
       "age                 0       0\n",
       "len_retention       0       0\n",
       "total_revenue       0       1"
      ]
     },
     "execution_count": 75,
     "metadata": {},
     "output_type": "execute_result"
    }
   ],
   "source": [
    "hypothesis"
   ]
  },
  {
   "cell_type": "markdown",
   "metadata": {},
   "source": [
    "- 0 - принята нулевая гипотеза (изменений не произошло)\n",
    "- 1 - принята альтернативная гипотеза (выявлены изменения)"
   ]
  },
  {
   "cell_type": "markdown",
   "metadata": {},
   "source": [
    "Выручка:\n",
    "- Согласно графикам и статистическим тестам выявлено, что в тестовой группе относительно контрольных групп, средняя выручка пользователей изменилась в сторону увеличения. \n",
    "- Распределение выручки пользователей изменилось. "
   ]
  },
  {
   "cell_type": "markdown",
   "metadata": {},
   "source": [
    "Возраст:\n",
    "- Средний возраст пользователей тестовой группы не отличается от среднего возраста контрольных групп.\n",
    "- Распределение пользователей по возрасту в тестовой группе и контрольных группах, также не различается."
   ]
  },
  {
   "cell_type": "markdown",
   "metadata": {},
   "source": [
    "Количество дней возврата после регистрации:\n",
    "- В тестовой группе не нашлось подтверждений различию между средними в контрольных и тестовой группе.\n",
    "- Распределение таких дней также не отличаеся по группам."
   ]
  },
  {
   "cell_type": "markdown",
   "metadata": {},
   "source": [
    "Суммарная выручка:\n",
    "- после применения t-test Стъюдента не обнаружилось значимых различий между средними в тестовой и контрольных группах.\n",
    "- Согласно u-test Манна-Уитни, распределение суммарной выручки на тестовой выборке значимо отличается от распределений на контрольных группах. \n",
    "Также это можно наблюдать на графике распредедления суммарной выручки heatmap, сгруппированным по странам. \n",
    "После изменения цены на премиум подписку суммарная выручка перераспределилась по странам, включая топ-3, но общая сумма осталась на уровне контрольных групп."
   ]
  }
 ],
 "metadata": {
  "kernelspec": {
   "display_name": "Python 3",
   "language": "python",
   "name": "python3"
  },
  "language_info": {
   "codemirror_mode": {
    "name": "ipython",
    "version": 3
   },
   "file_extension": ".py",
   "mimetype": "text/x-python",
   "name": "python",
   "nbconvert_exporter": "python",
   "pygments_lexer": "ipython3",
   "version": "3.8.3"
  },
  "toc": {
   "base_numbering": 1,
   "nav_menu": {},
   "number_sections": false,
   "sideBar": true,
   "skip_h1_title": false,
   "title_cell": "Table of Contents",
   "title_sidebar": "Contents",
   "toc_cell": false,
   "toc_position": {},
   "toc_section_display": true,
   "toc_window_display": true
  }
 },
 "nbformat": 4,
 "nbformat_minor": 4
}
