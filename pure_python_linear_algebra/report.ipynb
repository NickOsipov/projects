{
 "cells": [
  {
   "cell_type": "markdown",
   "metadata": {},
   "source": [
    "# Отчет о работе модуля linearalgebra.py"
   ]
  },
  {
   "cell_type": "markdown",
   "metadata": {},
   "source": [
    "## Аннотация"
   ]
  },
  {
   "cell_type": "markdown",
   "metadata": {},
   "source": [
    "Разработан модуль linearalgebra.py, находящийся в одной директории с данным отчетом.\n",
    "\n",
    "Реализованные функции в linearalgebra:\n",
    "- сложение\n",
    "- вычитание\n",
    "- умножение\n",
    "- деление\n",
    "- транспонирование\n",
    "- нахождение определителя матрицы\n",
    "- нахождение минора матрицы\n",
    "- нахождение обратной матрицы\n",
    "- проверка на вырожденность\n",
    "- проверка на квадратность\n",
    "\n"
   ]
  },
  {
   "cell_type": "markdown",
   "metadata": {},
   "source": [
    "Все функции в модуле реализованы с помощью стандартной библиотеки Python."
   ]
  },
  {
   "cell_type": "markdown",
   "metadata": {},
   "source": [
    "## План отчета"
   ]
  },
  {
   "cell_type": "markdown",
   "metadata": {},
   "source": [
    "Интерактивный план отчета."
   ]
  },
  {
   "cell_type": "markdown",
   "metadata": {},
   "source": [
    "[Подключение модуля linearalgebra](#linalg)\n",
    "\n",
    "[Подключение библиотеки numpy](#numpy)\n",
    "\n",
    "[Переменные](#vars)\n",
    "\n",
    "[Общий метод вывода результатов работы реализованных функций](#method)\n",
    "\n",
    "[01. Сложение](#add)\n",
    "\n",
    "[02. Вычитание](#subtract)\n",
    "\n",
    "[03. Умножение](#multiply)\n",
    "\n",
    "[04. Деление, обратная матрица](#divide)\n",
    "\n",
    "[05. Транспонирование](#transpose)\n",
    "\n",
    "[06. Определитель](#determinant)\n",
    "\n",
    "[Общий вывод](#recap)\n"
   ]
  },
  {
   "cell_type": "markdown",
   "metadata": {},
   "source": [
    "## Подключение модуля linearalgebra\n",
    "<a id='linalg'></a>"
   ]
  },
  {
   "cell_type": "code",
   "execution_count": 1,
   "metadata": {},
   "outputs": [],
   "source": [
    "import linearalgebra as LA"
   ]
  },
  {
   "cell_type": "code",
   "execution_count": 2,
   "metadata": {},
   "outputs": [
    {
     "name": "stdout",
     "output_type": "stream",
     "text": [
      "Help on module linearalgebra:\n",
      "\n",
      "NAME\n",
      "    linearalgebra\n",
      "\n",
      "DESCRIPTION\n",
      "    # Для использования модуля linearalgebra примем \n",
      "    # следующее соглашение о записи векторов и матриц.\n",
      "    #\n",
      "    # Вектор-строка записывается во вложенный список вида:\n",
      "    # vector_row = [[x_11, x_12, ..., x_1N]]\n",
      "    # где x - элемент вектора, \n",
      "    # первый индекс - индекс элемента по номеру строки, \n",
      "    #     равен 1, так как вектор содержит одну строку;\n",
      "    # второй индекс - индекс элемента по номеру столбца, \n",
      "    #     последний элемент с индексом N, соответсвует числу столбцов(элементов вектора-строки).\n",
      "    #\n",
      "    # Вектор-столбец записывается во вложенный список вида:\n",
      "    # vector_col = [[x_11],\n",
      "    #               [x_21],\n",
      "    #               ...,\n",
      "    #               [x_M1]]\n",
      "    # где x - элемент вектора-столбца, \n",
      "    # первый индекс - индекс элемента по номеру строки, \n",
      "    #     последний элемент с индексом M, соответсвует числу строк(элементов вектора-столбца);\n",
      "    # второй индекс - индекс элемента по номеру столбца, \n",
      "    #     равен 1, так как вектор содержит один столбец,\n",
      "    #\n",
      "    # Матрица записывается в виде многомерного списка M-строк на N-столбцов:\n",
      "    # matrix = [[x_11, x_12, ..., x_1N],\n",
      "    #           [x_21, x_22, ..., x_1N]\n",
      "    #           ......................,\n",
      "    #           [x_M1, x_M2, ..., x_MN]]\n",
      "    # где x - элемент матрицы,\n",
      "    # первый индекс - индекс элемента по номеру строки, последний элемент с индексом M, соответсвует числу строк,\n",
      "    # второй индекс - индекс элемента по номеру столбца, последний элемент с индексом N, соответсвует числу столбцов.\n",
      "\n",
      "FUNCTIONS\n",
      "    addition(A, B)\n",
      "        Функция сложения матриц.\n",
      "        A : матрица или вектор\n",
      "        B : матрица, вектор или число(скаляр)\n",
      "    \n",
      "    divide(A, B, elements=False)\n",
      "        Функция деления матриц.\n",
      "        Метод реализован по правилам линейной алгебры.\n",
      "        Если необходим метод поэлементного деления соответственно стоящих элементов двух матриц, \n",
      "        используйте аргумент elements со значением True. (аналог метода divide в numpy)\n",
      "        A : матрица или вектор\n",
      "        B : матрица, вектор или число\n",
      "        elements : default=False, если нам необходимо поэлементное деление \n",
      "            элементов двух матриц на соответсвенных позициях установить значение True\n",
      "    \n",
      "    get_determinant(A)\n",
      "        Функция для нахождения определителя матрицы.\n",
      "        A : матрица\n",
      "    \n",
      "    get_minor(A, row, col)\n",
      "        Функция для нахождения минора матрицы.\n",
      "        A : матрица\n",
      "        row : индекс по строке\n",
      "        col : индекс по столбцу\n",
      "    \n",
      "    inverse(A)\n",
      "        Функция для нахождения обратной матрицы.\n",
      "        A : матрица\n",
      "    \n",
      "    is_singular(A)\n",
      "        Функция для проверки матрицы на вырожденность\n",
      "    \n",
      "    is_square(A)\n",
      "        Функция для проверки матрицы на квадратность\n",
      "    \n",
      "    multiply(A, B)\n",
      "        Функция умножения матриц.\n",
      "        A : матрица поступающая на вход\n",
      "        B : матрица либо число\n",
      "    \n",
      "    subtraction(A, B)\n",
      "        Функция вычитания матриц.\n",
      "        A, B : матрицы поступающие на вход.\n",
      "    \n",
      "    transpose(A)\n",
      "        Функция для нахождения транспонированной матрицы.\n",
      "        A : матрица, либо вектор\n",
      "\n",
      "FILE\n",
      "    c:\\users\\ono\\pyprojects\\test_tasks\\lenta_data_analyst\\linearalgebra.py\n",
      "\n",
      "\n"
     ]
    }
   ],
   "source": [
    "help(LA)"
   ]
  },
  {
   "cell_type": "markdown",
   "metadata": {},
   "source": [
    "## Подключение библотеки numpy\n",
    "<a id='numpy'></a>"
   ]
  },
  {
   "cell_type": "markdown",
   "metadata": {},
   "source": [
    "Для сравнения результатов работы функций из linearalgebra подключим библиотеку numpy, и будем использовать аналогичные функции."
   ]
  },
  {
   "cell_type": "code",
   "execution_count": 3,
   "metadata": {},
   "outputs": [],
   "source": [
    "import numpy as np"
   ]
  },
  {
   "cell_type": "markdown",
   "metadata": {},
   "source": [
    "## Переменные\n",
    "<a id='vars'></a>"
   ]
  },
  {
   "cell_type": "markdown",
   "metadata": {},
   "source": [
    "Создадим переменные, которые будем использовать в ходе проверки функций: \n",
    "- A, B, C - квадратные матрицы размером 3x3 (C - вырожденная матрица, для примера)\n",
    "- X_1, X_2 - вектор-строка\n",
    "- Y_1, Y_2 - вектор-столбец\n",
    "- Z - квадратная матрица 2x2"
   ]
  },
  {
   "cell_type": "code",
   "execution_count": 4,
   "metadata": {},
   "outputs": [],
   "source": [
    "# матрицы (многомерные фложенные списки)\n",
    "A = [[1, 4, 6],\n",
    "     [2, 5, 7],\n",
    "     [3, 9, 8]]\n",
    "\n",
    "B = [[2, 1, 3],\n",
    "     [9, 5, 4],\n",
    "     [7, 8, 6]]\n",
    "\n",
    "C = [[1, 2, 3],\n",
    "     [4, 5, 6],\n",
    "     [7, 8, 9]]\n",
    "\n",
    "# векторы-строки\n",
    "X_1 = [[1, 2, 3]]\n",
    "X_2 = [[4, 7, 8]]\n",
    "\n",
    "# веторы-столбцы\n",
    "Y_1 = [[3],\n",
    "       [2],\n",
    "       [4]]\n",
    "Y_2 = [[4],\n",
    "       [7], \n",
    "       [9]]\n",
    "\n",
    "# квадратная матрица 2x2\n",
    "Z = [[1, 2],\n",
    "     [3, 5]]"
   ]
  },
  {
   "cell_type": "markdown",
   "metadata": {},
   "source": [
    "Продублируем, наши переменные в объекты numpy, для сравнения."
   ]
  },
  {
   "cell_type": "code",
   "execution_count": 5,
   "metadata": {},
   "outputs": [],
   "source": [
    "A_np = np.array(A)\n",
    "B_np = np.array(B)\n",
    "C_np = np.array(C)\n",
    "X_1_np = np.array(X_1)\n",
    "X_2_np = np.array(X_2)\n",
    "Y_1_np = np.array(Y_1)\n",
    "Y_2_np = np.array(Y_2)\n",
    "Z_np = np.array(Z)"
   ]
  },
  {
   "cell_type": "markdown",
   "metadata": {},
   "source": [
    "Также создадим списки с нашими объектами, для удобства"
   ]
  },
  {
   "cell_type": "code",
   "execution_count": 6,
   "metadata": {},
   "outputs": [],
   "source": [
    "list_py_arrays = [A, B, \n",
    "                  X_1, X_2, \n",
    "                  Y_1, Y_2]\n",
    "list_np_arrays = [A_np, B_np, \n",
    "                  X_1_np, X_2_np, \n",
    "                  Y_1_np, Y_2_np]"
   ]
  },
  {
   "cell_type": "code",
   "execution_count": 7,
   "metadata": {},
   "outputs": [],
   "source": [
    "names = [\"Матрицы\", None, \"Вектор-строка\", None, \"Вектор-столбец\", None]"
   ]
  },
  {
   "cell_type": "markdown",
   "metadata": {},
   "source": [
    "## Общий метод вывода результатов работы реализованных функций\n",
    "<a id='method'></a>"
   ]
  },
  {
   "cell_type": "markdown",
   "metadata": {},
   "source": [
    "Создадим функцию для упрощения анализа результатов работы реализованных функций в сравнении с библиотекой numpy"
   ]
  },
  {
   "cell_type": "code",
   "execution_count": 8,
   "metadata": {},
   "outputs": [],
   "source": [
    "def get_result_print(name, \n",
    "                     py_obj_1, \n",
    "                     np_obj_1, \n",
    "                     py_obj_2=None, \n",
    "                     np_obj_2=None, \n",
    "                     function=None, \n",
    "                     function_np=None, \n",
    "                     scaler=False):\n",
    "    \n",
    "    if scaler:\n",
    "        py_obj_2 = scaler\n",
    "        np_obj_2 = scaler\n",
    "    \n",
    "    print(f\"{name}\", end=\"\\n\\n\")\n",
    "    print(\"Исходные объекты:\", np_obj_1, np_obj_2,\n",
    "          sep=\"\\n\", end=\"\\n\\n\")\n",
    "    print(\"-\"*40)\n",
    "    print(\"Результат работы функции\", \n",
    "          function.__doc__.split('.')[0][8:-7],\n",
    "          end=\"\\n\\n\")\n",
    "    print(\"linearalgebra:\")\n",
    "    print(*function(py_obj_1, py_obj_2),\n",
    "          sep=\"\\n\", end=\"\\n\\n\")\n",
    "    print(\"numpy:\")\n",
    "    print(function_np(np_obj_1, np_obj_2))\n",
    "    print(\"=\"*40, end=\"\\n\\n\")"
   ]
  },
  {
   "cell_type": "markdown",
   "metadata": {},
   "source": [
    "## 01. Сложение\n",
    "<a id='add'></a>"
   ]
  },
  {
   "cell_type": "markdown",
   "metadata": {},
   "source": [
    "Проверим функцию сложения для матриц, а также векторов - addition.\n",
    "\n",
    "Сравним результат вычисления с аналогичной функцией из numpy - add.\n",
    "\n",
    "Сложение производится поэлементно, матрицы должны быть одинаковой размерности."
   ]
  },
  {
   "cell_type": "code",
   "execution_count": 9,
   "metadata": {},
   "outputs": [
    {
     "name": "stdout",
     "output_type": "stream",
     "text": [
      "Матрицы\n",
      "\n",
      "Исходные объекты:\n",
      "[[1 4 6]\n",
      " [2 5 7]\n",
      " [3 9 8]]\n",
      "[[2 1 3]\n",
      " [9 5 4]\n",
      " [7 8 6]]\n",
      "\n",
      "----------------------------------------\n",
      "Результат работы функции сложения\n",
      "\n",
      "linearalgebra:\n",
      "[3, 5, 9]\n",
      "[11, 10, 11]\n",
      "[10, 17, 14]\n",
      "\n",
      "numpy:\n",
      "[[ 3  5  9]\n",
      " [11 10 11]\n",
      " [10 17 14]]\n",
      "========================================\n",
      "\n",
      "Вектор-строка\n",
      "\n",
      "Исходные объекты:\n",
      "[[1 2 3]]\n",
      "[[4 7 8]]\n",
      "\n",
      "----------------------------------------\n",
      "Результат работы функции сложения\n",
      "\n",
      "linearalgebra:\n",
      "[5, 9, 11]\n",
      "\n",
      "numpy:\n",
      "[[ 5  9 11]]\n",
      "========================================\n",
      "\n",
      "Вектор-столбец\n",
      "\n",
      "Исходные объекты:\n",
      "[[3]\n",
      " [2]\n",
      " [4]]\n",
      "[[4]\n",
      " [7]\n",
      " [9]]\n",
      "\n",
      "----------------------------------------\n",
      "Результат работы функции сложения\n",
      "\n",
      "linearalgebra:\n",
      "[7]\n",
      "[9]\n",
      "[13]\n",
      "\n",
      "numpy:\n",
      "[[ 7]\n",
      " [ 9]\n",
      " [13]]\n",
      "========================================\n",
      "\n"
     ]
    }
   ],
   "source": [
    "for i in range(0, len(list_py_arrays), 2):\n",
    "    get_result_print(names[i], \n",
    "                     list_py_arrays[i],\n",
    "                     list_np_arrays[i],\n",
    "                     py_obj_2=list_py_arrays[i+1],\n",
    "                     np_obj_2=list_np_arrays[i+1],\n",
    "                     function=LA.addition,\n",
    "                     function_np=np.add)"
   ]
  },
  {
   "cell_type": "markdown",
   "metadata": {},
   "source": [
    "Сложение матриц и векторов с числом, для примера 2 (аргумент scaler)"
   ]
  },
  {
   "cell_type": "code",
   "execution_count": 10,
   "metadata": {},
   "outputs": [
    {
     "name": "stdout",
     "output_type": "stream",
     "text": [
      "Матрицы\n",
      "\n",
      "Исходные объекты:\n",
      "[[1 4 6]\n",
      " [2 5 7]\n",
      " [3 9 8]]\n",
      "2\n",
      "\n",
      "----------------------------------------\n",
      "Результат работы функции сложения\n",
      "\n",
      "linearalgebra:\n",
      "[3, 6, 8]\n",
      "[4, 7, 9]\n",
      "[5, 11, 10]\n",
      "\n",
      "numpy:\n",
      "[[ 3  6  8]\n",
      " [ 4  7  9]\n",
      " [ 5 11 10]]\n",
      "========================================\n",
      "\n",
      "Вектор-строка\n",
      "\n",
      "Исходные объекты:\n",
      "[[1 2 3]]\n",
      "2\n",
      "\n",
      "----------------------------------------\n",
      "Результат работы функции сложения\n",
      "\n",
      "linearalgebra:\n",
      "[3, 4, 5]\n",
      "\n",
      "numpy:\n",
      "[[3 4 5]]\n",
      "========================================\n",
      "\n",
      "Вектор-столбец\n",
      "\n",
      "Исходные объекты:\n",
      "[[3]\n",
      " [2]\n",
      " [4]]\n",
      "2\n",
      "\n",
      "----------------------------------------\n",
      "Результат работы функции сложения\n",
      "\n",
      "linearalgebra:\n",
      "[5]\n",
      "[4]\n",
      "[6]\n",
      "\n",
      "numpy:\n",
      "[[5]\n",
      " [4]\n",
      " [6]]\n",
      "========================================\n",
      "\n"
     ]
    }
   ],
   "source": [
    "for i in range(0, len(list_py_arrays), 2):\n",
    "    get_result_print(names[i], \n",
    "                     list_py_arrays[i],\n",
    "                     list_np_arrays[i],\n",
    "                     function=LA.addition,\n",
    "                     function_np=np.add,\n",
    "                     scaler=2)"
   ]
  },
  {
   "cell_type": "markdown",
   "metadata": {},
   "source": [
    "Проверим с матрицами разного размера"
   ]
  },
  {
   "cell_type": "code",
   "execution_count": 11,
   "metadata": {},
   "outputs": [
    {
     "name": "stdout",
     "output_type": "stream",
     "text": [
      "Невозможно сложить объекты. Разная размерность.\n"
     ]
    }
   ],
   "source": [
    "LA.addition(A, Z)"
   ]
  },
  {
   "cell_type": "markdown",
   "metadata": {},
   "source": [
    "Вывод: функция сложения работает корректно."
   ]
  },
  {
   "cell_type": "markdown",
   "metadata": {},
   "source": [
    "## 02. Вычитание\n",
    "<a id='subtract'></a>"
   ]
  },
  {
   "cell_type": "markdown",
   "metadata": {},
   "source": [
    "Вычитание матриц и векторов, функция - subtraction.\n",
    "\n",
    "Сравним результат вычисления с аналогичной функцией из numpy - subtract.\n",
    "\n",
    "Вычитание производится поэлементно, матрицы должны быть одинаковой размерности."
   ]
  },
  {
   "cell_type": "code",
   "execution_count": 12,
   "metadata": {},
   "outputs": [
    {
     "name": "stdout",
     "output_type": "stream",
     "text": [
      "Матрицы\n",
      "\n",
      "Исходные объекты:\n",
      "[[1 4 6]\n",
      " [2 5 7]\n",
      " [3 9 8]]\n",
      "[[2 1 3]\n",
      " [9 5 4]\n",
      " [7 8 6]]\n",
      "\n",
      "----------------------------------------\n",
      "Результат работы функции вычитания\n",
      "\n",
      "linearalgebra:\n",
      "[-1, 3, 3]\n",
      "[-7, 0, 3]\n",
      "[-4, 1, 2]\n",
      "\n",
      "numpy:\n",
      "[[-1  3  3]\n",
      " [-7  0  3]\n",
      " [-4  1  2]]\n",
      "========================================\n",
      "\n",
      "Вектор-строка\n",
      "\n",
      "Исходные объекты:\n",
      "[[1 2 3]]\n",
      "[[4 7 8]]\n",
      "\n",
      "----------------------------------------\n",
      "Результат работы функции вычитания\n",
      "\n",
      "linearalgebra:\n",
      "[-3, -5, -5]\n",
      "\n",
      "numpy:\n",
      "[[-3 -5 -5]]\n",
      "========================================\n",
      "\n",
      "Вектор-столбец\n",
      "\n",
      "Исходные объекты:\n",
      "[[3]\n",
      " [2]\n",
      " [4]]\n",
      "[[4]\n",
      " [7]\n",
      " [9]]\n",
      "\n",
      "----------------------------------------\n",
      "Результат работы функции вычитания\n",
      "\n",
      "linearalgebra:\n",
      "[-1]\n",
      "[-5]\n",
      "[-5]\n",
      "\n",
      "numpy:\n",
      "[[-1]\n",
      " [-5]\n",
      " [-5]]\n",
      "========================================\n",
      "\n"
     ]
    }
   ],
   "source": [
    "for i in range(0, len(list_py_arrays), 2):\n",
    "    get_result_print(names[i], \n",
    "                     list_py_arrays[i],\n",
    "                     list_np_arrays[i],\n",
    "                     py_obj_2=list_py_arrays[i+1],\n",
    "                     np_obj_2=list_np_arrays[i+1],\n",
    "                     function=LA.subtraction,\n",
    "                     function_np=np.subtract)"
   ]
  },
  {
   "cell_type": "markdown",
   "metadata": {},
   "source": [
    "Вычитание числа из матрицы, например 3"
   ]
  },
  {
   "cell_type": "code",
   "execution_count": 13,
   "metadata": {},
   "outputs": [
    {
     "name": "stdout",
     "output_type": "stream",
     "text": [
      "Матрицы\n",
      "\n",
      "Исходные объекты:\n",
      "[[1 4 6]\n",
      " [2 5 7]\n",
      " [3 9 8]]\n",
      "3\n",
      "\n",
      "----------------------------------------\n",
      "Результат работы функции вычитания\n",
      "\n",
      "linearalgebra:\n",
      "[-2, 1, 3]\n",
      "[-1, 2, 4]\n",
      "[0, 6, 5]\n",
      "\n",
      "numpy:\n",
      "[[-2  1  3]\n",
      " [-1  2  4]\n",
      " [ 0  6  5]]\n",
      "========================================\n",
      "\n",
      "Вектор-строка\n",
      "\n",
      "Исходные объекты:\n",
      "[[1 2 3]]\n",
      "3\n",
      "\n",
      "----------------------------------------\n",
      "Результат работы функции вычитания\n",
      "\n",
      "linearalgebra:\n",
      "[-2, -1, 0]\n",
      "\n",
      "numpy:\n",
      "[[-2 -1  0]]\n",
      "========================================\n",
      "\n",
      "Вектор-столбец\n",
      "\n",
      "Исходные объекты:\n",
      "[[3]\n",
      " [2]\n",
      " [4]]\n",
      "3\n",
      "\n",
      "----------------------------------------\n",
      "Результат работы функции вычитания\n",
      "\n",
      "linearalgebra:\n",
      "[0]\n",
      "[-1]\n",
      "[1]\n",
      "\n",
      "numpy:\n",
      "[[ 0]\n",
      " [-1]\n",
      " [ 1]]\n",
      "========================================\n",
      "\n"
     ]
    }
   ],
   "source": [
    "for i in range(0, len(list_py_arrays), 2):\n",
    "    get_result_print(names[i], \n",
    "                     list_py_arrays[i],\n",
    "                     list_np_arrays[i],\n",
    "                     function=LA.subtraction,\n",
    "                     function_np=np.subtract,\n",
    "                     scaler=3)"
   ]
  },
  {
   "cell_type": "markdown",
   "metadata": {},
   "source": [
    "Используем матрицы разного размера:"
   ]
  },
  {
   "cell_type": "code",
   "execution_count": 14,
   "metadata": {},
   "outputs": [
    {
     "name": "stdout",
     "output_type": "stream",
     "text": [
      "Невозможно вычесть объекты. Разная размерность.\n"
     ]
    }
   ],
   "source": [
    "LA.subtraction(A, Z)"
   ]
  },
  {
   "cell_type": "markdown",
   "metadata": {},
   "source": [
    "Вывод: функция вычитания, работает корректно."
   ]
  },
  {
   "cell_type": "markdown",
   "metadata": {},
   "source": [
    "## 03. Умножение\n",
    "<a id='multiply'></a>"
   ]
  },
  {
   "cell_type": "markdown",
   "metadata": {},
   "source": [
    "Умножение матриц, функция - multiply.\n",
    "\n",
    "Сравним результат вычисления с аналогичной функцией из numpy - dot."
   ]
  },
  {
   "cell_type": "code",
   "execution_count": 15,
   "metadata": {},
   "outputs": [
    {
     "name": "stdout",
     "output_type": "stream",
     "text": [
      "Матрицы\n",
      "\n",
      "Исходные объекты:\n",
      "[[1 4 6]\n",
      " [2 5 7]\n",
      " [3 9 8]]\n",
      "[[2 1 3]\n",
      " [9 5 4]\n",
      " [7 8 6]]\n",
      "\n",
      "----------------------------------------\n",
      "Результат работы функции умножения\n",
      "\n",
      "linearalgebra:\n",
      "[80, 69, 55]\n",
      "[98, 83, 68]\n",
      "[143, 112, 93]\n",
      "\n",
      "numpy:\n",
      "[[ 80  69  55]\n",
      " [ 98  83  68]\n",
      " [143 112  93]]\n",
      "========================================\n",
      "\n"
     ]
    }
   ],
   "source": [
    "get_result_print(names[0], \n",
    "                 A, \n",
    "                 A_np, \n",
    "                 py_obj_2=B,\n",
    "                 np_obj_2=B_np,\n",
    "                 function=LA.multiply,\n",
    "                 function_np=np.dot)"
   ]
  },
  {
   "cell_type": "markdown",
   "metadata": {},
   "source": [
    "Для матриц разной размерности"
   ]
  },
  {
   "cell_type": "code",
   "execution_count": 16,
   "metadata": {},
   "outputs": [
    {
     "name": "stdout",
     "output_type": "stream",
     "text": [
      "Невозможно перемножить объекты. Разная размерность.\n"
     ]
    }
   ],
   "source": [
    "LA.multiply(A, Z)"
   ]
  },
  {
   "cell_type": "markdown",
   "metadata": {},
   "source": [
    "Для вектора-строки и вектора столбца"
   ]
  },
  {
   "cell_type": "code",
   "execution_count": 17,
   "metadata": {},
   "outputs": [
    {
     "name": "stdout",
     "output_type": "stream",
     "text": [
      "Вектор-строка умноженный на вектор-столбец\n",
      "\n",
      "Исходные объекты:\n",
      "[[1 2 3]]\n",
      "[[3]\n",
      " [2]\n",
      " [4]]\n",
      "\n",
      "----------------------------------------\n",
      "Результат работы функции умножения\n",
      "\n",
      "linearalgebra:\n",
      "[19]\n",
      "\n",
      "numpy:\n",
      "[[19]]\n",
      "========================================\n",
      "\n"
     ]
    }
   ],
   "source": [
    "get_result_print(\"Вектор-строка умноженный на вектор-столбец\", \n",
    "                 X_1,  \n",
    "                 X_1_np,\n",
    "                 py_obj_2=Y_1,\n",
    "                 np_obj_2=Y_1_np,\n",
    "                 function=LA.multiply,\n",
    "                 function_np=np.dot,\n",
    "                 scaler=False)"
   ]
  },
  {
   "cell_type": "markdown",
   "metadata": {},
   "source": [
    "Для матрицы и вектора-столбца"
   ]
  },
  {
   "cell_type": "code",
   "execution_count": 18,
   "metadata": {},
   "outputs": [
    {
     "name": "stdout",
     "output_type": "stream",
     "text": [
      "Матрица умноженная на вектор-столбец\n",
      "\n",
      "Исходные объекты:\n",
      "[[1 4 6]\n",
      " [2 5 7]\n",
      " [3 9 8]]\n",
      "[[3]\n",
      " [2]\n",
      " [4]]\n",
      "\n",
      "----------------------------------------\n",
      "Результат работы функции умножения\n",
      "\n",
      "linearalgebra:\n",
      "[35]\n",
      "[44]\n",
      "[59]\n",
      "\n",
      "numpy:\n",
      "[[35]\n",
      " [44]\n",
      " [59]]\n",
      "========================================\n",
      "\n"
     ]
    }
   ],
   "source": [
    "get_result_print(\"Матрица умноженная на вектор-столбец\",\n",
    "                 A,\n",
    "                 A_np, \n",
    "                 py_obj_2=Y_1,\n",
    "                 np_obj_2=Y_1_np,\n",
    "                 function=LA.multiply,\n",
    "                 function_np=np.dot)"
   ]
  },
  {
   "cell_type": "markdown",
   "metadata": {},
   "source": [
    "Для вектора-строки и матрицы"
   ]
  },
  {
   "cell_type": "code",
   "execution_count": 19,
   "metadata": {},
   "outputs": [
    {
     "name": "stdout",
     "output_type": "stream",
     "text": [
      "Вектор-строка умноженная на матрицу\n",
      "\n",
      "Исходные объекты:\n",
      "[[1 2 3]]\n",
      "[[1 4 6]\n",
      " [2 5 7]\n",
      " [3 9 8]]\n",
      "\n",
      "----------------------------------------\n",
      "Результат работы функции умножения\n",
      "\n",
      "linearalgebra:\n",
      "[14, 41, 44]\n",
      "\n",
      "numpy:\n",
      "[[14 41 44]]\n",
      "========================================\n",
      "\n"
     ]
    }
   ],
   "source": [
    "get_result_print(\"Вектор-строка умноженная на матрицу\",\n",
    "                 X_1, \n",
    "                 X_1_np, \n",
    "                 py_obj_2=A,\n",
    "                 np_obj_2=A_np,\n",
    "                 function=LA.multiply,\n",
    "                 function_np=np.dot)"
   ]
  },
  {
   "cell_type": "markdown",
   "metadata": {},
   "source": [
    "Умножение матриц и векторов на число, например 10"
   ]
  },
  {
   "cell_type": "code",
   "execution_count": 20,
   "metadata": {},
   "outputs": [
    {
     "name": "stdout",
     "output_type": "stream",
     "text": [
      "Матрицы\n",
      "\n",
      "Исходные объекты:\n",
      "[[1 4 6]\n",
      " [2 5 7]\n",
      " [3 9 8]]\n",
      "10\n",
      "\n",
      "----------------------------------------\n",
      "Результат работы функции умножения\n",
      "\n",
      "linearalgebra:\n",
      "[10, 40, 60]\n",
      "[20, 50, 70]\n",
      "[30, 90, 80]\n",
      "\n",
      "numpy:\n",
      "[[10 40 60]\n",
      " [20 50 70]\n",
      " [30 90 80]]\n",
      "========================================\n",
      "\n",
      "Вектор-строка\n",
      "\n",
      "Исходные объекты:\n",
      "[[1 2 3]]\n",
      "10\n",
      "\n",
      "----------------------------------------\n",
      "Результат работы функции умножения\n",
      "\n",
      "linearalgebra:\n",
      "[10, 20, 30]\n",
      "\n",
      "numpy:\n",
      "[[10 20 30]]\n",
      "========================================\n",
      "\n",
      "Вектор-столбец\n",
      "\n",
      "Исходные объекты:\n",
      "[[3]\n",
      " [2]\n",
      " [4]]\n",
      "10\n",
      "\n",
      "----------------------------------------\n",
      "Результат работы функции умножения\n",
      "\n",
      "linearalgebra:\n",
      "[30]\n",
      "[20]\n",
      "[40]\n",
      "\n",
      "numpy:\n",
      "[[30]\n",
      " [20]\n",
      " [40]]\n",
      "========================================\n",
      "\n"
     ]
    }
   ],
   "source": [
    "for i in range(0, len(list_py_arrays), 2):\n",
    "    get_result_print(names[i], \n",
    "                     list_py_arrays[i], \n",
    "                     list_np_arrays[i],\n",
    "                     function=LA.multiply,\n",
    "                     function_np=np.dot,\n",
    "                     scaler=10)"
   ]
  },
  {
   "cell_type": "markdown",
   "metadata": {},
   "source": [
    "Для прямоугольных матриц большей размерности."
   ]
  },
  {
   "cell_type": "code",
   "execution_count": 21,
   "metadata": {},
   "outputs": [],
   "source": [
    "A_4x5 = [[1, 2, 3, 4, 5],\n",
    "         [3, 5, 7, 9, 1],\n",
    "         [4, 6, 6, 7, 4],\n",
    "         [7, 5, 5, 8, 9]]\n",
    "\n",
    "B_5x4 = [[1, 3, 3, 2],\n",
    "         [3, 5, 7, 9],\n",
    "         [2, 4, 5, 7],\n",
    "         [9, 1, 7, 3],\n",
    "         [8, 7, 4, 2]]\n",
    "\n",
    "A_4x5_np = np.array(A_4x5)\n",
    "B_5x4_np = np.array(B_5x4)"
   ]
  },
  {
   "cell_type": "code",
   "execution_count": 22,
   "metadata": {},
   "outputs": [
    {
     "name": "stdout",
     "output_type": "stream",
     "text": [
      "Матрица размером 4x5 и матрица 5x4\n",
      "\n",
      "Исходные объекты:\n",
      "[[1 2 3 4 5]\n",
      " [3 5 7 9 1]\n",
      " [4 6 6 7 4]\n",
      " [7 5 5 8 9]]\n",
      "[[1 3 3 2]\n",
      " [3 5 7 9]\n",
      " [2 4 5 7]\n",
      " [9 1 7 3]\n",
      " [8 7 4 2]]\n",
      "\n",
      "----------------------------------------\n",
      "Результат работы функции умножения\n",
      "\n",
      "linearalgebra:\n",
      "[89, 64, 80, 63]\n",
      "[121, 78, 146, 129]\n",
      "[129, 101, 149, 133]\n",
      "[176, 137, 173, 136]\n",
      "\n",
      "numpy:\n",
      "[[ 89  64  80  63]\n",
      " [121  78 146 129]\n",
      " [129 101 149 133]\n",
      " [176 137 173 136]]\n",
      "========================================\n",
      "\n"
     ]
    }
   ],
   "source": [
    "get_result_print(\"Матрица размером 4x5 и матрица 5x4\", \n",
    "                 A_4x5, \n",
    "                 A_4x5_np, \n",
    "                 py_obj_2=B_5x4,\n",
    "                 np_obj_2=B_5x4_np,\n",
    "                 function=LA.multiply,\n",
    "                 function_np=np.dot)"
   ]
  },
  {
   "cell_type": "markdown",
   "metadata": {},
   "source": [
    "Вывод: функция умножения работает корректно"
   ]
  },
  {
   "cell_type": "markdown",
   "metadata": {},
   "source": [
    "## 04. Деление, обратная матрица\n",
    "<a id='divide'></a>"
   ]
  },
  {
   "cell_type": "markdown",
   "metadata": {},
   "source": [
    "Деление матриц, функция - divide.\n",
    "\n",
    "В модуле linearalgebra реализован метод деления матриц по правилам линейной алгебры вида $A\\cdot B^{-1}$.\n",
    "\n",
    "Для деления двух матриц необходимо первую матрицу $A$ умножить на матрицу, обратную второй $B^{-1}$.\n",
    "\n",
    "В numpy функция divide реализована как поэлементное деление элементов двух матриц, расположенных на соответсвующих позициях.\n",
    "\n",
    "В linearalgebra функционал поэлементного деления можно включить задав в функции divide аргументу elements значение True."
   ]
  },
  {
   "cell_type": "markdown",
   "metadata": {},
   "source": [
    "Функция inverse реализована по следующему алгоритму нахождения обратной матрицы:\n",
    "1. Определяют, квадратная ли матрица. Если нет, то обратной матрицы для нее не существует.\n",
    "2. Вычисление определителя матрицы A. Если он не равен нулю, продолжаем решение, иначе - обратной матрицы не существует.\n",
    "3. Определение алгебраических дополнений.\n",
    "4. Заполнение союзной (взаимной, присоединённой) матрицы C.\n",
    "5. Составление обратной матрицы из алгебраических дополнений: каждый элемент присоединённой матрицы C делят на определитель исходной матрицы. \n",
    "\n",
    "Результирующая матрица является обратной для исходной матрицы.\n",
    "\n",
    "Также необходимо провести проверку $A\\cdot A^{-1}$, данное произведение при правильных расчетах должно равнятся единичной матрице."
   ]
  },
  {
   "cell_type": "markdown",
   "metadata": {},
   "source": [
    "Сравним результат вычисления с аналогичной функцией из numpy - linalg.inv"
   ]
  },
  {
   "cell_type": "code",
   "execution_count": 23,
   "metadata": {},
   "outputs": [
    {
     "data": {
      "text/plain": [
       "[[-1.5333333333333334, 1.4666666666666666, -0.13333333333333333],\n",
       " [0.3333333333333333, -0.6666666666666666, 0.3333333333333333],\n",
       " [0.2, 0.2, -0.2]]"
      ]
     },
     "execution_count": 23,
     "metadata": {},
     "output_type": "execute_result"
    }
   ],
   "source": [
    "LA.inverse(A)"
   ]
  },
  {
   "cell_type": "code",
   "execution_count": 24,
   "metadata": {},
   "outputs": [
    {
     "data": {
      "text/plain": [
       "array([[-1.53333333,  1.46666667, -0.13333333],\n",
       "       [ 0.33333333, -0.66666667,  0.33333333],\n",
       "       [ 0.2       ,  0.2       , -0.2       ]])"
      ]
     },
     "execution_count": 24,
     "metadata": {},
     "output_type": "execute_result"
    }
   ],
   "source": [
    "np.linalg.inv(A_np)"
   ]
  },
  {
   "cell_type": "markdown",
   "metadata": {},
   "source": [
    "Проведем проверку"
   ]
  },
  {
   "cell_type": "code",
   "execution_count": 25,
   "metadata": {},
   "outputs": [
    {
     "data": {
      "text/plain": [
       "[[1.0, 2.220446049250313e-16, -2.220446049250313e-16],\n",
       " [-2.220446049250313e-16, 1.0000000000000002, -2.220446049250313e-16],\n",
       " [-4.440892098500626e-16, -4.440892098500626e-16, 1.0]]"
      ]
     },
     "execution_count": 25,
     "metadata": {},
     "output_type": "execute_result"
    }
   ],
   "source": [
    "LA.multiply(A, LA.inverse(A))"
   ]
  },
  {
   "cell_type": "code",
   "execution_count": 26,
   "metadata": {},
   "outputs": [
    {
     "data": {
      "text/plain": [
       "array([[ 1.00000000e+00,  1.11022302e-16, -1.11022302e-16],\n",
       "       [ 3.88578059e-16,  1.00000000e+00,  5.55111512e-17],\n",
       "       [ 4.44089210e-16,  0.00000000e+00,  1.00000000e+00]])"
      ]
     },
     "execution_count": 26,
     "metadata": {},
     "output_type": "execute_result"
    }
   ],
   "source": [
    "np.dot(A_np, np.linalg.inv(A_np))"
   ]
  },
  {
   "cell_type": "markdown",
   "metadata": {},
   "source": [
    "В обоих функциях присутствует погрешность при работе с типом float."
   ]
  },
  {
   "cell_type": "markdown",
   "metadata": {},
   "source": [
    "Проверим работу функции divide.\n",
    "\n",
    "Cравним результат вычисления с помощью комбинации функций из numpy - dot, linalg.inv"
   ]
  },
  {
   "cell_type": "code",
   "execution_count": 27,
   "metadata": {},
   "outputs": [
    {
     "data": {
      "text/plain": [
       "[[1.4320987654320985, -0.8888888888888888, 0.8765432098765432],\n",
       " [1.5432098765432098, -0.8888888888888888, 0.9876543209876543],\n",
       " [0.691358024691358, -1.2222222222222223, 1.8024691358024691]]"
      ]
     },
     "execution_count": 27,
     "metadata": {},
     "output_type": "execute_result"
    }
   ],
   "source": [
    "LA.divide(A, B)"
   ]
  },
  {
   "cell_type": "code",
   "execution_count": 28,
   "metadata": {},
   "outputs": [
    {
     "data": {
      "text/plain": [
       "array([[ 1.43209877, -0.88888889,  0.87654321],\n",
       "       [ 1.54320988, -0.88888889,  0.98765432],\n",
       "       [ 0.69135802, -1.22222222,  1.80246914]])"
      ]
     },
     "execution_count": 28,
     "metadata": {},
     "output_type": "execute_result"
    }
   ],
   "source": [
    "np.dot(A_np, np.linalg.inv(B_np))"
   ]
  },
  {
   "cell_type": "markdown",
   "metadata": {},
   "source": [
    "Результаты вычислений сходятся."
   ]
  },
  {
   "cell_type": "markdown",
   "metadata": {},
   "source": [
    "Проверим поэлементное деление матрицы на матрицу c помощью функции divide.\n",
    "\n",
    "Сравним результат вычисления с аналогичной функцией из numpy - divide."
   ]
  },
  {
   "cell_type": "code",
   "execution_count": 29,
   "metadata": {},
   "outputs": [
    {
     "data": {
      "text/plain": [
       "[[0.5, 4.0, 2.0],\n",
       " [0.2222222222222222, 1.0, 1.75],\n",
       " [0.42857142857142855, 1.125, 1.3333333333333333]]"
      ]
     },
     "execution_count": 29,
     "metadata": {},
     "output_type": "execute_result"
    }
   ],
   "source": [
    "LA.divide(A, B, elements=True)"
   ]
  },
  {
   "cell_type": "code",
   "execution_count": 30,
   "metadata": {},
   "outputs": [
    {
     "data": {
      "text/plain": [
       "array([[0.5       , 4.        , 2.        ],\n",
       "       [0.22222222, 1.        , 1.75      ],\n",
       "       [0.42857143, 1.125     , 1.33333333]])"
      ]
     },
     "execution_count": 30,
     "metadata": {},
     "output_type": "execute_result"
    }
   ],
   "source": [
    "np.divide(A_np, B_np)"
   ]
  },
  {
   "cell_type": "markdown",
   "metadata": {},
   "source": [
    "Для векторов"
   ]
  },
  {
   "cell_type": "code",
   "execution_count": 31,
   "metadata": {},
   "outputs": [],
   "source": [
    "def get_divide_vectors_print(vec1, vec2):    \n",
    "    print(\"Векторы: \", \n",
    "          \"вектор 1:\", vec1, \n",
    "          sep=\"\\n\",)\n",
    "    print(\"вектор 2:\" if isinstance(vec2, list) else \"скаляр\")\n",
    "    print(vec2, end=\"\\n\\n\")\n",
    "    print(\"linear_algebra:\")\n",
    "    print(*LA.divide(vec1, vec2, elements=True), sep=\"\\n\", end=\"\\n\\n\")\n",
    "    print(\"numpy:\")\n",
    "    print(np.divide(np.array(vec1), np.array(vec2)))"
   ]
  },
  {
   "cell_type": "code",
   "execution_count": 32,
   "metadata": {},
   "outputs": [
    {
     "name": "stdout",
     "output_type": "stream",
     "text": [
      "Векторы: \n",
      "вектор 1:\n",
      "[[1, 2, 3]]\n",
      "вектор 2:\n",
      "[[4, 7, 8]]\n",
      "\n",
      "linear_algebra:\n",
      "[0.25, 0.2857142857142857, 0.375]\n",
      "\n",
      "numpy:\n",
      "[[0.25       0.28571429 0.375     ]]\n",
      "========================================\n",
      "\n",
      "Векторы: \n",
      "вектор 1:\n",
      "[[3], [2], [4]]\n",
      "вектор 2:\n",
      "[[4], [7], [9]]\n",
      "\n",
      "linear_algebra:\n",
      "[0.75]\n",
      "[0.2857142857142857]\n",
      "[0.4444444444444444]\n",
      "\n",
      "numpy:\n",
      "[[0.75      ]\n",
      " [0.28571429]\n",
      " [0.44444444]]\n"
     ]
    }
   ],
   "source": [
    "get_divide_vectors_print(X_1, X_2)\n",
    "print(\"=\"*40, end=\"\\n\\n\")\n",
    "get_divide_vectors_print(Y_1, Y_2)"
   ]
  },
  {
   "cell_type": "markdown",
   "metadata": {},
   "source": [
    "Деление векторов на число"
   ]
  },
  {
   "cell_type": "code",
   "execution_count": 33,
   "metadata": {},
   "outputs": [
    {
     "name": "stdout",
     "output_type": "stream",
     "text": [
      "Векторы: \n",
      "вектор 1:\n",
      "[[1, 2, 3]]\n",
      "скаляр\n",
      "2\n",
      "\n",
      "linear_algebra:\n",
      "[0.5, 1.0, 1.5]\n",
      "\n",
      "numpy:\n",
      "[[0.5 1.  1.5]]\n",
      "========================================\n",
      "\n",
      "Векторы: \n",
      "вектор 1:\n",
      "[[3], [2], [4]]\n",
      "скаляр\n",
      "2\n",
      "\n",
      "linear_algebra:\n",
      "[1.5]\n",
      "[1.0]\n",
      "[2.0]\n",
      "\n",
      "numpy:\n",
      "[[1.5]\n",
      " [1. ]\n",
      " [2. ]]\n"
     ]
    }
   ],
   "source": [
    "get_divide_vectors_print(X_1, 2)\n",
    "print(\"=\"*40, end=\"\\n\\n\")\n",
    "get_divide_vectors_print(Y_1, 2)"
   ]
  },
  {
   "cell_type": "markdown",
   "metadata": {},
   "source": [
    "Результаты вычислений сходятся."
   ]
  },
  {
   "cell_type": "markdown",
   "metadata": {},
   "source": [
    "Проверим вычисление для матриц разной размерности."
   ]
  },
  {
   "cell_type": "code",
   "execution_count": 34,
   "metadata": {},
   "outputs": [
    {
     "name": "stdout",
     "output_type": "stream",
     "text": [
      "Невозможно поделить объекты. Разная размерность.\n"
     ]
    }
   ],
   "source": [
    "LA.divide(A, Z)"
   ]
  },
  {
   "cell_type": "code",
   "execution_count": 35,
   "metadata": {},
   "outputs": [
    {
     "name": "stdout",
     "output_type": "stream",
     "text": [
      "Вторая матрица не является квадратной.\n",
      "Обратную матрицу можно найти только для квадратной матрицы\n",
      "Деление матриц произвести невозможно.\n"
     ]
    }
   ],
   "source": [
    "LA.divide(A, A_4x5)"
   ]
  },
  {
   "cell_type": "markdown",
   "metadata": {},
   "source": [
    "Случай с вырожденной матрицей."
   ]
  },
  {
   "cell_type": "code",
   "execution_count": 36,
   "metadata": {},
   "outputs": [
    {
     "name": "stdout",
     "output_type": "stream",
     "text": [
      "Определитель второй матрицы равен 0.\n",
      "Матрица является вырожденной.\n",
      "Обратную матрицу можно найти только для невырожденной квадратной матрицы.\n",
      "Деление матриц произвести невозможно.\n"
     ]
    }
   ],
   "source": [
    "LA.divide(A, C)"
   ]
  },
  {
   "cell_type": "markdown",
   "metadata": {},
   "source": [
    "Также проверим деление матриц и векторов на число."
   ]
  },
  {
   "cell_type": "code",
   "execution_count": 37,
   "metadata": {},
   "outputs": [
    {
     "name": "stdout",
     "output_type": "stream",
     "text": [
      "Матрицы\n",
      "\n",
      "Исходные объекты:\n",
      "[[1 4 6]\n",
      " [2 5 7]\n",
      " [3 9 8]]\n",
      "2\n",
      "\n",
      "----------------------------------------\n",
      "Результат работы функции деления\n",
      "\n",
      "linearalgebra:\n",
      "[0.5, 2.0, 3.0]\n",
      "[1.0, 2.5, 3.5]\n",
      "[1.5, 4.5, 4.0]\n",
      "\n",
      "numpy:\n",
      "[[0.5 2.  3. ]\n",
      " [1.  2.5 3.5]\n",
      " [1.5 4.5 4. ]]\n",
      "========================================\n",
      "\n",
      "Вектор-строка\n",
      "\n",
      "Исходные объекты:\n",
      "[[1 2 3]]\n",
      "2\n",
      "\n",
      "----------------------------------------\n",
      "Результат работы функции деления\n",
      "\n",
      "linearalgebra:\n",
      "[0.5, 1.0, 1.5]\n",
      "\n",
      "numpy:\n",
      "[[0.5 1.  1.5]]\n",
      "========================================\n",
      "\n",
      "Вектор-столбец\n",
      "\n",
      "Исходные объекты:\n",
      "[[3]\n",
      " [2]\n",
      " [4]]\n",
      "2\n",
      "\n",
      "----------------------------------------\n",
      "Результат работы функции деления\n",
      "\n",
      "linearalgebra:\n",
      "[1.5]\n",
      "[1.0]\n",
      "[2.0]\n",
      "\n",
      "numpy:\n",
      "[[1.5]\n",
      " [1. ]\n",
      " [2. ]]\n",
      "========================================\n",
      "\n"
     ]
    }
   ],
   "source": [
    "for i in range(0, len(list_np_arrays), 2):\n",
    "    get_result_print(names[i], \n",
    "                     list_py_arrays[i],\n",
    "                     list_np_arrays[i],\n",
    "                     function=LA.divide,\n",
    "                     function_np=np.divide,\n",
    "                     scaler=2)"
   ]
  },
  {
   "cell_type": "markdown",
   "metadata": {},
   "source": [
    "Вывод: функция divide работает корректно."
   ]
  },
  {
   "cell_type": "markdown",
   "metadata": {},
   "source": [
    "## 05. Транспонирование\n",
    "<a id='transpose'></a>"
   ]
  },
  {
   "cell_type": "markdown",
   "metadata": {},
   "source": [
    "Транспонированная матрица — матрица $A^{T}$, полученная из исходной матрицы $A$ заменой строк на столбцы."
   ]
  },
  {
   "cell_type": "markdown",
   "metadata": {},
   "source": [
    "Функция транспонирование для матриц и векторов - transpose.\n",
    "\n",
    "Сравним результат вычисления с аналогичной функцией из numpy - transpose."
   ]
  },
  {
   "cell_type": "code",
   "execution_count": 38,
   "metadata": {},
   "outputs": [],
   "source": [
    "def get_one_arg_func_result(name, \n",
    "                            py_obj, \n",
    "                            np_obj, \n",
    "                            function=None, \n",
    "                            function_np=None):\n",
    "    print(f\"{name}:\", end=\"\\n\\n\")\n",
    "    print(\"Исходный объект:\")\n",
    "    print(*py_obj, sep=\"\\n\")\n",
    "    print(\"-\"*26, end=\"\\n\\n\")\n",
    "    print(\"Результаты работы функций:\", end=\"\\n\\n\")\n",
    "    print(\"linearalgebra:\")\n",
    "    if isinstance(function(py_obj), list):\n",
    "        print(*function(py_obj),\n",
    "              sep=\"\\n\", end=\"\\n\\n\")\n",
    "    else:\n",
    "        print(function(py_obj), end=\"\\n\\n\")\n",
    "    print(\"numpy:\")\n",
    "    print(function_np(np_obj))\n",
    "    print(\"=\"*26, end=\"\\n\\n\")"
   ]
  },
  {
   "cell_type": "code",
   "execution_count": 39,
   "metadata": {},
   "outputs": [
    {
     "name": "stdout",
     "output_type": "stream",
     "text": [
      "Матрицы:\n",
      "\n",
      "Исходный объект:\n",
      "[1, 4, 6]\n",
      "[2, 5, 7]\n",
      "[3, 9, 8]\n",
      "--------------------------\n",
      "\n",
      "Результаты работы функций:\n",
      "\n",
      "linearalgebra:\n",
      "[1, 2, 3]\n",
      "[4, 5, 9]\n",
      "[6, 7, 8]\n",
      "\n",
      "numpy:\n",
      "[[1 2 3]\n",
      " [4 5 9]\n",
      " [6 7 8]]\n",
      "==========================\n",
      "\n",
      "Вектор-строка:\n",
      "\n",
      "Исходный объект:\n",
      "[1, 2, 3]\n",
      "--------------------------\n",
      "\n",
      "Результаты работы функций:\n",
      "\n",
      "linearalgebra:\n",
      "[1]\n",
      "[2]\n",
      "[3]\n",
      "\n",
      "numpy:\n",
      "[[1]\n",
      " [2]\n",
      " [3]]\n",
      "==========================\n",
      "\n",
      "Вектор-столбец:\n",
      "\n",
      "Исходный объект:\n",
      "[3]\n",
      "[2]\n",
      "[4]\n",
      "--------------------------\n",
      "\n",
      "Результаты работы функций:\n",
      "\n",
      "linearalgebra:\n",
      "[3, 2, 4]\n",
      "\n",
      "numpy:\n",
      "[[3 2 4]]\n",
      "==========================\n",
      "\n"
     ]
    }
   ],
   "source": [
    "for i in range(0, len(list_np_arrays), 2):\n",
    "    get_one_arg_func_result(names[i],\n",
    "                            list_py_arrays[i],\n",
    "                            list_np_arrays[i],\n",
    "                            function=LA.transpose,\n",
    "                            function_np=np.transpose)"
   ]
  },
  {
   "cell_type": "markdown",
   "metadata": {},
   "source": [
    "Случай неквадратных матриц."
   ]
  },
  {
   "cell_type": "code",
   "execution_count": 40,
   "metadata": {},
   "outputs": [
    {
     "name": "stdout",
     "output_type": "stream",
     "text": [
      "Матрица размером 4x5:\n",
      "\n",
      "Исходный объект:\n",
      "[1, 2, 3, 4, 5]\n",
      "[3, 5, 7, 9, 1]\n",
      "[4, 6, 6, 7, 4]\n",
      "[7, 5, 5, 8, 9]\n",
      "--------------------------\n",
      "\n",
      "Результаты работы функций:\n",
      "\n",
      "linearalgebra:\n",
      "[1, 3, 4, 7]\n",
      "[2, 5, 6, 5]\n",
      "[3, 7, 6, 5]\n",
      "[4, 9, 7, 8]\n",
      "[5, 1, 4, 9]\n",
      "\n",
      "numpy:\n",
      "[[1 3 4 7]\n",
      " [2 5 6 5]\n",
      " [3 7 6 5]\n",
      " [4 9 7 8]\n",
      " [5 1 4 9]]\n",
      "==========================\n",
      "\n"
     ]
    }
   ],
   "source": [
    "get_one_arg_func_result(\"Матрица размером 4x5\",\n",
    "                        A_4x5,\n",
    "                        A_4x5_np,\n",
    "                        function=LA.transpose,\n",
    "                        function_np=np.transpose)"
   ]
  },
  {
   "cell_type": "markdown",
   "metadata": {},
   "source": [
    "Вывод: функция transpose работает корректно."
   ]
  },
  {
   "cell_type": "markdown",
   "metadata": {},
   "source": [
    "## 06. Определитель\n",
    "<a id='determinant'></a>"
   ]
  },
  {
   "cell_type": "markdown",
   "metadata": {},
   "source": [
    "Проверим функцию нахождения определителя матриц, реализованную в модуле linearalgebra - get_deteminant.\n",
    "\n",
    "Сравним результат вычисления с аналогичной функцией из numpy - linalg.det."
   ]
  },
  {
   "cell_type": "code",
   "execution_count": 41,
   "metadata": {},
   "outputs": [
    {
     "name": "stdout",
     "output_type": "stream",
     "text": [
      "Определитель матрицы:\n",
      "\n",
      "Исходный объект:\n",
      "[1, 4, 6]\n",
      "[2, 5, 7]\n",
      "[3, 9, 8]\n",
      "--------------------------\n",
      "\n",
      "Результаты работы функций:\n",
      "\n",
      "linearalgebra:\n",
      "15\n",
      "\n",
      "numpy:\n",
      "15.0\n",
      "==========================\n",
      "\n"
     ]
    }
   ],
   "source": [
    "get_one_arg_func_result(\"Определитель матрицы\",\n",
    "                        A,\n",
    "                        A_np,\n",
    "                        function=LA.get_determinant,\n",
    "                        function_np=np.linalg.det)"
   ]
  },
  {
   "cell_type": "code",
   "execution_count": 42,
   "metadata": {},
   "outputs": [
    {
     "name": "stdout",
     "output_type": "stream",
     "text": [
      "Определитель матрицы размера 2x2:\n",
      "\n",
      "Исходный объект:\n",
      "[1, 2]\n",
      "[3, 5]\n",
      "--------------------------\n",
      "\n",
      "Результаты работы функций:\n",
      "\n",
      "linearalgebra:\n",
      "-1\n",
      "\n",
      "numpy:\n",
      "-1.0000000000000004\n",
      "==========================\n",
      "\n"
     ]
    }
   ],
   "source": [
    "get_one_arg_func_result(\"Определитель матрицы размера 2x2\",\n",
    "                        Z,\n",
    "                        Z_np,\n",
    "                        function=LA.get_determinant,\n",
    "                        function_np=np.linalg.det)"
   ]
  },
  {
   "cell_type": "markdown",
   "metadata": {},
   "source": [
    "Для квадратной матрицы большей размерности."
   ]
  },
  {
   "cell_type": "code",
   "execution_count": 43,
   "metadata": {},
   "outputs": [
    {
     "name": "stdout",
     "output_type": "stream",
     "text": [
      "Определитель матрицы размера 6x6:\n",
      "\n",
      "Исходный объект:\n",
      "[1, 2, 3, 4, 5, 6]\n",
      "[3, 5, 7, 9, 1, 9]\n",
      "[4, 6, 6, 7, 4, 0]\n",
      "[7, 5, 5, 8, 9, 1]\n",
      "[2, 5, 6, 0, 1, 2]\n",
      "[1, 4, 9, 7, 2, 8]\n",
      "--------------------------\n",
      "\n",
      "Результаты работы функций:\n",
      "\n",
      "linearalgebra:\n",
      "-21712\n",
      "\n",
      "numpy:\n",
      "-21711.999999999993\n",
      "==========================\n",
      "\n"
     ]
    }
   ],
   "source": [
    "A_6x6 = [[1, 2, 3, 4, 5, 6],\n",
    "         [3, 5, 7, 9, 1, 9],\n",
    "         [4, 6, 6, 7, 4, 0],\n",
    "         [7, 5, 5, 8, 9, 1],\n",
    "         [2, 5, 6, 0, 1, 2],\n",
    "         [1, 4, 9, 7, 2, 8]]\n",
    "A_6x6_np = np.array(A_6x6)\n",
    "\n",
    "get_one_arg_func_result(\"Определитель матрицы размера 6x6\",\n",
    "                        A_6x6,\n",
    "                        A_6x6_np,\n",
    "                        function=LA.get_determinant,\n",
    "                        function_np=np.linalg.det)"
   ]
  },
  {
   "cell_type": "markdown",
   "metadata": {},
   "source": [
    "Для случая неквадратной матрицы большей размерности."
   ]
  },
  {
   "cell_type": "code",
   "execution_count": 44,
   "metadata": {},
   "outputs": [
    {
     "name": "stdout",
     "output_type": "stream",
     "text": [
      "Определитель матрицы размера 4x5\n",
      "[1, 2, 3, 4, 5]\n",
      "[3, 5, 7, 9, 1]\n",
      "[4, 6, 6, 7, 4]\n",
      "[7, 5, 5, 8, 9]\n",
      "Для неквадратной матрицы невозможно найти определитель\n"
     ]
    }
   ],
   "source": [
    "print(\"Определитель матрицы размера 4x5\",\n",
    "      *A_4x5, sep=\"\\n\")\n",
    "LA.get_determinant(A_4x5)"
   ]
  },
  {
   "cell_type": "markdown",
   "metadata": {},
   "source": [
    "Определитель для случая вырожденной матрицы."
   ]
  },
  {
   "cell_type": "code",
   "execution_count": 45,
   "metadata": {},
   "outputs": [
    {
     "name": "stdout",
     "output_type": "stream",
     "text": [
      "Определитель матрицы:\n",
      "\n",
      "Исходный объект:\n",
      "[1, 2, 3]\n",
      "[4, 5, 6]\n",
      "[7, 8, 9]\n",
      "--------------------------\n",
      "\n",
      "Результаты работы функций:\n",
      "\n",
      "linearalgebra:\n",
      "0\n",
      "\n",
      "numpy:\n",
      "0.0\n",
      "==========================\n",
      "\n"
     ]
    }
   ],
   "source": [
    "get_one_arg_func_result(\"Определитель матрицы\",\n",
    "                        C,\n",
    "                        C_np,\n",
    "                        function=LA.get_determinant,\n",
    "                        function_np=np.linalg.det)"
   ]
  },
  {
   "cell_type": "code",
   "execution_count": 46,
   "metadata": {},
   "outputs": [
    {
     "data": {
      "text/plain": [
       "True"
      ]
     },
     "execution_count": 46,
     "metadata": {},
     "output_type": "execute_result"
    }
   ],
   "source": [
    "LA.is_singular(C)"
   ]
  },
  {
   "cell_type": "markdown",
   "metadata": {},
   "source": [
    "Вывод: функция transpose для нахождения определителя работает корректно."
   ]
  },
  {
   "cell_type": "markdown",
   "metadata": {},
   "source": [
    "## Общий вывод\n",
    "<a id='recap'></a>"
   ]
  },
  {
   "cell_type": "markdown",
   "metadata": {},
   "source": [
    "Согласно тестовому заданию разработан модуль linearalgebra для работы с базовой линейной алгеброй, при помощи стандартной библиотеки Python.\n",
    "\n",
    "Библиотека numpy использовалась только в рамках отчета о работе функций, для наглядного сравнения результатов вычислений.\n",
    "\n",
    "Все функции реализованные в модуле linearalgebra работают корректно."
   ]
  }
 ],
 "metadata": {
  "kernelspec": {
   "display_name": "Python 3",
   "language": "python",
   "name": "python3"
  },
  "language_info": {
   "codemirror_mode": {
    "name": "ipython",
    "version": 3
   },
   "file_extension": ".py",
   "mimetype": "text/x-python",
   "name": "python",
   "nbconvert_exporter": "python",
   "pygments_lexer": "ipython3",
   "version": "3.8.3"
  },
  "toc": {
   "base_numbering": 1,
   "nav_menu": {},
   "number_sections": false,
   "sideBar": true,
   "skip_h1_title": false,
   "title_cell": "Table of Contents",
   "title_sidebar": "Contents",
   "toc_cell": false,
   "toc_position": {
    "height": "calc(100% - 180px)",
    "left": "10px",
    "top": "150px",
    "width": "349.091px"
   },
   "toc_section_display": true,
   "toc_window_display": true
  }
 },
 "nbformat": 4,
 "nbformat_minor": 4
}
