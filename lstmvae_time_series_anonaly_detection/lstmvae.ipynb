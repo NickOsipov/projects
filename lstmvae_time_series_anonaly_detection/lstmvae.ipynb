{
 "cells": [
  {
   "cell_type": "markdown",
   "metadata": {},
   "source": [
    "# **LSTMVAE**\n",
    "# Вариационный автоэнкодер на основе LSTM блоков для генерации временных рядов"
   ]
  },
  {
   "cell_type": "markdown",
   "metadata": {
    "id": "dlKuZRz5ypHK"
   },
   "source": [
    "# 01. Подключение библиотек, настройка"
   ]
  },
  {
   "cell_type": "code",
   "execution_count": null,
   "metadata": {
    "id": "x_jYjXq6ypHL"
   },
   "outputs": [],
   "source": [
    "import os\n",
    "import random\n",
    "import numpy as np\n",
    "import pandas as pd\n",
    "import seaborn as sns\n",
    "import matplotlib as mpl\n",
    "import matplotlib.pyplot as plt\n",
    "import plotly.graph_objects as go\n",
    "import plotly.figure_factory as ff\n",
    "from plotly import subplots\n",
    "%matplotlib inline\n",
    "%config InlineBackend.print_figure_kwargs={'facecolor' : '#D9D9D9'}\n",
    "sns.set(font_scale=1.3)"
   ]
  },
  {
   "cell_type": "code",
   "execution_count": null,
   "metadata": {
    "id": "DQofFmfQypHM"
   },
   "outputs": [],
   "source": [
    "import sklearn.model_selection\n",
    "from sklearn.metrics import mean_absolute_error, median_absolute_error\n",
    "from sklearn.preprocessing import MinMaxScaler, StandardScaler"
   ]
  },
  {
   "cell_type": "code",
   "execution_count": null,
   "metadata": {
    "id": "UNM1YUT7ypHM"
   },
   "outputs": [],
   "source": [
    "from warnings import simplefilter\n",
    "from sklearn.exceptions import ConvergenceWarning\n",
    "simplefilter(\"ignore\", category=ConvergenceWarning)"
   ]
  },
  {
   "cell_type": "markdown",
   "metadata": {
    "id": "5oir1OCHypHN"
   },
   "source": [
    "Для создания архитектуры вариационного автоэнкодера воспользуемся пакетом Keras."
   ]
  },
  {
   "cell_type": "code",
   "execution_count": null,
   "metadata": {
    "id": "LciFsF1pypHN"
   },
   "outputs": [],
   "source": [
    "import keras\n",
    "from keras import backend as K\n",
    "from keras.models import Sequential, Model\n",
    "from keras.layers import Input, LSTM, RepeatVector, Dropout, BatchNormalization\n",
    "from keras.layers.core import Flatten, Dense, Dropout, Lambda\n",
    "from keras.optimizers import SGD, RMSprop, Adam\n",
    "from keras import objectives\n",
    "import tensorflow as tf"
   ]
  },
  {
   "cell_type": "markdown",
   "metadata": {
    "id": "H-jOrT9BHExI"
   },
   "source": [
    "Для обучения нейронной сети будем использовать Google Colab."
   ]
  },
  {
   "cell_type": "code",
   "execution_count": null,
   "metadata": {
    "colab": {
     "base_uri": "https://localhost:8080/"
    },
    "executionInfo": {
     "elapsed": 16322,
     "status": "ok",
     "timestamp": 1621217840452,
     "user": {
      "displayName": "Nick Osipov",
      "photoUrl": "https://lh3.googleusercontent.com/a-/AOh14Gjmtt8jlZhtlPY9K7cMQstM8o9m5QwDXwxJd_yG=s64",
      "userId": "17245529527264073567"
     },
     "user_tz": -180
    },
    "id": "HUzpU0M_yt7p",
    "outputId": "9701f3c9-c6a6-4898-bbd0-741528a7b54c"
   },
   "outputs": [
    {
     "name": "stdout",
     "output_type": "stream",
     "text": [
      "Mounted at /content/drive\n",
      "/content/drive/My Drive/Osipov_NO_test_task_2_chemtechai_data_analyst\n"
     ]
    }
   ],
   "source": [
    "from google.colab import drive\n",
    "drive.mount('/content/drive')\n",
    "%cd /content/drive/My Drive/Osipov_NO_test_task_2_chemtechai_data_analyst"
   ]
  },
  {
   "cell_type": "markdown",
   "metadata": {
    "id": "UTvF-IwiHExJ"
   },
   "source": [
    "Проверим подключение к GPU Google Colab."
   ]
  },
  {
   "cell_type": "code",
   "execution_count": null,
   "metadata": {
    "colab": {
     "base_uri": "https://localhost:8080/"
    },
    "executionInfo": {
     "elapsed": 5769,
     "status": "ok",
     "timestamp": 1621217849273,
     "user": {
      "displayName": "Nick Osipov",
      "photoUrl": "https://lh3.googleusercontent.com/a-/AOh14Gjmtt8jlZhtlPY9K7cMQstM8o9m5QwDXwxJd_yG=s64",
      "userId": "17245529527264073567"
     },
     "user_tz": -180
    },
    "id": "bOUDDF6sr4G-",
    "outputId": "8557bbe6-ab4e-442c-c944-b68d21a8371c"
   },
   "outputs": [
    {
     "name": "stdout",
     "output_type": "stream",
     "text": [
      "[name: \"/device:CPU:0\"\n",
      "device_type: \"CPU\"\n",
      "memory_limit: 268435456\n",
      "locality {\n",
      "}\n",
      "incarnation: 9908405011686310669\n",
      ", name: \"/device:GPU:0\"\n",
      "device_type: \"GPU\"\n",
      "memory_limit: 14674281152\n",
      "locality {\n",
      "  bus_id: 1\n",
      "  links {\n",
      "  }\n",
      "}\n",
      "incarnation: 8512319098609485681\n",
      "physical_device_desc: \"device: 0, name: Tesla T4, pci bus id: 0000:00:04.0, compute capability: 7.5\"\n",
      "]\n"
     ]
    }
   ],
   "source": [
    "from tensorflow.python.client import device_lib\n",
    "print(device_lib.list_local_devices())"
   ]
  },
  {
   "cell_type": "markdown",
   "metadata": {
    "id": "_H0OSLFZHExJ"
   },
   "source": [
    "Настроим зерно датчика случайных чисел."
   ]
  },
  {
   "cell_type": "code",
   "execution_count": null,
   "metadata": {
    "id": "bR0d2NOGHExJ"
   },
   "outputs": [],
   "source": [
    "def set_seed(seed):\n",
    "    \"\"\"Функция устанавливающая зерно датчика случайных чисел\"\"\"\n",
    "    tf.random.set_seed(seed)\n",
    "    os.environ['PYTHONHASHSEED'] = str(seed)\n",
    "    np.random.seed(seed)\n",
    "    random.seed(seed)"
   ]
  },
  {
   "cell_type": "code",
   "execution_count": null,
   "metadata": {
    "id": "N9f3JGFYHExK"
   },
   "outputs": [],
   "source": [
    "set_seed(1)"
   ]
  },
  {
   "cell_type": "markdown",
   "metadata": {
    "id": "bNSjQhSzypHN"
   },
   "source": [
    "# 02. Подключение данных"
   ]
  },
  {
   "cell_type": "code",
   "execution_count": null,
   "metadata": {
    "id": "Vk-8v1-TypHO"
   },
   "outputs": [],
   "source": [
    "data = pd.read_csv(\"data_pi.csv\")"
   ]
  },
  {
   "cell_type": "code",
   "execution_count": null,
   "metadata": {
    "colab": {
     "base_uri": "https://localhost:8080/",
     "height": 197
    },
    "executionInfo": {
     "elapsed": 760,
     "status": "ok",
     "timestamp": 1621217868099,
     "user": {
      "displayName": "Nick Osipov",
      "photoUrl": "https://lh3.googleusercontent.com/a-/AOh14Gjmtt8jlZhtlPY9K7cMQstM8o9m5QwDXwxJd_yG=s64",
      "userId": "17245529527264073567"
     },
     "user_tz": -180
    },
    "id": "i6N-VOk0ypHO",
    "outputId": "2987cb14-4c33-4ac3-ed89-c32b46fbd202"
   },
   "outputs": [
    {
     "data": {
      "text/html": [
       "<div>\n",
       "<style scoped>\n",
       "    .dataframe tbody tr th:only-of-type {\n",
       "        vertical-align: middle;\n",
       "    }\n",
       "\n",
       "    .dataframe tbody tr th {\n",
       "        vertical-align: top;\n",
       "    }\n",
       "\n",
       "    .dataframe thead th {\n",
       "        text-align: right;\n",
       "    }\n",
       "</style>\n",
       "<table border=\"1\" class=\"dataframe\">\n",
       "  <thead>\n",
       "    <tr style=\"text-align: right;\">\n",
       "      <th></th>\n",
       "      <th>timestamp</th>\n",
       "      <th>PI_71</th>\n",
       "    </tr>\n",
       "  </thead>\n",
       "  <tbody>\n",
       "    <tr>\n",
       "      <th>0</th>\n",
       "      <td>2020-04-27 15:30:00</td>\n",
       "      <td>272.0</td>\n",
       "    </tr>\n",
       "    <tr>\n",
       "      <th>1</th>\n",
       "      <td>2020-04-27 16:30:00</td>\n",
       "      <td>272.0</td>\n",
       "    </tr>\n",
       "    <tr>\n",
       "      <th>2</th>\n",
       "      <td>2020-04-27 19:30:00</td>\n",
       "      <td>272.0</td>\n",
       "    </tr>\n",
       "    <tr>\n",
       "      <th>3</th>\n",
       "      <td>2020-04-27 20:30:00</td>\n",
       "      <td>272.0</td>\n",
       "    </tr>\n",
       "    <tr>\n",
       "      <th>4</th>\n",
       "      <td>2020-04-27 21:30:00</td>\n",
       "      <td>272.0</td>\n",
       "    </tr>\n",
       "  </tbody>\n",
       "</table>\n",
       "</div>"
      ],
      "text/plain": [
       "             timestamp  PI_71\n",
       "0  2020-04-27 15:30:00  272.0\n",
       "1  2020-04-27 16:30:00  272.0\n",
       "2  2020-04-27 19:30:00  272.0\n",
       "3  2020-04-27 20:30:00  272.0\n",
       "4  2020-04-27 21:30:00  272.0"
      ]
     },
     "execution_count": 10,
     "metadata": {
      "tags": []
     },
     "output_type": "execute_result"
    }
   ],
   "source": [
    "data.head()"
   ]
  },
  {
   "cell_type": "code",
   "execution_count": null,
   "metadata": {
    "colab": {
     "base_uri": "https://localhost:8080/"
    },
    "executionInfo": {
     "elapsed": 621,
     "status": "ok",
     "timestamp": 1621217869739,
     "user": {
      "displayName": "Nick Osipov",
      "photoUrl": "https://lh3.googleusercontent.com/a-/AOh14Gjmtt8jlZhtlPY9K7cMQstM8o9m5QwDXwxJd_yG=s64",
      "userId": "17245529527264073567"
     },
     "user_tz": -180
    },
    "id": "WXxzSmmcypHQ",
    "outputId": "68e37a4c-50b6-49df-a97f-71425dc17b42"
   },
   "outputs": [
    {
     "name": "stdout",
     "output_type": "stream",
     "text": [
      "<class 'pandas.core.frame.DataFrame'>\n",
      "RangeIndex: 60510 entries, 0 to 60509\n",
      "Data columns (total 2 columns):\n",
      " #   Column     Non-Null Count  Dtype  \n",
      "---  ------     --------------  -----  \n",
      " 0   timestamp  60510 non-null  object \n",
      " 1   PI_71      60510 non-null  float64\n",
      "dtypes: float64(1), object(1)\n",
      "memory usage: 945.6+ KB\n"
     ]
    }
   ],
   "source": [
    "data.info()"
   ]
  },
  {
   "cell_type": "markdown",
   "metadata": {
    "id": "o4c1zMv0HExM"
   },
   "source": [
    "Описательные статистики."
   ]
  },
  {
   "cell_type": "code",
   "execution_count": null,
   "metadata": {
    "colab": {
     "base_uri": "https://localhost:8080/",
     "height": 287
    },
    "executionInfo": {
     "elapsed": 629,
     "status": "ok",
     "timestamp": 1621217871458,
     "user": {
      "displayName": "Nick Osipov",
      "photoUrl": "https://lh3.googleusercontent.com/a-/AOh14Gjmtt8jlZhtlPY9K7cMQstM8o9m5QwDXwxJd_yG=s64",
      "userId": "17245529527264073567"
     },
     "user_tz": -180
    },
    "id": "nRhPWZE7ypHQ",
    "outputId": "3dc7423d-1511-43f3-a78c-a5aa39bb5edd"
   },
   "outputs": [
    {
     "data": {
      "text/html": [
       "<div>\n",
       "<style scoped>\n",
       "    .dataframe tbody tr th:only-of-type {\n",
       "        vertical-align: middle;\n",
       "    }\n",
       "\n",
       "    .dataframe tbody tr th {\n",
       "        vertical-align: top;\n",
       "    }\n",
       "\n",
       "    .dataframe thead th {\n",
       "        text-align: right;\n",
       "    }\n",
       "</style>\n",
       "<table border=\"1\" class=\"dataframe\">\n",
       "  <thead>\n",
       "    <tr style=\"text-align: right;\">\n",
       "      <th></th>\n",
       "      <th>PI_71</th>\n",
       "    </tr>\n",
       "  </thead>\n",
       "  <tbody>\n",
       "    <tr>\n",
       "      <th>count</th>\n",
       "      <td>60510.000000</td>\n",
       "    </tr>\n",
       "    <tr>\n",
       "      <th>mean</th>\n",
       "      <td>279.636115</td>\n",
       "    </tr>\n",
       "    <tr>\n",
       "      <th>std</th>\n",
       "      <td>76.820794</td>\n",
       "    </tr>\n",
       "    <tr>\n",
       "      <th>min</th>\n",
       "      <td>70.023150</td>\n",
       "    </tr>\n",
       "    <tr>\n",
       "      <th>25%</th>\n",
       "      <td>244.502300</td>\n",
       "    </tr>\n",
       "    <tr>\n",
       "      <th>50%</th>\n",
       "      <td>278.790500</td>\n",
       "    </tr>\n",
       "    <tr>\n",
       "      <th>75%</th>\n",
       "      <td>321.759200</td>\n",
       "    </tr>\n",
       "    <tr>\n",
       "      <th>max</th>\n",
       "      <td>756.221100</td>\n",
       "    </tr>\n",
       "  </tbody>\n",
       "</table>\n",
       "</div>"
      ],
      "text/plain": [
       "              PI_71\n",
       "count  60510.000000\n",
       "mean     279.636115\n",
       "std       76.820794\n",
       "min       70.023150\n",
       "25%      244.502300\n",
       "50%      278.790500\n",
       "75%      321.759200\n",
       "max      756.221100"
      ]
     },
     "execution_count": 12,
     "metadata": {
      "tags": []
     },
     "output_type": "execute_result"
    }
   ],
   "source": [
    "data.describe()"
   ]
  },
  {
   "cell_type": "code",
   "execution_count": null,
   "metadata": {
    "colab": {
     "base_uri": "https://localhost:8080/"
    },
    "executionInfo": {
     "elapsed": 584,
     "status": "ok",
     "timestamp": 1621217901246,
     "user": {
      "displayName": "Nick Osipov",
      "photoUrl": "https://lh3.googleusercontent.com/a-/AOh14Gjmtt8jlZhtlPY9K7cMQstM8o9m5QwDXwxJd_yG=s64",
      "userId": "17245529527264073567"
     },
     "user_tz": -180
    },
    "id": "SybLh9GHypHR",
    "outputId": "e8ae60fa-3158-481a-93d5-a90a7b9f257d"
   },
   "outputs": [
    {
     "data": {
      "text/plain": [
       "timestamp    0\n",
       "PI_71        0\n",
       "dtype: int64"
      ]
     },
     "execution_count": 13,
     "metadata": {
      "tags": []
     },
     "output_type": "execute_result"
    }
   ],
   "source": [
    "data.isnull().sum()"
   ]
  },
  {
   "cell_type": "markdown",
   "metadata": {
    "id": "S1MD_SlmypHR"
   },
   "source": [
    "Переименуем столбцы для удобства."
   ]
  },
  {
   "cell_type": "code",
   "execution_count": null,
   "metadata": {
    "colab": {
     "base_uri": "https://localhost:8080/"
    },
    "executionInfo": {
     "elapsed": 615,
     "status": "ok",
     "timestamp": 1621217904406,
     "user": {
      "displayName": "Nick Osipov",
      "photoUrl": "https://lh3.googleusercontent.com/a-/AOh14Gjmtt8jlZhtlPY9K7cMQstM8o9m5QwDXwxJd_yG=s64",
      "userId": "17245529527264073567"
     },
     "user_tz": -180
    },
    "id": "bTVNcMucypHS",
    "outputId": "c5b9fcf0-abf5-4b43-81a0-0aa70223e6b2"
   },
   "outputs": [
    {
     "name": "stdout",
     "output_type": "stream",
     "text": [
      "<class 'pandas.core.frame.DataFrame'>\n",
      "RangeIndex: 60510 entries, 0 to 60509\n",
      "Data columns (total 2 columns):\n",
      " #   Column     Non-Null Count  Dtype  \n",
      "---  ------     --------------  -----  \n",
      " 0   timestamp  60510 non-null  object \n",
      " 1   marks      60510 non-null  float64\n",
      "dtypes: float64(1), object(1)\n",
      "memory usage: 945.6+ KB\n"
     ]
    }
   ],
   "source": [
    "data.columns = [\"timestamp\", \"marks\"]\n",
    "data.info()"
   ]
  },
  {
   "cell_type": "markdown",
   "metadata": {
    "id": "C2ExXmkXypHS"
   },
   "source": [
    "# 03. Визуализация данных"
   ]
  },
  {
   "cell_type": "markdown",
   "metadata": {
    "id": "7pQ2827HypHT"
   },
   "source": [
    "Визуализируем данные с помощью библиотеки Plotly"
   ]
  },
  {
   "cell_type": "code",
   "execution_count": null,
   "metadata": {
    "colab": {
     "base_uri": "https://localhost:8080/",
     "height": 542,
     "output_embedded_package_id": "1v6YE84F9QDOApsheLaJMKNBvC87s3fba"
    },
    "executionInfo": {
     "elapsed": 2683,
     "status": "ok",
     "timestamp": 1621217910412,
     "user": {
      "displayName": "Nick Osipov",
      "photoUrl": "https://lh3.googleusercontent.com/a-/AOh14Gjmtt8jlZhtlPY9K7cMQstM8o9m5QwDXwxJd_yG=s64",
      "userId": "17245529527264073567"
     },
     "user_tz": -180
    },
    "id": "3_5CwCt4ypHT",
    "outputId": "a04ee4fc-b1b6-47a8-a965-06f05b135a53"
   },
   "outputs": [
    {
     "data": {
      "text/plain": [
       "Output hidden; open in https://colab.research.google.com to view."
      ]
     },
     "metadata": {},
     "output_type": "display_data"
    }
   ],
   "source": [
    "fig = go.Figure()\n",
    "fig.add_trace(go.Scatter(x=data[\"timestamp\"], \n",
    "                         y=data[\"marks\"], \n",
    "                         name='PI_71 marks'))\n",
    "fig.update_layout(showlegend=True, \n",
    "                  title=\"PI_71 Marks\", \n",
    "                  xaxis_title=\"Time\", \n",
    "                  yaxis_title=\"Marks\")\n",
    "fig.show()"
   ]
  },
  {
   "cell_type": "markdown",
   "metadata": {
    "id": "8hoa19u3ypHZ"
   },
   "source": [
    "По графику видно, что во временном ряду присутствуют пропущенные значения. \n",
    "Возможно это связано с особенностями производства."
   ]
  },
  {
   "cell_type": "markdown",
   "metadata": {
    "id": "p8f5zb-KypHZ"
   },
   "source": [
    "Посмотрим на распределение значений."
   ]
  },
  {
   "cell_type": "code",
   "execution_count": null,
   "metadata": {
    "colab": {
     "base_uri": "https://localhost:8080/",
     "height": 542,
     "output_embedded_package_id": "1XZLeIASvmRJ6SBnXsg8Xoc-GsbpNnnfq"
    },
    "executionInfo": {
     "elapsed": 2664,
     "status": "ok",
     "timestamp": 1621217916118,
     "user": {
      "displayName": "Nick Osipov",
      "photoUrl": "https://lh3.googleusercontent.com/a-/AOh14Gjmtt8jlZhtlPY9K7cMQstM8o9m5QwDXwxJd_yG=s64",
      "userId": "17245529527264073567"
     },
     "user_tz": -180
    },
    "id": "KSvzYDtDypHZ",
    "outputId": "63c297c2-0e37-4425-c433-1c47758a6930"
   },
   "outputs": [
    {
     "data": {
      "text/plain": [
       "Output hidden; open in https://colab.research.google.com to view."
      ]
     },
     "metadata": {},
     "output_type": "display_data"
    }
   ],
   "source": [
    "fig = ff.create_distplot([data[\"marks\"]], \n",
    "                         group_labels=[\"PI_71 Marks\"], \n",
    "                         colors=[\"#636EFA\"])\n",
    "fig.update_layout(title_text='PI_71 Distribution')\n",
    "fig.show()"
   ]
  },
  {
   "cell_type": "markdown",
   "metadata": {
    "id": "xRkDbEKBypHb"
   },
   "source": [
    "# 04. Обработка данных"
   ]
  },
  {
   "cell_type": "markdown",
   "metadata": {
    "id": "WZ2JSx8uHExP"
   },
   "source": [
    "Преобразуем столбец timestamp к типу datetime."
   ]
  },
  {
   "cell_type": "code",
   "execution_count": null,
   "metadata": {
    "colab": {
     "base_uri": "https://localhost:8080/"
    },
    "executionInfo": {
     "elapsed": 586,
     "status": "ok",
     "timestamp": 1621217954161,
     "user": {
      "displayName": "Nick Osipov",
      "photoUrl": "https://lh3.googleusercontent.com/a-/AOh14Gjmtt8jlZhtlPY9K7cMQstM8o9m5QwDXwxJd_yG=s64",
      "userId": "17245529527264073567"
     },
     "user_tz": -180
    },
    "id": "23hp-MLTypHb",
    "outputId": "1d029d9f-d902-453d-d906-05bf878df0d7"
   },
   "outputs": [
    {
     "name": "stdout",
     "output_type": "stream",
     "text": [
      "<class 'pandas.core.frame.DataFrame'>\n",
      "RangeIndex: 60510 entries, 0 to 60509\n",
      "Data columns (total 2 columns):\n",
      " #   Column     Non-Null Count  Dtype         \n",
      "---  ------     --------------  -----         \n",
      " 0   timestamp  60510 non-null  datetime64[ns]\n",
      " 1   marks      60510 non-null  float64       \n",
      "dtypes: datetime64[ns](1), float64(1)\n",
      "memory usage: 945.6 KB\n"
     ]
    }
   ],
   "source": [
    "data['timestamp'] = pd.to_datetime(data['timestamp'])\n",
    "data.info()"
   ]
  },
  {
   "cell_type": "markdown",
   "metadata": {
    "id": "bx8M2U-KypHb"
   },
   "source": [
    "Столбец timestamp сохраним в переменную timestamps, для удобства.\n",
    "\n",
    "Также создадим DataFrame со столбцом значений PI_71."
   ]
  },
  {
   "cell_type": "code",
   "execution_count": null,
   "metadata": {
    "colab": {
     "base_uri": "https://localhost:8080/",
     "height": 197
    },
    "executionInfo": {
     "elapsed": 576,
     "status": "ok",
     "timestamp": 1621217955973,
     "user": {
      "displayName": "Nick Osipov",
      "photoUrl": "https://lh3.googleusercontent.com/a-/AOh14Gjmtt8jlZhtlPY9K7cMQstM8o9m5QwDXwxJd_yG=s64",
      "userId": "17245529527264073567"
     },
     "user_tz": -180
    },
    "id": "aXgbzgycypHc",
    "outputId": "ad8b2ac2-97df-4711-d2c0-732e0f52c858"
   },
   "outputs": [
    {
     "data": {
      "text/html": [
       "<div>\n",
       "<style scoped>\n",
       "    .dataframe tbody tr th:only-of-type {\n",
       "        vertical-align: middle;\n",
       "    }\n",
       "\n",
       "    .dataframe tbody tr th {\n",
       "        vertical-align: top;\n",
       "    }\n",
       "\n",
       "    .dataframe thead th {\n",
       "        text-align: right;\n",
       "    }\n",
       "</style>\n",
       "<table border=\"1\" class=\"dataframe\">\n",
       "  <thead>\n",
       "    <tr style=\"text-align: right;\">\n",
       "      <th></th>\n",
       "      <th>marks</th>\n",
       "    </tr>\n",
       "  </thead>\n",
       "  <tbody>\n",
       "    <tr>\n",
       "      <th>0</th>\n",
       "      <td>272.0</td>\n",
       "    </tr>\n",
       "    <tr>\n",
       "      <th>1</th>\n",
       "      <td>272.0</td>\n",
       "    </tr>\n",
       "    <tr>\n",
       "      <th>2</th>\n",
       "      <td>272.0</td>\n",
       "    </tr>\n",
       "    <tr>\n",
       "      <th>3</th>\n",
       "      <td>272.0</td>\n",
       "    </tr>\n",
       "    <tr>\n",
       "      <th>4</th>\n",
       "      <td>272.0</td>\n",
       "    </tr>\n",
       "  </tbody>\n",
       "</table>\n",
       "</div>"
      ],
      "text/plain": [
       "   marks\n",
       "0  272.0\n",
       "1  272.0\n",
       "2  272.0\n",
       "3  272.0\n",
       "4  272.0"
      ]
     },
     "execution_count": 19,
     "metadata": {
      "tags": []
     },
     "output_type": "execute_result"
    }
   ],
   "source": [
    "timestamps = data[\"timestamp\"]\n",
    "data_marks = data.drop('timestamp', axis=1)\n",
    "data_marks.head()"
   ]
  },
  {
   "cell_type": "markdown",
   "metadata": {
    "id": "o4-7uP8qypHc"
   },
   "source": [
    "Стандартизируем данные. \n",
    "\n",
    "Переведем в значения масштаб значений со средним $\\mu = \\mathrm{0}$ и стандартным отклонением $\\sigma = \\mathrm{1}$, по формуле $z = {x - \\mu \\over \\sigma}$. \n",
    "\n",
    "Также сохраним в переменных min_x, max_x, mean_x, stddev_x  - минимальное и максимальное значения, среднее и стандартное отклонение для возврата к оригинальному масштабу."
   ]
  },
  {
   "cell_type": "code",
   "execution_count": null,
   "metadata": {
    "id": "4vA1faqtypHc"
   },
   "outputs": [],
   "source": [
    "min_x = data.iloc[:, 1].min()\n",
    "max_x = data.iloc[:, 1].max()\n",
    "mean_x = data.iloc[:, 1].mean()\n",
    "stddev_x = data.iloc[:, 1].std()\n",
    "\n",
    "std_scaler = StandardScaler()\n",
    "data_marks[\"marks\"] = std_scaler.fit_transform(data_marks)"
   ]
  },
  {
   "cell_type": "code",
   "execution_count": null,
   "metadata": {
    "colab": {
     "base_uri": "https://localhost:8080/",
     "height": 406
    },
    "executionInfo": {
     "elapsed": 583,
     "status": "ok",
     "timestamp": 1621217988869,
     "user": {
      "displayName": "Nick Osipov",
      "photoUrl": "https://lh3.googleusercontent.com/a-/AOh14Gjmtt8jlZhtlPY9K7cMQstM8o9m5QwDXwxJd_yG=s64",
      "userId": "17245529527264073567"
     },
     "user_tz": -180
    },
    "id": "aCKJAcBoypHc",
    "outputId": "95f6ffe1-9bde-419b-99c7-8ba237bca91c"
   },
   "outputs": [
    {
     "data": {
      "text/html": [
       "<div>\n",
       "<style scoped>\n",
       "    .dataframe tbody tr th:only-of-type {\n",
       "        vertical-align: middle;\n",
       "    }\n",
       "\n",
       "    .dataframe tbody tr th {\n",
       "        vertical-align: top;\n",
       "    }\n",
       "\n",
       "    .dataframe thead th {\n",
       "        text-align: right;\n",
       "    }\n",
       "</style>\n",
       "<table border=\"1\" class=\"dataframe\">\n",
       "  <thead>\n",
       "    <tr style=\"text-align: right;\">\n",
       "      <th></th>\n",
       "      <th>marks</th>\n",
       "    </tr>\n",
       "  </thead>\n",
       "  <tbody>\n",
       "    <tr>\n",
       "      <th>0</th>\n",
       "      <td>-0.099402</td>\n",
       "    </tr>\n",
       "    <tr>\n",
       "      <th>1</th>\n",
       "      <td>-0.099402</td>\n",
       "    </tr>\n",
       "    <tr>\n",
       "      <th>2</th>\n",
       "      <td>-0.099402</td>\n",
       "    </tr>\n",
       "    <tr>\n",
       "      <th>3</th>\n",
       "      <td>-0.099402</td>\n",
       "    </tr>\n",
       "    <tr>\n",
       "      <th>4</th>\n",
       "      <td>-0.099402</td>\n",
       "    </tr>\n",
       "    <tr>\n",
       "      <th>...</th>\n",
       "      <td>...</td>\n",
       "    </tr>\n",
       "    <tr>\n",
       "      <th>60505</th>\n",
       "      <td>0.625550</td>\n",
       "    </tr>\n",
       "    <tr>\n",
       "      <th>60506</th>\n",
       "      <td>0.629316</td>\n",
       "    </tr>\n",
       "    <tr>\n",
       "      <th>60507</th>\n",
       "      <td>0.629316</td>\n",
       "    </tr>\n",
       "    <tr>\n",
       "      <th>60508</th>\n",
       "      <td>0.631200</td>\n",
       "    </tr>\n",
       "    <tr>\n",
       "      <th>60509</th>\n",
       "      <td>0.629316</td>\n",
       "    </tr>\n",
       "  </tbody>\n",
       "</table>\n",
       "<p>60510 rows × 1 columns</p>\n",
       "</div>"
      ],
      "text/plain": [
       "          marks\n",
       "0     -0.099402\n",
       "1     -0.099402\n",
       "2     -0.099402\n",
       "3     -0.099402\n",
       "4     -0.099402\n",
       "...         ...\n",
       "60505  0.625550\n",
       "60506  0.629316\n",
       "60507  0.629316\n",
       "60508  0.631200\n",
       "60509  0.629316\n",
       "\n",
       "[60510 rows x 1 columns]"
      ]
     },
     "execution_count": 21,
     "metadata": {
      "tags": []
     },
     "output_type": "execute_result"
    }
   ],
   "source": [
    "data_marks"
   ]
  },
  {
   "cell_type": "markdown",
   "metadata": {
    "id": "704vIJcIypHd"
   },
   "source": [
    "Разделим временной ряд на train (60%) и test (40%) выборки.\n",
    "\n",
    "Добавим в train выборку дополнительно 24 значения. Это не создаст большого дисбаланса в размерах тренировочной и тестовой выборки, но позволит нам подобрать параметр batch size из более широкого диапазона значений. \n",
    "\n",
    "Batch size должен быть кратен размерам тренировочной и тестовой выборки."
   ]
  },
  {
   "cell_type": "code",
   "execution_count": null,
   "metadata": {
    "id": "AqXX367-ypHd"
   },
   "outputs": [],
   "source": [
    "train_size = int(data_marks.shape[0] * 0.6) + 24\n",
    "\n",
    "train = pd.DataFrame(data_marks.iloc[0:train_size, :])\n",
    "test = pd.DataFrame(data_marks.iloc[train_size:, :])"
   ]
  },
  {
   "cell_type": "markdown",
   "metadata": {
    "id": "5fui1R8WypHe"
   },
   "source": [
    "Создадим тензоры размерности 3, для эффективной работы LSTM блоков. Тензор будет иметь размерность (samples, timesteps, features).\n",
    "\n",
    "Объявим переменную timesteps со значением 30.\n",
    "\n",
    "У нас получится вложенный список, в котором для каждого значения будут сохранены вектора со следующими 30 значениями."
   ]
  },
  {
   "cell_type": "code",
   "execution_count": null,
   "metadata": {
    "colab": {
     "base_uri": "https://localhost:8080/"
    },
    "executionInfo": {
     "elapsed": 2176,
     "status": "ok",
     "timestamp": 1621218055319,
     "user": {
      "displayName": "Nick Osipov",
      "photoUrl": "https://lh3.googleusercontent.com/a-/AOh14Gjmtt8jlZhtlPY9K7cMQstM8o9m5QwDXwxJd_yG=s64",
      "userId": "17245529527264073567"
     },
     "user_tz": -180
    },
    "id": "hhZ0cPk_ypHe",
    "outputId": "1563a29e-6bf9-4767-de81-aa6152cc284c"
   },
   "outputs": [
    {
     "name": "stdout",
     "output_type": "stream",
     "text": [
      "(36300, 30, 1)\n",
      "(24150, 30, 1)\n"
     ]
    }
   ],
   "source": [
    "timesteps = 30\n",
    "\n",
    "def create_sequences(x, time_steps=timesteps):\n",
    "    \"\"\"Функция для создания тензора размерностью:\n",
    "    (len(x), timesteps, features)\n",
    "    x : временной ряд\n",
    "    \"\"\"\n",
    "    x_seq = []\n",
    "    for i in range(len(x) - time_steps):\n",
    "        x_seq.append(x.iloc[i:(i + time_steps)].values)\n",
    "    return np.array(x_seq)\n",
    "\n",
    "X_train = create_sequences(train[[\"marks\"]])\n",
    "X_test = create_sequences(test[['marks']])\n",
    "\n",
    "print(X_train.shape, X_test.shape, sep=\"\\n\")"
   ]
  },
  {
   "cell_type": "markdown",
   "metadata": {
    "id": "tlzZGvwaHExS"
   },
   "source": [
    "Подберем размер batch size. Batch size значение должно быть кратно размерам тренировочной и тестовой выборки."
   ]
  },
  {
   "cell_type": "code",
   "execution_count": null,
   "metadata": {
    "id": "jLMmNyAOypHe"
   },
   "outputs": [],
   "source": [
    "def get_batch_size(train, test):\n",
    "    \"\"\"Функция выдающая на печать диапазон значений batch size\n",
    "    train : тренировочная выборка\n",
    "    test : тестовая выборка    \n",
    "    \"\"\"\n",
    "    \n",
    "    def isInt(value):\n",
    "        \"\"\"Функция для проверки, является ли число целым\n",
    "        value : значение\n",
    "        \"\"\"\n",
    "        return int(value) == float(value)\n",
    "    \n",
    "    \n",
    "    rows_list = []\n",
    "    for i in range(1, 128):\n",
    "        result_train = train.shape[0] / i\n",
    "        result_test = test.shape[0] / i\n",
    "        if isInt(result_train) and isInt(result_test):\n",
    "            rows_list.append([i, int(result_train), int(result_test)])\n",
    "            \n",
    "    output_df = pd.DataFrame(rows_list, columns=[\"batch_size\", \n",
    "                                                 \"train_size\", \n",
    "                                                 \"test_size\"],)\n",
    "    print(output_df)"
   ]
  },
  {
   "cell_type": "code",
   "execution_count": null,
   "metadata": {
    "colab": {
     "base_uri": "https://localhost:8080/"
    },
    "executionInfo": {
     "elapsed": 581,
     "status": "ok",
     "timestamp": 1621218067430,
     "user": {
      "displayName": "Nick Osipov",
      "photoUrl": "https://lh3.googleusercontent.com/a-/AOh14Gjmtt8jlZhtlPY9K7cMQstM8o9m5QwDXwxJd_yG=s64",
      "userId": "17245529527264073567"
     },
     "user_tz": -180
    },
    "id": "zJXJDsEqypHe",
    "outputId": "e7ce89f8-d849-4f08-c175-d8bcdf839087"
   },
   "outputs": [
    {
     "name": "stdout",
     "output_type": "stream",
     "text": [
      "    batch_size  train_size  test_size\n",
      "0            1       36300      24150\n",
      "1            2       18150      12075\n",
      "2            3       12100       8050\n",
      "3            5        7260       4830\n",
      "4            6        6050       4025\n",
      "5           10        3630       2415\n",
      "6           15        2420       1610\n",
      "7           25        1452        966\n",
      "8           30        1210        805\n",
      "9           50         726        483\n",
      "10          75         484        322\n"
     ]
    }
   ],
   "source": [
    "get_batch_size(X_train, X_test)"
   ]
  },
  {
   "cell_type": "markdown",
   "metadata": {
    "id": "ZyGXAbb5HExT"
   },
   "source": [
    "Ниже при объявлении переменных используемых в архитектуре нейронной сети выберем batch size равным 75."
   ]
  },
  {
   "cell_type": "markdown",
   "metadata": {
    "id": "XQEMf1PUypHf"
   },
   "source": [
    "# 05. Реализация архитектуры вариационного автоэнкодера (VAE) с LSTM блоками"
   ]
  },
  {
   "cell_type": "markdown",
   "metadata": {
    "id": "97Y6CK4oypHf"
   },
   "source": [
    "Создадим функции необходимые внутри архитектуры нейронной сети.\n",
    "- функция сэмплирования распределения\n",
    "- функция для борьбы с переобучением, задающая граф с двумя слоями: Dropout, BatchNormalization"
   ]
  },
  {
   "cell_type": "code",
   "execution_count": null,
   "metadata": {
    "id": "TCmUZG7RypHf"
   },
   "outputs": [],
   "source": [
    "def sampling(args):\n",
    "    \"\"\"Функция сэмплирования, для реализации логики вариационного автоэнкодера.\n",
    "    Используется в Lambda-слое VAE.\n",
    "    args : список аргументов, функция будет принимать \n",
    "    выходные данные слоев z_mean и z_log_var\n",
    "    \"\"\"\n",
    "    global batch_size, latent_dim\n",
    "    z_mean, z_log_var = args\n",
    "    epsilon = K.random_normal(shape=(batch_size, latent_dim), \n",
    "                              mean=0., \n",
    "                              stddev=1.)    \n",
    "    return z_mean + K.exp(z_log_var / 2) * epsilon\n",
    "\n",
    "def dropout_and_batchnorm(x):\n",
    "    \"\"\"Функция добавляющая слои Dropout и BatchNormalization.\n",
    "    Используется для снижения переобучения.\n",
    "    x : выход предыдущего слоя\n",
    "    \"\"\"\n",
    "    global dropout_rate\n",
    "    return Dropout(dropout_rate)(BatchNormalization()(x))"
   ]
  },
  {
   "cell_type": "markdown",
   "metadata": {
    "id": "p7EyIvzNypHg"
   },
   "source": [
    "Используем слудющие параметры описывающие архитектуру вариационного автоэнкодера:\n",
    "- Размеры слоев (указаны ниже в переменных с обозначением _dim)\n",
    "- Активационная функция: $tanh(x) =  \\frac {e^{x} - e^{-x}} {e^{x} + e^{-x}}$ (гиперболический тангенс)\n",
    "- Размер batch\n",
    "- Значения dropout rate, learning rate\n",
    "- Количество эпох обучения"
   ]
  },
  {
   "cell_type": "markdown",
   "metadata": {
    "id": "Gq1NeoaJypHg"
   },
   "source": [
    "Ниже объявим переменные необходимые для описания архитектуры вариационного автоэнкодера."
   ]
  },
  {
   "cell_type": "code",
   "execution_count": null,
   "metadata": {
    "id": "0Tek3PNNypHg"
   },
   "outputs": [],
   "source": [
    "# размеры слоев\n",
    "original_dim = X_train.shape[-1]\n",
    "first_dim = 256\n",
    "second_dim = 128\n",
    "third_dim = 64\n",
    "latent_dim = 15\n",
    "\n",
    "# настраиваемые параметры для обучения\n",
    "act_func = \"tanh\"\n",
    "batch_size = 75\n",
    "dropout_rate = 0.2\n",
    "learning_rate = 1e-4\n",
    "epochs = 100\n",
    "\n",
    "# регуляризация\n",
    "# alpha = 1e-4\n",
    "# regularizer = keras.regularizers.l2(alpha)"
   ]
  },
  {
   "cell_type": "markdown",
   "metadata": {
    "id": "OuQw4BbiypHg"
   },
   "source": [
    "Архитектура вариационного автоэнкодера.\n",
    "\n",
    "Энкодер:\n",
    "- Входной слой\n",
    "- 3 рекуррентных LSTM блока\n",
    "- Слои Dropout и BatchNormalization для ускорения обучения и снижения переобучения\n",
    "- 2 независимых полносвязных слоя описывающие среднее и дисперсию распределения\n",
    "\n",
    "Скрытый слой:\n",
    "- Lamda слой сэмплирующий из нормального распределения $N$ со средним 0 и дисперсией 1\n",
    "\n",
    "Декодер:\n",
    "- Входной слой декодера добавляющий необходимую размерность\n",
    "- 3 рекурентных LSTM блока\n",
    "- Выходной рекурентный LSTM блок"
   ]
  },
  {
   "cell_type": "markdown",
   "metadata": {
    "id": "BhgnnyWaypHh"
   },
   "source": [
    "Ниже создадим архитектуру VAE."
   ]
  },
  {
   "cell_type": "code",
   "execution_count": null,
   "metadata": {
    "id": "KkgVcHdVypHh"
   },
   "outputs": [],
   "source": [
    "# Энкодер с LSTM блоками\n",
    "input_layer = Input(batch_shape=(batch_size, timesteps, original_dim))\n",
    "x = LSTM(first_dim, return_sequences=True, activation=act_func)(input_layer)\n",
    "x = dropout_and_batchnorm(x)\n",
    "x = LSTM(second_dim, return_sequences=True, activation=act_func)(x)\n",
    "x = dropout_and_batchnorm(x)\n",
    "x = LSTM(third_dim, activation=act_func, )(x)\n",
    "\n",
    "# Скрытый Lambda слой, предсказывающий параметры распределений: \n",
    "# z_mean и z_log_var (среднее и логарифм дисперсии) \n",
    "# находящиеся на двух независимых полносвязных слоях\n",
    "z_mean = Dense(latent_dim)(x)\n",
    "z_log_var = Dense(latent_dim)(x)\n",
    "z = Lambda(sampling, output_shape=(latent_dim, ))([z_mean, z_log_var])\n",
    "\n",
    "# Декодер с LSTM блоками\n",
    "input_decoder = RepeatVector(timesteps)(z)\n",
    "h = LSTM(third_dim, return_sequences=True, activation=act_func)(input_decoder)\n",
    "h = dropout_and_batchnorm(h)\n",
    "h = LSTM(second_dim, return_sequences=True, activation=act_func)(h)\n",
    "h = dropout_and_batchnorm(h)\n",
    "h = LSTM(first_dim, return_sequences=True, activation=act_func)(h)\n",
    "output_layer = LSTM(original_dim, return_sequences=True)(h)\n",
    "\n",
    "# Создание модели VAE\n",
    "vae = Model(input_layer, output_layer, name=\"VAE\")"
   ]
  },
  {
   "cell_type": "code",
   "execution_count": null,
   "metadata": {
    "id": "aQbv7IM4ypHh"
   },
   "outputs": [],
   "source": [
    "# Реализация дивергенции Кульбака-Лейблера\n",
    "# xent_loss = objectives.mse(input_layer, output_layer)\n",
    "# kl_loss = - 0.5 * K.mean(1 + z_log_var - K.square(z_mean) - K.exp(z_log_var))\n",
    "# vae_loss = K.mean(xent_loss + kl_loss)\n",
    "# vae.add_loss(vae_loss)"
   ]
  },
  {
   "cell_type": "markdown",
   "metadata": {
    "id": "_Hbi09hIypHi"
   },
   "source": [
    "Для оптимизации будем использовать loss - средняя квадратичная ошибка (mean squared error), из пакета Keras."
   ]
  },
  {
   "cell_type": "code",
   "execution_count": null,
   "metadata": {
    "id": "gwiGeu_gypHi"
   },
   "outputs": [],
   "source": [
    "vae_loss_mse = objectives.mse(input_layer, output_layer)\n",
    "vae.add_loss(vae_loss_mse)"
   ]
  },
  {
   "cell_type": "markdown",
   "metadata": {
    "id": "mn8-YzbLHExW"
   },
   "source": [
    "В качестве оптимизатора будем использовать Adam со следующими параметрами:"
   ]
  },
  {
   "cell_type": "code",
   "execution_count": null,
   "metadata": {
    "id": "TFnGc-m_ypHi"
   },
   "outputs": [],
   "source": [
    "adam_tune = Adam(learning_rate=learning_rate, \n",
    "                 beta_1=0.9, \n",
    "                 beta_2=0.999, \n",
    "                 epsilon=1e-08, \n",
    "                 decay=0.0)"
   ]
  },
  {
   "cell_type": "markdown",
   "metadata": {
    "id": "l-S1DD3sypHi"
   },
   "source": [
    "Компиляция нейронной сети. При обучении, помимо значения loss, будем выводить значение mean absolute error."
   ]
  },
  {
   "cell_type": "code",
   "execution_count": null,
   "metadata": {
    "colab": {
     "base_uri": "https://localhost:8080/"
    },
    "executionInfo": {
     "elapsed": 634,
     "status": "ok",
     "timestamp": 1621218299344,
     "user": {
      "displayName": "Nick Osipov",
      "photoUrl": "https://lh3.googleusercontent.com/a-/AOh14Gjmtt8jlZhtlPY9K7cMQstM8o9m5QwDXwxJd_yG=s64",
      "userId": "17245529527264073567"
     },
     "user_tz": -180
    },
    "id": "ZdCUmlj8ypHi",
    "outputId": "16d23d48-ef11-409b-aba0-79496268e1be"
   },
   "outputs": [
    {
     "name": "stdout",
     "output_type": "stream",
     "text": [
      "Model: \"VAE\"\n",
      "__________________________________________________________________________________________________\n",
      "Layer (type)                    Output Shape         Param #     Connected to                     \n",
      "==================================================================================================\n",
      "input_4 (InputLayer)            [(75, 30, 1)]        0                                            \n",
      "__________________________________________________________________________________________________\n",
      "lstm_21 (LSTM)                  (75, 30, 256)        264192      input_4[0][0]                    \n",
      "__________________________________________________________________________________________________\n",
      "batch_normalization_12 (BatchNo (75, 30, 256)        1024        lstm_21[0][0]                    \n",
      "__________________________________________________________________________________________________\n",
      "dropout_12 (Dropout)            (75, 30, 256)        0           batch_normalization_12[0][0]     \n",
      "__________________________________________________________________________________________________\n",
      "lstm_22 (LSTM)                  (75, 30, 128)        197120      dropout_12[0][0]                 \n",
      "__________________________________________________________________________________________________\n",
      "batch_normalization_13 (BatchNo (75, 30, 128)        512         lstm_22[0][0]                    \n",
      "__________________________________________________________________________________________________\n",
      "dropout_13 (Dropout)            (75, 30, 128)        0           batch_normalization_13[0][0]     \n",
      "__________________________________________________________________________________________________\n",
      "lstm_23 (LSTM)                  (75, 64)             49408       dropout_13[0][0]                 \n",
      "__________________________________________________________________________________________________\n",
      "dense_6 (Dense)                 (75, 15)             975         lstm_23[0][0]                    \n",
      "__________________________________________________________________________________________________\n",
      "dense_7 (Dense)                 (75, 15)             975         lstm_23[0][0]                    \n",
      "__________________________________________________________________________________________________\n",
      "lambda_3 (Lambda)               (75, 15)             0           dense_6[0][0]                    \n",
      "                                                                 dense_7[0][0]                    \n",
      "__________________________________________________________________________________________________\n",
      "repeat_vector_3 (RepeatVector)  (75, 30, 15)         0           lambda_3[0][0]                   \n",
      "__________________________________________________________________________________________________\n",
      "lstm_24 (LSTM)                  (75, 30, 64)         20480       repeat_vector_3[0][0]            \n",
      "__________________________________________________________________________________________________\n",
      "batch_normalization_14 (BatchNo (75, 30, 64)         256         lstm_24[0][0]                    \n",
      "__________________________________________________________________________________________________\n",
      "dropout_14 (Dropout)            (75, 30, 64)         0           batch_normalization_14[0][0]     \n",
      "__________________________________________________________________________________________________\n",
      "lstm_25 (LSTM)                  (75, 30, 128)        98816       dropout_14[0][0]                 \n",
      "__________________________________________________________________________________________________\n",
      "batch_normalization_15 (BatchNo (75, 30, 128)        512         lstm_25[0][0]                    \n",
      "__________________________________________________________________________________________________\n",
      "dropout_15 (Dropout)            (75, 30, 128)        0           batch_normalization_15[0][0]     \n",
      "__________________________________________________________________________________________________\n",
      "lstm_26 (LSTM)                  (75, 30, 256)        394240      dropout_15[0][0]                 \n",
      "__________________________________________________________________________________________________\n",
      "lstm_27 (LSTM)                  (75, 30, 1)          1032        lstm_26[0][0]                    \n",
      "__________________________________________________________________________________________________\n",
      "tf.convert_to_tensor_2 (TFOpLam (75, 30, 1)          0           lstm_27[0][0]                    \n",
      "__________________________________________________________________________________________________\n",
      "tf.cast_2 (TFOpLambda)          (75, 30, 1)          0           input_4[0][0]                    \n",
      "__________________________________________________________________________________________________\n",
      "tf.math.squared_difference_2 (T (75, 30, 1)          0           tf.convert_to_tensor_2[0][0]     \n",
      "                                                                 tf.cast_2[0][0]                  \n",
      "__________________________________________________________________________________________________\n",
      "tf.math.reduce_mean_2 (TFOpLamb (75, 30)             0           tf.math.squared_difference_2[0][0\n",
      "__________________________________________________________________________________________________\n",
      "add_loss_2 (AddLoss)            (75, 30)             0           tf.math.reduce_mean_2[0][0]      \n",
      "==================================================================================================\n",
      "Total params: 1,029,542\n",
      "Trainable params: 1,028,390\n",
      "Non-trainable params: 1,152\n",
      "__________________________________________________________________________________________________\n"
     ]
    }
   ],
   "source": [
    "vae.compile(optimizer=adam_tune, metrics=[keras.metrics.MAE])\n",
    "vae.summary()"
   ]
  },
  {
   "cell_type": "markdown",
   "metadata": {
    "id": "KwIWgP1zypHj"
   },
   "source": [
    "# 06. Обучение модели, прогнозирование"
   ]
  },
  {
   "cell_type": "markdown",
   "metadata": {
    "id": "PedGQ82_ypHj"
   },
   "source": [
    "Обучим модель с помощью функции fit"
   ]
  },
  {
   "cell_type": "code",
   "execution_count": null,
   "metadata": {
    "colab": {
     "base_uri": "https://localhost:8080/"
    },
    "executionInfo": {
     "elapsed": 943918,
     "status": "ok",
     "timestamp": 1621219252828,
     "user": {
      "displayName": "Nick Osipov",
      "photoUrl": "https://lh3.googleusercontent.com/a-/AOh14Gjmtt8jlZhtlPY9K7cMQstM8o9m5QwDXwxJd_yG=s64",
      "userId": "17245529527264073567"
     },
     "user_tz": -180
    },
    "id": "4AJF0zx6ypHj",
    "outputId": "e83b142b-5aa7-4a32-e111-5acb2b9a40c4",
    "scrolled": true
   },
   "outputs": [
    {
     "name": "stdout",
     "output_type": "stream",
     "text": [
      "Epoch 1/100\n",
      "484/484 [==============================] - 47s 19ms/step - loss: 0.1618 - mean_absolute_error: 0.2154\n",
      "Epoch 2/100\n",
      "484/484 [==============================] - 9s 19ms/step - loss: 0.0988 - mean_absolute_error: 0.1319\n",
      "Epoch 3/100\n",
      "484/484 [==============================] - 9s 19ms/step - loss: 0.0943 - mean_absolute_error: 0.1202\n",
      "Epoch 4/100\n",
      "484/484 [==============================] - 9s 19ms/step - loss: 0.0876 - mean_absolute_error: 0.1076\n",
      "Epoch 5/100\n",
      "484/484 [==============================] - 9s 19ms/step - loss: 0.0847 - mean_absolute_error: 0.1007\n",
      "Epoch 6/100\n",
      "484/484 [==============================] - 9s 19ms/step - loss: 0.0864 - mean_absolute_error: 0.0983\n",
      "Epoch 7/100\n",
      "484/484 [==============================] - 9s 19ms/step - loss: 0.0875 - mean_absolute_error: 0.0979\n",
      "Epoch 8/100\n",
      "484/484 [==============================] - 9s 19ms/step - loss: 0.0892 - mean_absolute_error: 0.0944\n",
      "Epoch 9/100\n",
      "484/484 [==============================] - 9s 19ms/step - loss: 0.0834 - mean_absolute_error: 0.0888\n",
      "Epoch 10/100\n",
      "484/484 [==============================] - 9s 19ms/step - loss: 0.0845 - mean_absolute_error: 0.0885\n",
      "Epoch 11/100\n",
      "484/484 [==============================] - 9s 19ms/step - loss: 0.0781 - mean_absolute_error: 0.0835\n",
      "Epoch 12/100\n",
      "484/484 [==============================] - 9s 19ms/step - loss: 0.0874 - mean_absolute_error: 0.0885\n",
      "Epoch 13/100\n",
      "484/484 [==============================] - 9s 19ms/step - loss: 0.0869 - mean_absolute_error: 0.0871\n",
      "Epoch 14/100\n",
      "484/484 [==============================] - 9s 19ms/step - loss: 0.0838 - mean_absolute_error: 0.0842\n",
      "Epoch 15/100\n",
      "484/484 [==============================] - 9s 19ms/step - loss: 0.0831 - mean_absolute_error: 0.0829\n",
      "Epoch 16/100\n",
      "484/484 [==============================] - 9s 19ms/step - loss: 0.0804 - mean_absolute_error: 0.0794\n",
      "Epoch 17/100\n",
      "484/484 [==============================] - 9s 19ms/step - loss: 0.0819 - mean_absolute_error: 0.0806\n",
      "Epoch 18/100\n",
      "484/484 [==============================] - 9s 19ms/step - loss: 0.0823 - mean_absolute_error: 0.0796\n",
      "Epoch 19/100\n",
      "484/484 [==============================] - 9s 19ms/step - loss: 0.0872 - mean_absolute_error: 0.0824\n",
      "Epoch 20/100\n",
      "484/484 [==============================] - 9s 19ms/step - loss: 0.0848 - mean_absolute_error: 0.0803\n",
      "Epoch 21/100\n",
      "484/484 [==============================] - 9s 19ms/step - loss: 0.0810 - mean_absolute_error: 0.0775\n",
      "Epoch 22/100\n",
      "484/484 [==============================] - 9s 19ms/step - loss: 0.0822 - mean_absolute_error: 0.0782\n",
      "Epoch 23/100\n",
      "484/484 [==============================] - 9s 19ms/step - loss: 0.0824 - mean_absolute_error: 0.0779\n",
      "Epoch 24/100\n",
      "484/484 [==============================] - 9s 19ms/step - loss: 0.0810 - mean_absolute_error: 0.0772\n",
      "Epoch 25/100\n",
      "484/484 [==============================] - 9s 19ms/step - loss: 0.0847 - mean_absolute_error: 0.0785\n",
      "Epoch 26/100\n",
      "484/484 [==============================] - 9s 19ms/step - loss: 0.0853 - mean_absolute_error: 0.0785\n",
      "Epoch 27/100\n",
      "484/484 [==============================] - 9s 19ms/step - loss: 0.0815 - mean_absolute_error: 0.0761\n",
      "Epoch 28/100\n",
      "484/484 [==============================] - 9s 19ms/step - loss: 0.0798 - mean_absolute_error: 0.0743\n",
      "Epoch 29/100\n",
      "484/484 [==============================] - 9s 19ms/step - loss: 0.0788 - mean_absolute_error: 0.0743\n",
      "Epoch 30/100\n",
      "484/484 [==============================] - 9s 19ms/step - loss: 0.0784 - mean_absolute_error: 0.0737\n",
      "Epoch 31/100\n",
      "484/484 [==============================] - 9s 19ms/step - loss: 0.0782 - mean_absolute_error: 0.0729\n",
      "Epoch 32/100\n",
      "484/484 [==============================] - 9s 19ms/step - loss: 0.0757 - mean_absolute_error: 0.0713\n",
      "Epoch 33/100\n",
      "484/484 [==============================] - 9s 19ms/step - loss: 0.0805 - mean_absolute_error: 0.0744\n",
      "Epoch 34/100\n",
      "484/484 [==============================] - 9s 19ms/step - loss: 0.0805 - mean_absolute_error: 0.0744\n",
      "Epoch 35/100\n",
      "484/484 [==============================] - 9s 19ms/step - loss: 0.0850 - mean_absolute_error: 0.0763\n",
      "Epoch 36/100\n",
      "484/484 [==============================] - 9s 19ms/step - loss: 0.0780 - mean_absolute_error: 0.0718\n",
      "Epoch 37/100\n",
      "484/484 [==============================] - 9s 19ms/step - loss: 0.0792 - mean_absolute_error: 0.0722\n",
      "Epoch 38/100\n",
      "484/484 [==============================] - 9s 19ms/step - loss: 0.0820 - mean_absolute_error: 0.0741\n",
      "Epoch 39/100\n",
      "484/484 [==============================] - 9s 19ms/step - loss: 0.0786 - mean_absolute_error: 0.0719\n",
      "Epoch 40/100\n",
      "484/484 [==============================] - 9s 19ms/step - loss: 0.0828 - mean_absolute_error: 0.0734\n",
      "Epoch 41/100\n",
      "484/484 [==============================] - 9s 19ms/step - loss: 0.0805 - mean_absolute_error: 0.0731\n",
      "Epoch 42/100\n",
      "484/484 [==============================] - 9s 19ms/step - loss: 0.0835 - mean_absolute_error: 0.0744\n",
      "Epoch 43/100\n",
      "484/484 [==============================] - 9s 19ms/step - loss: 0.0812 - mean_absolute_error: 0.0737\n",
      "Epoch 44/100\n",
      "484/484 [==============================] - 9s 19ms/step - loss: 0.0805 - mean_absolute_error: 0.0724\n",
      "Epoch 45/100\n",
      "484/484 [==============================] - 9s 19ms/step - loss: 0.0794 - mean_absolute_error: 0.0710\n",
      "Epoch 46/100\n",
      "484/484 [==============================] - 9s 19ms/step - loss: 0.0843 - mean_absolute_error: 0.0743\n",
      "Epoch 47/100\n",
      "484/484 [==============================] - 9s 19ms/step - loss: 0.0826 - mean_absolute_error: 0.0730\n",
      "Epoch 48/100\n",
      "484/484 [==============================] - 9s 19ms/step - loss: 0.0805 - mean_absolute_error: 0.0731\n",
      "Epoch 49/100\n",
      "484/484 [==============================] - 9s 19ms/step - loss: 0.0797 - mean_absolute_error: 0.0716\n",
      "Epoch 50/100\n",
      "484/484 [==============================] - 9s 18ms/step - loss: 0.0815 - mean_absolute_error: 0.0725\n",
      "Epoch 51/100\n",
      "484/484 [==============================] - 9s 19ms/step - loss: 0.0786 - mean_absolute_error: 0.0706\n",
      "Epoch 52/100\n",
      "484/484 [==============================] - 9s 19ms/step - loss: 0.0835 - mean_absolute_error: 0.0734\n",
      "Epoch 53/100\n",
      "484/484 [==============================] - 9s 19ms/step - loss: 0.0811 - mean_absolute_error: 0.0716\n",
      "Epoch 54/100\n",
      "484/484 [==============================] - 9s 19ms/step - loss: 0.0826 - mean_absolute_error: 0.0725\n",
      "Epoch 55/100\n",
      "484/484 [==============================] - 9s 19ms/step - loss: 0.0807 - mean_absolute_error: 0.0713\n",
      "Epoch 56/100\n",
      "484/484 [==============================] - 9s 18ms/step - loss: 0.0851 - mean_absolute_error: 0.0739\n",
      "Epoch 57/100\n",
      "484/484 [==============================] - 9s 18ms/step - loss: 0.0837 - mean_absolute_error: 0.0728\n",
      "Epoch 58/100\n",
      "484/484 [==============================] - 9s 18ms/step - loss: 0.0849 - mean_absolute_error: 0.0732\n",
      "Epoch 59/100\n",
      "484/484 [==============================] - 9s 19ms/step - loss: 0.0823 - mean_absolute_error: 0.0712\n",
      "Epoch 60/100\n",
      "484/484 [==============================] - 9s 19ms/step - loss: 0.0800 - mean_absolute_error: 0.0699\n",
      "Epoch 61/100\n",
      "484/484 [==============================] - 9s 19ms/step - loss: 0.0804 - mean_absolute_error: 0.0708\n",
      "Epoch 62/100\n",
      "484/484 [==============================] - 9s 19ms/step - loss: 0.0802 - mean_absolute_error: 0.0704\n",
      "Epoch 63/100\n",
      "484/484 [==============================] - 9s 19ms/step - loss: 0.0859 - mean_absolute_error: 0.0733\n",
      "Epoch 64/100\n",
      "484/484 [==============================] - 9s 18ms/step - loss: 0.0807 - mean_absolute_error: 0.0705\n",
      "Epoch 65/100\n",
      "484/484 [==============================] - 9s 18ms/step - loss: 0.0808 - mean_absolute_error: 0.0708\n",
      "Epoch 66/100\n",
      "484/484 [==============================] - 9s 19ms/step - loss: 0.0816 - mean_absolute_error: 0.0708\n",
      "Epoch 67/100\n",
      "484/484 [==============================] - 9s 19ms/step - loss: 0.0811 - mean_absolute_error: 0.0705\n",
      "Epoch 68/100\n",
      "484/484 [==============================] - 9s 19ms/step - loss: 0.0819 - mean_absolute_error: 0.0707\n",
      "Epoch 69/100\n",
      "484/484 [==============================] - 9s 18ms/step - loss: 0.0797 - mean_absolute_error: 0.0693\n",
      "Epoch 70/100\n",
      "484/484 [==============================] - 9s 19ms/step - loss: 0.0801 - mean_absolute_error: 0.0695\n",
      "Epoch 71/100\n",
      "484/484 [==============================] - 9s 18ms/step - loss: 0.0764 - mean_absolute_error: 0.0677\n",
      "Epoch 72/100\n",
      "484/484 [==============================] - 9s 19ms/step - loss: 0.0799 - mean_absolute_error: 0.0693\n",
      "Epoch 73/100\n",
      "484/484 [==============================] - 9s 19ms/step - loss: 0.0818 - mean_absolute_error: 0.0708\n",
      "Epoch 74/100\n",
      "484/484 [==============================] - 9s 19ms/step - loss: 0.0837 - mean_absolute_error: 0.0715\n",
      "Epoch 75/100\n",
      "484/484 [==============================] - 9s 19ms/step - loss: 0.0824 - mean_absolute_error: 0.0709\n",
      "Epoch 76/100\n",
      "484/484 [==============================] - 9s 19ms/step - loss: 0.0810 - mean_absolute_error: 0.0700\n",
      "Epoch 77/100\n",
      "484/484 [==============================] - 9s 19ms/step - loss: 0.0793 - mean_absolute_error: 0.0686\n",
      "Epoch 78/100\n",
      "484/484 [==============================] - 9s 19ms/step - loss: 0.0799 - mean_absolute_error: 0.0694\n",
      "Epoch 79/100\n",
      "484/484 [==============================] - 9s 19ms/step - loss: 0.0824 - mean_absolute_error: 0.0706\n",
      "Epoch 80/100\n",
      "484/484 [==============================] - 9s 19ms/step - loss: 0.0751 - mean_absolute_error: 0.0661\n",
      "Epoch 81/100\n",
      "484/484 [==============================] - 9s 19ms/step - loss: 0.0794 - mean_absolute_error: 0.0691\n",
      "Epoch 82/100\n",
      "484/484 [==============================] - 9s 19ms/step - loss: 0.0835 - mean_absolute_error: 0.0709\n",
      "Epoch 83/100\n",
      "484/484 [==============================] - 9s 19ms/step - loss: 0.0817 - mean_absolute_error: 0.0699\n",
      "Epoch 84/100\n",
      "484/484 [==============================] - 9s 19ms/step - loss: 0.0784 - mean_absolute_error: 0.0678\n",
      "Epoch 85/100\n",
      "484/484 [==============================] - 9s 18ms/step - loss: 0.0788 - mean_absolute_error: 0.0676\n",
      "Epoch 86/100\n",
      "484/484 [==============================] - 9s 19ms/step - loss: 0.0815 - mean_absolute_error: 0.0701\n",
      "Epoch 87/100\n",
      "484/484 [==============================] - 9s 19ms/step - loss: 0.0826 - mean_absolute_error: 0.0699\n",
      "Epoch 88/100\n",
      "484/484 [==============================] - 9s 19ms/step - loss: 0.0765 - mean_absolute_error: 0.0667\n",
      "Epoch 89/100\n",
      "484/484 [==============================] - 9s 19ms/step - loss: 0.0825 - mean_absolute_error: 0.0700\n",
      "Epoch 90/100\n",
      "484/484 [==============================] - 9s 19ms/step - loss: 0.0840 - mean_absolute_error: 0.0712\n",
      "Epoch 91/100\n",
      "484/484 [==============================] - 9s 18ms/step - loss: 0.0786 - mean_absolute_error: 0.0679\n",
      "Epoch 92/100\n",
      "484/484 [==============================] - 9s 18ms/step - loss: 0.0788 - mean_absolute_error: 0.0679\n",
      "Epoch 93/100\n",
      "484/484 [==============================] - 9s 18ms/step - loss: 0.0824 - mean_absolute_error: 0.0699\n",
      "Epoch 94/100\n",
      "484/484 [==============================] - 9s 18ms/step - loss: 0.0783 - mean_absolute_error: 0.0679\n",
      "Epoch 95/100\n",
      "484/484 [==============================] - 9s 19ms/step - loss: 0.0847 - mean_absolute_error: 0.0713\n",
      "Epoch 96/100\n",
      "484/484 [==============================] - 9s 19ms/step - loss: 0.0804 - mean_absolute_error: 0.0686\n",
      "Epoch 97/100\n",
      "484/484 [==============================] - 9s 19ms/step - loss: 0.0748 - mean_absolute_error: 0.0655\n",
      "Epoch 98/100\n",
      "484/484 [==============================] - 9s 19ms/step - loss: 0.0797 - mean_absolute_error: 0.0680\n",
      "Epoch 99/100\n",
      "484/484 [==============================] - 9s 19ms/step - loss: 0.0839 - mean_absolute_error: 0.0702\n",
      "Epoch 100/100\n",
      "484/484 [==============================] - 9s 19ms/step - loss: 0.0859 - mean_absolute_error: 0.0716\n"
     ]
    },
    {
     "data": {
      "text/plain": [
       "<tensorflow.python.keras.callbacks.History at 0x7f583f8006d0>"
      ]
     },
     "execution_count": 41,
     "metadata": {
      "tags": []
     },
     "output_type": "execute_result"
    }
   ],
   "source": [
    "vae.fit(X_train, X_train, epochs=epochs, batch_size=batch_size)"
   ]
  },
  {
   "cell_type": "markdown",
   "metadata": {
    "id": "u5ufrA6iypHj"
   },
   "source": [
    "Сгенерируем прогнозы, сохраним в переменные X_train_pred, X_test_pred"
   ]
  },
  {
   "cell_type": "code",
   "execution_count": null,
   "metadata": {
    "id": "NwpeBH1EypHj",
    "scrolled": false
   },
   "outputs": [],
   "source": [
    "X_train_pred = vae.predict(X_train, batch_size=batch_size)\n",
    "X_test_pred = vae.predict(X_test, batch_size=batch_size)"
   ]
  },
  {
   "cell_type": "markdown",
   "metadata": {
    "id": "W2DujSfWypHk"
   },
   "source": [
    "# 07. Метрика"
   ]
  },
  {
   "cell_type": "markdown",
   "metadata": {
    "id": "2wXAaOreypHk"
   },
   "source": [
    "Для возврата к исходному масштабу значений, используем ранее сохраненные среднее и стандартное отклонение временного ряда (переменные mean_x, stddev_x)\n",
    "\n",
    "Для валидации модели, используем метрику median absolute error из библиотеки sklearn."
   ]
  },
  {
   "cell_type": "code",
   "execution_count": null,
   "metadata": {
    "id": "JsaTyDdlypHl"
   },
   "outputs": [],
   "source": [
    "def inverse_standartization(x):\n",
    "    \"\"\"Функция возвращающая значения к оригинальному масштабу\n",
    "    x : временной ряд\n",
    "    \"\"\"\n",
    "    global mean_x, stddev_x\n",
    "    return (x * stddev_x) + mean_x"
   ]
  },
  {
   "cell_type": "code",
   "execution_count": null,
   "metadata": {
    "id": "PbzARiWyik16"
   },
   "outputs": [],
   "source": [
    "# исходные данные\n",
    "train_unscaled = inverse_standartization(X_train[:, 0, 0])\n",
    "test_unscaled = inverse_standartization(X_test[:, 0, 0])"
   ]
  },
  {
   "cell_type": "code",
   "execution_count": null,
   "metadata": {
    "id": "ob6mCLmoHExY"
   },
   "outputs": [],
   "source": [
    "# сгенерированные данные\n",
    "train_pred_unscaled = inverse_standartization(X_train_pred[:, 0, 0])\n",
    "test_pred_unscaled = inverse_standartization(X_test_pred[:, 0, 0])"
   ]
  },
  {
   "cell_type": "markdown",
   "metadata": {
    "id": "ZFtXO9yXHExZ"
   },
   "source": [
    "Проверим значение целевой метрики на тестовой выборке."
   ]
  },
  {
   "cell_type": "code",
   "execution_count": null,
   "metadata": {
    "colab": {
     "base_uri": "https://localhost:8080/"
    },
    "executionInfo": {
     "elapsed": 570,
     "status": "ok",
     "timestamp": 1621219319287,
     "user": {
      "displayName": "Nick Osipov",
      "photoUrl": "https://lh3.googleusercontent.com/a-/AOh14Gjmtt8jlZhtlPY9K7cMQstM8o9m5QwDXwxJd_yG=s64",
      "userId": "17245529527264073567"
     },
     "user_tz": -180
    },
    "id": "0kk8W-IVHExZ",
    "outputId": "9f5b2bd1-8ecb-48c3-a9f1-bcefba3f45c9"
   },
   "outputs": [
    {
     "name": "stdout",
     "output_type": "stream",
     "text": [
      "Median Absolute Error:\n",
      "7.067003110478453\n"
     ]
    }
   ],
   "source": [
    "metric_medae = median_absolute_error(test_unscaled, test_pred_unscaled)\n",
    "print(\"Median Absolute Error:\", metric_medae, sep=\"\\n\")"
   ]
  },
  {
   "cell_type": "markdown",
   "metadata": {
    "id": "6z5HpY9rHExZ"
   },
   "source": [
    "Необходимая по точность модели (median absolute error < 10) достигнута."
   ]
  },
  {
   "cell_type": "markdown",
   "metadata": {
    "id": "n9oej-u1ypHl"
   },
   "source": [
    "# 08. Визуализация сгенерированных данных"
   ]
  },
  {
   "cell_type": "markdown",
   "metadata": {
    "id": "4vN4UftDypHl"
   },
   "source": [
    "Визуализируем сгенерированные данные с помощью библиотеки Plotly.\n",
    "\n",
    "На графиках ниже представлены реальные и сгенерированные данные, а также вектор абсолютных ошибок между реальными и сгенерированными данными."
   ]
  },
  {
   "cell_type": "code",
   "execution_count": null,
   "metadata": {
    "id": "W7l2Nd4QypHl"
   },
   "outputs": [],
   "source": [
    "def get_errors(real, pred):\n",
    "    \"\"\"Функция возвращающая вектор абсолютных ошибок\n",
    "    real : исходный временной ряд\n",
    "    pred : сгенерированный временной ряд    \n",
    "    \"\"\"\n",
    "    return np.abs(real - pred)"
   ]
  },
  {
   "cell_type": "code",
   "execution_count": null,
   "metadata": {
    "id": "tpIkS_91ypHm"
   },
   "outputs": [],
   "source": [
    "def get_result_plot(real, pred, name):\n",
    "    \"\"\"Функция выводящая графики реального и сгенерированного временного ряда\n",
    "    real : исходный временной ряд\n",
    "    pred : сгенерированный временной ряд\n",
    "    name : наименование выборки\n",
    "    \"\"\"\n",
    "    global timestamps\n",
    "    # значения ошибок\n",
    "    errors = get_errors(real, pred)\n",
    "    \n",
    "    # фигура для 2 графиков\n",
    "    fig = subplots.make_subplots(\n",
    "        rows=3, \n",
    "        cols=1,\n",
    "        specs=[[{\"rowspan\": 2}],\n",
    "               [None],\n",
    "               [{}]],\n",
    "        subplot_titles=(f\"VAE generated time series from {name} marks\",\n",
    "                        f\"Absolute errors predictions on {name} marks\"))    \n",
    "    # добавление графиков\n",
    "    # реальные значения\n",
    "    fig.add_trace(go.Scatter(x=timestamps, y=real, \n",
    "                             name=name, opacity=0.8),\n",
    "                     row=1, col=1)\n",
    "    # сгенерированные значения\n",
    "    fig.add_trace(go.Scatter(x=timestamps, y=pred, \n",
    "                             name=\"Predict\", opacity=0.6),\n",
    "                     row=1, col=1)\n",
    "    # абсолютные ошибки\n",
    "    fig.add_trace(go.Scatter(x=timestamps, y=errors, \n",
    "                             name=\"Error\", opacity=1),\n",
    "                     row=3, col=1)                  \n",
    "    # подпись осей\n",
    "    fig.update_xaxes(title_text=\"Time\", row=3, col=1)\n",
    "    fig.update_yaxes(title_text=\"Marks\", row=1, col=1)\n",
    "    fig.update_yaxes(title_text=\"Errors\", row=3, col=1)\n",
    "    # установка размера и легенды\n",
    "    fig.update_layout(showlegend=True, height=700)\n",
    "    fig.show()"
   ]
  },
  {
   "cell_type": "markdown",
   "metadata": {
    "id": "itp5hvCywEjM"
   },
   "source": [
    "Первый график - данные сгенерированные вариационным автоэнкодером на тренировочной выборке."
   ]
  },
  {
   "cell_type": "code",
   "execution_count": null,
   "metadata": {
    "colab": {
     "base_uri": "https://localhost:8080/",
     "height": 716,
     "output_embedded_package_id": "10iy9LzmyP8isuGJWymt5H8cb-PH_93Yu"
    },
    "executionInfo": {
     "elapsed": 7156,
     "status": "ok",
     "timestamp": 1621219359929,
     "user": {
      "displayName": "Nick Osipov",
      "photoUrl": "https://lh3.googleusercontent.com/a-/AOh14Gjmtt8jlZhtlPY9K7cMQstM8o9m5QwDXwxJd_yG=s64",
      "userId": "17245529527264073567"
     },
     "user_tz": -180
    },
    "id": "hzohXo1PypHm",
    "outputId": "44a5d851-e667-41d7-a640-15f4de1014df"
   },
   "outputs": [
    {
     "data": {
      "text/plain": [
       "Output hidden; open in https://colab.research.google.com to view."
      ]
     },
     "metadata": {},
     "output_type": "display_data"
    }
   ],
   "source": [
    "get_result_plot(real=train_unscaled, pred=train_pred_unscaled, name=\"Train\")"
   ]
  },
  {
   "cell_type": "markdown",
   "metadata": {
    "id": "QVTrpAdOypHq"
   },
   "source": [
    "Второй график - данные сгенерированные из тестовой выборки."
   ]
  },
  {
   "cell_type": "code",
   "execution_count": null,
   "metadata": {
    "colab": {
     "base_uri": "https://localhost:8080/",
     "height": 716,
     "output_embedded_package_id": "1TP8PPqGHcRHKUxfUSxqknCvMWw5z7-cL"
    },
    "executionInfo": {
     "elapsed": 6552,
     "status": "ok",
     "timestamp": 1621219372109,
     "user": {
      "displayName": "Nick Osipov",
      "photoUrl": "https://lh3.googleusercontent.com/a-/AOh14Gjmtt8jlZhtlPY9K7cMQstM8o9m5QwDXwxJd_yG=s64",
      "userId": "17245529527264073567"
     },
     "user_tz": -180
    },
    "id": "0lPwM-ppypHr",
    "outputId": "94fa3084-9919-4858-dee0-56afc2ffe2a0"
   },
   "outputs": [
    {
     "data": {
      "text/plain": [
       "Output hidden; open in https://colab.research.google.com to view."
      ]
     },
     "metadata": {},
     "output_type": "display_data"
    }
   ],
   "source": [
    "get_result_plot(real=test_unscaled, pred=test_pred_unscaled, name=\"Test\")"
   ]
  },
  {
   "cell_type": "markdown",
   "metadata": {
    "id": "cSNYVFo3ypHy"
   },
   "source": [
    "# 09. Заключение"
   ]
  },
  {
   "cell_type": "markdown",
   "metadata": {
    "id": "UQJUzJDkypHy"
   },
   "source": [
    "- Проведена предобработка и визуализация данных.\n",
    "- Разработана архитектура нейронной сети - вариационного автоэнкодера (VAE).\n",
    "- Проведена валидация обученной нейронной сети. Необходимая точность достигнута."
   ]
  }
 ],
 "metadata": {
  "accelerator": "GPU",
  "colab": {
   "collapsed_sections": [],
   "name": "OsipovNO_test_task_2_chemtechai_data_analyst.ipynb",
   "provenance": []
  },
  "kernelspec": {
   "display_name": "Python 3",
   "language": "python",
   "name": "python3"
  },
  "language_info": {
   "codemirror_mode": {
    "name": "ipython",
    "version": 3
   },
   "file_extension": ".py",
   "mimetype": "text/x-python",
   "name": "python",
   "nbconvert_exporter": "python",
   "pygments_lexer": "ipython3",
   "version": "3.8.3"
  },
  "toc": {
   "base_numbering": 1,
   "nav_menu": {},
   "number_sections": false,
   "sideBar": true,
   "skip_h1_title": false,
   "title_cell": "Table of Contents",
   "title_sidebar": "Contents",
   "toc_cell": false,
   "toc_position": {
    "height": "calc(100% - 180px)",
    "left": "10px",
    "top": "150px",
    "width": "349.091px"
   },
   "toc_section_display": true,
   "toc_window_display": true
  }
 },
 "nbformat": 4,
 "nbformat_minor": 1
}
